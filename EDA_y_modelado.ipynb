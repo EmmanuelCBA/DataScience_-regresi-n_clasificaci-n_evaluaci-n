{
 "cells": [
  {
   "cell_type": "markdown",
   "id": "5-s_bl5LnCz7",
   "metadata": {
    "id": "5-s_bl5LnCz7"
   },
   "source": [
    "# **Proceso**\n",
    "Esta notebook contiene el análisis de datos de un dataset que nos indica en base a información de un conjunto de personas el ingreso anual diferido entre si es mayor o igual a 50K dólares o menor a 50K dólares. \n",
    "\n",
    "La función es generar un modelo de machine learning de clasificación que nos prediga en qué categoria entra la persona. \n",
    "\n",
    "En primer lugar se analizarán los datos para evaluar la incidencia de cada feature en relacion a nuestro target, luego se transfomarán los datos para entrenar el modelo de prediccón. \n",
    "\n",
    "La salida del programa deberá ser 1 si la persona gana >50 K y 0 si la persona gana =< 50K.\n",
    "\n",
    "Disponemos de dos dataset: \n",
    "*   Train.cvs = será utilizado para analizar los datos y configurar el modelo de predicción.\n",
    "*   Test.cvs = será utilizado para correr el modelo y predicir nuesto target (si la persona gana más de 50K por año)\n"
   ]
  },
  {
   "cell_type": "markdown",
   "id": "hXSA-FgAnPjj",
   "metadata": {
    "id": "hXSA-FgAnPjj"
   },
   "source": [
    "Se importan todas las librerías necesarias para el análisis exploratorio de datos. "
   ]
  },
  {
   "cell_type": "code",
   "execution_count": 122,
   "id": "df5896cc",
   "metadata": {
    "execution": {
     "iopub.execute_input": "2022-05-11T17:07:00.181902Z",
     "iopub.status.busy": "2022-05-11T17:07:00.181345Z",
     "iopub.status.idle": "2022-05-11T17:07:01.386042Z",
     "shell.execute_reply": "2022-05-11T17:07:01.385285Z"
    },
    "id": "df5896cc",
    "papermill": {
     "duration": 1.291099,
     "end_time": "2022-05-11T17:07:01.388535",
     "exception": false,
     "start_time": "2022-05-11T17:07:00.097436",
     "status": "completed"
    },
    "tags": []
   },
   "outputs": [],
   "source": [
    "import numpy as np\n",
    "import pandas as pd\n",
    "import matplotlib.pyplot as plt\n",
    "import seaborn as sns\n",
    "sns.set_style(style='darkgrid', rc={\"grid.color\": \".8\", \"grid.linestyle\": \"--\"})\n",
    "\n",
    "%matplotlib inline\n",
    "\n",
    "import warnings\n",
    "warnings.filterwarnings(\"ignore\")\n"
   ]
  },
  {
   "cell_type": "markdown",
   "id": "hF2FWWlPmpkr",
   "metadata": {
    "id": "hF2FWWlPmpkr"
   },
   "source": [
    "Se cargo a la plataforma de GitHub los archivos entregados para la confección del práctico para independizar la lectura del archivo, bajo el nombre income.\n",
    "\n",
    "https://github.com/EvDelacost/income \n",
    "\n",
    "A continuación se utiliza pandas para leer ambos archivos"
   ]
  },
  {
   "cell_type": "code",
   "execution_count": 123,
   "id": "expressed-nature",
   "metadata": {
    "id": "expressed-nature"
   },
   "outputs": [],
   "source": [
    "url_train = \"https://raw.githubusercontent.com/EvDelacost/income/main/train.csv\"\n",
    "df = pd.read_csv(url_train)"
   ]
  },
  {
   "cell_type": "code",
   "execution_count": 124,
   "id": "81450f5f",
   "metadata": {
    "colab": {
     "base_uri": "https://localhost:8080/",
     "height": 357
    },
    "execution": {
     "iopub.execute_input": "2022-05-11T17:07:01.843812Z",
     "iopub.status.busy": "2022-05-11T17:07:01.843204Z",
     "iopub.status.idle": "2022-05-11T17:07:01.869383Z",
     "shell.execute_reply": "2022-05-11T17:07:01.868705Z"
    },
    "id": "81450f5f",
    "outputId": "26473199-ad9d-40dd-9453-1d7117f57284",
    "papermill": {
     "duration": 0.107496,
     "end_time": "2022-05-11T17:07:01.872946",
     "exception": false,
     "start_time": "2022-05-11T17:07:01.765450",
     "status": "completed"
    },
    "tags": []
   },
   "outputs": [
    {
     "data": {
      "text/html": [
       "<div>\n",
       "<style scoped>\n",
       "    .dataframe tbody tr th:only-of-type {\n",
       "        vertical-align: middle;\n",
       "    }\n",
       "\n",
       "    .dataframe tbody tr th {\n",
       "        vertical-align: top;\n",
       "    }\n",
       "\n",
       "    .dataframe thead th {\n",
       "        text-align: right;\n",
       "    }\n",
       "</style>\n",
       "<table border=\"1\" class=\"dataframe\">\n",
       "  <thead>\n",
       "    <tr style=\"text-align: right;\">\n",
       "      <th></th>\n",
       "      <th>index</th>\n",
       "      <th>age</th>\n",
       "      <th>workclass</th>\n",
       "      <th>education</th>\n",
       "      <th>education.num</th>\n",
       "      <th>marital.status</th>\n",
       "      <th>occupation</th>\n",
       "      <th>relationship</th>\n",
       "      <th>race</th>\n",
       "      <th>sex</th>\n",
       "      <th>capital.gain</th>\n",
       "      <th>capital.loss</th>\n",
       "      <th>hours.per.week</th>\n",
       "      <th>native.country</th>\n",
       "      <th>income</th>\n",
       "      <th>ID</th>\n",
       "    </tr>\n",
       "  </thead>\n",
       "  <tbody>\n",
       "    <tr>\n",
       "      <th>0</th>\n",
       "      <td>24466</td>\n",
       "      <td>30</td>\n",
       "      <td>Local-gov</td>\n",
       "      <td>HS-grad</td>\n",
       "      <td>9</td>\n",
       "      <td>Divorced</td>\n",
       "      <td>Protective-serv</td>\n",
       "      <td>Own-child</td>\n",
       "      <td>White</td>\n",
       "      <td>Female</td>\n",
       "      <td>0</td>\n",
       "      <td>0</td>\n",
       "      <td>32</td>\n",
       "      <td>United-States</td>\n",
       "      <td>&lt;=50K</td>\n",
       "      <td>24451</td>\n",
       "    </tr>\n",
       "    <tr>\n",
       "      <th>1</th>\n",
       "      <td>985</td>\n",
       "      <td>37</td>\n",
       "      <td>Private</td>\n",
       "      <td>Bachelors</td>\n",
       "      <td>13</td>\n",
       "      <td>Married-civ-spouse</td>\n",
       "      <td>Exec-managerial</td>\n",
       "      <td>Wife</td>\n",
       "      <td>White</td>\n",
       "      <td>Female</td>\n",
       "      <td>0</td>\n",
       "      <td>1848</td>\n",
       "      <td>40</td>\n",
       "      <td>United-States</td>\n",
       "      <td>&gt;50K</td>\n",
       "      <td>985</td>\n",
       "    </tr>\n",
       "    <tr>\n",
       "      <th>2</th>\n",
       "      <td>30250</td>\n",
       "      <td>41</td>\n",
       "      <td>Private</td>\n",
       "      <td>HS-grad</td>\n",
       "      <td>9</td>\n",
       "      <td>Married-civ-spouse</td>\n",
       "      <td>Craft-repair</td>\n",
       "      <td>Husband</td>\n",
       "      <td>White</td>\n",
       "      <td>Male</td>\n",
       "      <td>0</td>\n",
       "      <td>0</td>\n",
       "      <td>60</td>\n",
       "      <td>United-States</td>\n",
       "      <td>&gt;50K</td>\n",
       "      <td>30229</td>\n",
       "    </tr>\n",
       "    <tr>\n",
       "      <th>3</th>\n",
       "      <td>7107</td>\n",
       "      <td>45</td>\n",
       "      <td>Private</td>\n",
       "      <td>Bachelors</td>\n",
       "      <td>13</td>\n",
       "      <td>Married-civ-spouse</td>\n",
       "      <td>Prof-specialty</td>\n",
       "      <td>Husband</td>\n",
       "      <td>White</td>\n",
       "      <td>Male</td>\n",
       "      <td>0</td>\n",
       "      <td>0</td>\n",
       "      <td>60</td>\n",
       "      <td>United-States</td>\n",
       "      <td>&gt;50K</td>\n",
       "      <td>7107</td>\n",
       "    </tr>\n",
       "    <tr>\n",
       "      <th>4</th>\n",
       "      <td>27656</td>\n",
       "      <td>28</td>\n",
       "      <td>Private</td>\n",
       "      <td>HS-grad</td>\n",
       "      <td>9</td>\n",
       "      <td>Never-married</td>\n",
       "      <td>Exec-managerial</td>\n",
       "      <td>Not-in-family</td>\n",
       "      <td>White</td>\n",
       "      <td>Female</td>\n",
       "      <td>0</td>\n",
       "      <td>0</td>\n",
       "      <td>40</td>\n",
       "      <td>United-States</td>\n",
       "      <td>&lt;=50K</td>\n",
       "      <td>27639</td>\n",
       "    </tr>\n",
       "  </tbody>\n",
       "</table>\n",
       "</div>"
      ],
      "text/plain": [
       "   index  age  workclass  education  education.num      marital.status  \\\n",
       "0  24466   30  Local-gov    HS-grad              9            Divorced   \n",
       "1    985   37    Private  Bachelors             13  Married-civ-spouse   \n",
       "2  30250   41    Private    HS-grad              9  Married-civ-spouse   \n",
       "3   7107   45    Private  Bachelors             13  Married-civ-spouse   \n",
       "4  27656   28    Private    HS-grad              9       Never-married   \n",
       "\n",
       "        occupation   relationship   race     sex  capital.gain  capital.loss  \\\n",
       "0  Protective-serv      Own-child  White  Female             0             0   \n",
       "1  Exec-managerial           Wife  White  Female             0          1848   \n",
       "2     Craft-repair        Husband  White    Male             0             0   \n",
       "3   Prof-specialty        Husband  White    Male             0             0   \n",
       "4  Exec-managerial  Not-in-family  White  Female             0             0   \n",
       "\n",
       "   hours.per.week native.country income     ID  \n",
       "0              32  United-States  <=50K  24451  \n",
       "1              40  United-States   >50K    985  \n",
       "2              60  United-States   >50K  30229  \n",
       "3              60  United-States   >50K   7107  \n",
       "4              40  United-States  <=50K  27639  "
      ]
     },
     "execution_count": 124,
     "metadata": {},
     "output_type": "execute_result"
    }
   ],
   "source": [
    "df.head()"
   ]
  },
  {
   "cell_type": "code",
   "execution_count": 125,
   "id": "liberal-battlefield",
   "metadata": {
    "colab": {
     "base_uri": "https://localhost:8080/"
    },
    "id": "liberal-battlefield",
    "outputId": "8887a669-b3d7-4143-ab3b-0436e08c0569"
   },
   "outputs": [
    {
     "data": {
      "text/plain": [
       "(27656, 16)"
      ]
     },
     "execution_count": 125,
     "metadata": {},
     "output_type": "execute_result"
    }
   ],
   "source": [
    "df.shape"
   ]
  },
  {
   "cell_type": "code",
   "execution_count": 126,
   "id": "2bc1cf9e",
   "metadata": {
    "colab": {
     "base_uri": "https://localhost:8080/"
    },
    "execution": {
     "iopub.execute_input": "2022-05-11T17:07:02.031628Z",
     "iopub.status.busy": "2022-05-11T17:07:02.030977Z",
     "iopub.status.idle": "2022-05-11T17:07:02.088834Z",
     "shell.execute_reply": "2022-05-11T17:07:02.086848Z"
    },
    "id": "2bc1cf9e",
    "outputId": "a50a95ad-00e2-4a4e-df13-91c8604f00d0",
    "papermill": {
     "duration": 0.14,
     "end_time": "2022-05-11T17:07:02.091675",
     "exception": false,
     "start_time": "2022-05-11T17:07:01.951675",
     "status": "completed"
    },
    "tags": []
   },
   "outputs": [
    {
     "name": "stdout",
     "output_type": "stream",
     "text": [
      "<class 'pandas.core.frame.DataFrame'>\n",
      "RangeIndex: 27656 entries, 0 to 27655\n",
      "Data columns (total 16 columns):\n",
      " #   Column          Non-Null Count  Dtype \n",
      "---  ------          --------------  ----- \n",
      " 0   index           27656 non-null  int64 \n",
      " 1   age             27656 non-null  int64 \n",
      " 2   workclass       27656 non-null  object\n",
      " 3   education       27656 non-null  object\n",
      " 4   education.num   27656 non-null  int64 \n",
      " 5   marital.status  27656 non-null  object\n",
      " 6   occupation      27656 non-null  object\n",
      " 7   relationship    27656 non-null  object\n",
      " 8   race            27656 non-null  object\n",
      " 9   sex             27656 non-null  object\n",
      " 10  capital.gain    27656 non-null  int64 \n",
      " 11  capital.loss    27656 non-null  int64 \n",
      " 12  hours.per.week  27656 non-null  int64 \n",
      " 13  native.country  27656 non-null  object\n",
      " 14  income          27656 non-null  object\n",
      " 15  ID              27656 non-null  int64 \n",
      "dtypes: int64(7), object(9)\n",
      "memory usage: 3.4+ MB\n"
     ]
    }
   ],
   "source": [
    "df.info()"
   ]
  },
  {
   "cell_type": "markdown",
   "id": "1505f287",
   "metadata": {
    "id": "1505f287",
    "papermill": {
     "duration": 0.080849,
     "end_time": "2022-05-11T17:07:02.255277",
     "exception": false,
     "start_time": "2022-05-11T17:07:02.174428",
     "status": "completed"
    },
    "tags": []
   },
   "source": [
    "# **EDA**"
   ]
  },
  {
   "cell_type": "markdown",
   "id": "broadband-hundred",
   "metadata": {
    "id": "broadband-hundred"
   },
   "source": [
    "- Buscamos valores nulos en nuestro dataset"
   ]
  },
  {
   "cell_type": "code",
   "execution_count": 127,
   "id": "7ce9a342",
   "metadata": {
    "colab": {
     "base_uri": "https://localhost:8080/"
    },
    "execution": {
     "iopub.execute_input": "2022-05-11T17:07:02.423129Z",
     "iopub.status.busy": "2022-05-11T17:07:02.422139Z",
     "iopub.status.idle": "2022-05-11T17:07:02.427347Z",
     "shell.execute_reply": "2022-05-11T17:07:02.426574Z"
    },
    "id": "7ce9a342",
    "outputId": "c5d63a73-5290-4904-9051-baa6bd48751a",
    "papermill": {
     "duration": 0.089675,
     "end_time": "2022-05-11T17:07:02.429391",
     "exception": false,
     "start_time": "2022-05-11T17:07:02.339716",
     "status": "completed"
    },
    "scrolled": false,
    "tags": []
   },
   "outputs": [
    {
     "data": {
      "text/plain": [
       "index             0\n",
       "age               0\n",
       "workclass         0\n",
       "education         0\n",
       "education.num     0\n",
       "marital.status    0\n",
       "occupation        0\n",
       "relationship      0\n",
       "race              0\n",
       "sex               0\n",
       "capital.gain      0\n",
       "capital.loss      0\n",
       "hours.per.week    0\n",
       "native.country    0\n",
       "income            0\n",
       "ID                0\n",
       "dtype: int64"
      ]
     },
     "execution_count": 127,
     "metadata": {},
     "output_type": "execute_result"
    }
   ],
   "source": [
    "df.isnull().sum()"
   ]
  },
  {
   "cell_type": "markdown",
   "id": "radio-nebraska",
   "metadata": {
    "id": "radio-nebraska"
   },
   "source": [
    "- Como no tenemos valores nulos procedemos al análisis de cada columna"
   ]
  },
  {
   "cell_type": "markdown",
   "id": "simplified-street",
   "metadata": {
    "id": "simplified-street"
   },
   "source": [
    "- Buscamos establecer si existe una correlación entre 2 o más columnas, de ser así, deberemos eliminar alguna de ellas ya que distorcionará el modelo"
   ]
  },
  {
   "cell_type": "code",
   "execution_count": 128,
   "id": "inappropriate-treasure",
   "metadata": {
    "colab": {
     "base_uri": "https://localhost:8080/",
     "height": 510
    },
    "id": "inappropriate-treasure",
    "outputId": "9910b6c5-19c2-4447-e6fb-25cb89cc3a0a",
    "scrolled": true
   },
   "outputs": [
    {
     "data": {
      "image/png": "[encoded data removed]",
      "text/plain": [
       "<Figure size 576x576 with 2 Axes>"
      ]
     },
     "metadata": {
      "needs_background": "light"
     },
     "output_type": "display_data"
    }
   ],
   "source": [
    "# Generate a mask for the upper triangle\n",
    "mask = np.triu(np.ones_like(df.corr(), dtype=bool))\n",
    "\n",
    "# Set up the matplotlib figure\n",
    "f, ax = plt.subplots(figsize=(8, 8))\n",
    "\n",
    "# Generate a custom diverging colormap\n",
    "cmap = sns.diverging_palette(240, 10, as_cmap=True)\n",
    "\n",
    "# Draw the heatmap with the mask and correct aspect ratio\n",
    "sns.heatmap(df.corr(), mask=mask, cmap=cmap, center=0,\n",
    "            square=True, linewidths=.5, annot=True)\n",
    "plt.show()"
   ]
  },
  {
   "cell_type": "markdown",
   "id": "meaningful-particle",
   "metadata": {
    "id": "meaningful-particle"
   },
   "source": [
    "- Vemos que los mámis valores de correlación son negativos y de 0.4 pero se dan con el \"index\" por lo que no tiene sentido eliminarlos"
   ]
  },
  {
   "cell_type": "markdown",
   "id": "7f4c9245",
   "metadata": {
    "id": "7f4c9245",
    "papermill": {
     "duration": 0.077541,
     "end_time": "2022-05-11T17:07:02.583880",
     "exception": false,
     "start_time": "2022-05-11T17:07:02.506339",
     "status": "completed"
    },
    "tags": []
   },
   "source": [
    "## Age\n",
    "\n",
    "Edad de cada persona"
   ]
  },
  {
   "cell_type": "code",
   "execution_count": 129,
   "id": "passive-development",
   "metadata": {
    "colab": {
     "base_uri": "https://localhost:8080/"
    },
    "id": "passive-development",
    "outputId": "88619322-970f-42f3-f1a0-fed67536f58c"
   },
   "outputs": [
    {
     "data": {
      "text/plain": [
       "array([30, 37, 41, 45, 28, 32, 31, 59, 57, 42, 54, 26, 49, 66, 44, 39, 20,\n",
       "       24, 62, 29, 64, 58, 47, 23, 22, 51, 55, 40, 61, 69, 60, 33, 36, 56,\n",
       "       72, 21, 74, 67, 48, 68, 63, 25, 18, 19, 52, 34, 50, 35, 17, 82, 43,\n",
       "       27, 38, 84, 46, 90, 53, 71, 70, 76, 65, 73, 80, 75, 77, 79, 78, 81,\n",
       "       85, 88, 83, 87, 86], dtype=int64)"
      ]
     },
     "execution_count": 129,
     "metadata": {},
     "output_type": "execute_result"
    }
   ],
   "source": [
    "# ANALIZAMOS TODOS LOS VALORES QUE TOMA ESTA VARIABLE\n",
    "\n",
    "df.age.unique()"
   ]
  },
  {
   "cell_type": "code",
   "execution_count": 130,
   "id": "727ca42b",
   "metadata": {
    "colab": {
     "base_uri": "https://localhost:8080/",
     "height": 313
    },
    "execution": {
     "iopub.execute_input": "2022-05-11T17:07:03.333524Z",
     "iopub.status.busy": "2022-05-11T17:07:03.332979Z",
     "iopub.status.idle": "2022-05-11T17:07:03.861499Z",
     "shell.execute_reply": "2022-05-11T17:07:03.860580Z"
    },
    "id": "727ca42b",
    "outputId": "23c96024-cb24-4d60-be2b-5cd81d8aa770",
    "papermill": {
     "duration": 0.610747,
     "end_time": "2022-05-11T17:07:03.863764",
     "exception": false,
     "start_time": "2022-05-11T17:07:03.253017",
     "status": "completed"
    },
    "scrolled": true,
    "tags": []
   },
   "outputs": [
    {
     "data": {
      "image/png": "[encoded data removed]",
      "text/plain": [
       "<Figure size 576x288 with 1 Axes>"
      ]
     },
     "metadata": {
      "needs_background": "light"
     },
     "output_type": "display_data"
    }
   ],
   "source": [
    "plt.figure(figsize=(8,4))\n",
    "sns.histplot(x=df['age'],hue=df['income'],bins=15)\n",
    "plt.tight_layout()\n",
    "plt.grid(True)\n",
    "plt.title('Distribución de edades')\n",
    "plt.show()"
   ]
  },
  {
   "cell_type": "markdown",
   "id": "21686d32",
   "metadata": {
    "id": "21686d32",
    "papermill": {
     "duration": 0.080004,
     "end_time": "2022-05-11T17:07:04.024812",
     "exception": false,
     "start_time": "2022-05-11T17:07:03.944808",
     "status": "completed"
    },
    "tags": []
   },
   "source": [
    "- Del gráfico podemos ver que en el grupo de edad 0-20 no hay ningún ingreso de salario mayor a 50k, lo mismo ocurre con el grupo mayor a 75 años.\n",
    "\n",
    "- Hacemos un diagrama de caja para analizar si hay outliers"
   ]
  },
  {
   "cell_type": "code",
   "execution_count": 131,
   "id": "structured-poultry",
   "metadata": {
    "colab": {
     "base_uri": "https://localhost:8080/",
     "height": 296
    },
    "id": "structured-poultry",
    "outputId": "53c7cc1b-769b-427f-daec-86edc05528db",
    "scrolled": true
   },
   "outputs": [
    {
     "data": {
      "text/plain": [
       "<AxesSubplot:xlabel='age'>"
      ]
     },
     "execution_count": 131,
     "metadata": {},
     "output_type": "execute_result"
    },
    {
     "data": {
      "image/png": "[encoded data removed]",
      "text/plain": [
       "<Figure size 432x288 with 1 Axes>"
      ]
     },
     "metadata": {
      "needs_background": "light"
     },
     "output_type": "display_data"
    }
   ],
   "source": [
    "sns.boxplot(df.age)"
   ]
  },
  {
   "cell_type": "code",
   "execution_count": 132,
   "id": "blond-tomorrow",
   "metadata": {
    "colab": {
     "base_uri": "https://localhost:8080/"
    },
    "id": "blond-tomorrow",
    "outputId": "c30b7390-1de4-403c-9c1e-2fec51c9568c",
    "scrolled": true
   },
   "outputs": [
    {
     "data": {
      "text/plain": [
       "count    27656.000000\n",
       "mean        38.610356\n",
       "std         13.659928\n",
       "min         17.000000\n",
       "25%         28.000000\n",
       "50%         37.000000\n",
       "75%         48.000000\n",
       "max         90.000000\n",
       "Name: age, dtype: float64"
      ]
     },
     "execution_count": 132,
     "metadata": {},
     "output_type": "execute_result"
    }
   ],
   "source": [
    "df.age.describe()"
   ]
  },
  {
   "cell_type": "code",
   "execution_count": 133,
   "id": "august-leader",
   "metadata": {
    "colab": {
     "base_uri": "https://localhost:8080/"
    },
    "id": "august-leader",
    "outputId": "193dd6bf-053e-4b9e-c34a-e0b327d8c8c1",
    "scrolled": true
   },
   "outputs": [
    {
     "data": {
      "text/plain": [
       "87"
      ]
     },
     "execution_count": 133,
     "metadata": {},
     "output_type": "execute_result"
    }
   ],
   "source": [
    "df.age[df.age>80].value_counts().sum()"
   ]
  },
  {
   "cell_type": "markdown",
   "id": "graduate-society",
   "metadata": {
    "id": "graduate-society"
   },
   "source": [
    "- Como los outliers son solo 87 datos, procedemos a descartar todos los valores que estan fuera del bigote derecho (outliers)"
   ]
  },
  {
   "cell_type": "code",
   "execution_count": 134,
   "id": "south-somalia",
   "metadata": {
    "colab": {
     "base_uri": "https://localhost:8080/"
    },
    "id": "south-somalia",
    "outputId": "b1a5f5c2-8218-4a67-e5a8-fc2571b8595e"
   },
   "outputs": [
    {
     "data": {
      "text/plain": [
       "(27569, 16)"
      ]
     },
     "execution_count": 134,
     "metadata": {},
     "output_type": "execute_result"
    }
   ],
   "source": [
    "df.drop(df[df['age']>80].index,inplace=True)\n",
    "df.shape"
   ]
  },
  {
   "cell_type": "markdown",
   "id": "a2763cf6",
   "metadata": {
    "id": "a2763cf6",
    "papermill": {
     "duration": 0.080625,
     "end_time": "2022-05-11T17:07:04.186291",
     "exception": false,
     "start_time": "2022-05-11T17:07:04.105666",
     "status": "completed"
    },
    "tags": []
   },
   "source": [
    "## Work Class\n",
    "\n",
    "Valores que toma la variable \"workclass\": Private, Self-emp-not-inc, Self-emp-inc, Federal-gov, Local-gov, State-gov, Without-pay, Never-worked. \n",
    "\n",
    "Es una variable categorica que deberemos convertir a numérica\n",
    "\n",
    "- ANALIZAMOS TODOS LOS VALORES QUE TOMA ESTA VARIABLE\n"
   ]
  },
  {
   "cell_type": "code",
   "execution_count": 135,
   "id": "protecting-competition",
   "metadata": {
    "colab": {
     "base_uri": "https://localhost:8080/"
    },
    "id": "protecting-competition",
    "outputId": "c3da5514-cecd-4f39-ec34-6c1021810186"
   },
   "outputs": [
    {
     "data": {
      "text/plain": [
       "array(['Local-gov', 'Private', 'Federal-gov', 'Self-emp-not-inc', '?',\n",
       "       'State-gov', 'Self-emp-inc', 'Without-pay', 'Never-worked'],\n",
       "      dtype=object)"
      ]
     },
     "execution_count": 135,
     "metadata": {},
     "output_type": "execute_result"
    }
   ],
   "source": [
    "df.workclass.unique()"
   ]
  },
  {
   "cell_type": "markdown",
   "id": "devoted-colombia",
   "metadata": {
    "id": "devoted-colombia"
   },
   "source": [
    "- Vemos que hay una categoría que no está definida: **\"?\"**. Procedemos a contarlos"
   ]
  },
  {
   "cell_type": "code",
   "execution_count": 136,
   "id": "american-issue",
   "metadata": {
    "colab": {
     "base_uri": "https://localhost:8080/"
    },
    "id": "american-issue",
    "outputId": "ccfea4fc-d8b0-460e-c0a9-250ba32d5377"
   },
   "outputs": [
    {
     "data": {
      "text/plain": [
       "1519"
      ]
     },
     "execution_count": 136,
     "metadata": {},
     "output_type": "execute_result"
    }
   ],
   "source": [
    "df.workclass[df.workclass=='?'].value_counts().sum()"
   ]
  },
  {
   "cell_type": "markdown",
   "id": "european-tribe",
   "metadata": {
    "id": "european-tribe"
   },
   "source": [
    "- Podemos ver que hay valores de Clase de trabajo definidos como **\" ? \"** que parece ser datos de error. Como es muy inferior, simplemente eliminaré estos registros. Además, los dos valores **Sin pago** y **Nunca trabajado** son insignificantes y, por lo tanto, es seguro descartarlos también."
   ]
  },
  {
   "cell_type": "code",
   "execution_count": 137,
   "id": "fresh-slave",
   "metadata": {
    "colab": {
     "base_uri": "https://localhost:8080/"
    },
    "id": "fresh-slave",
    "outputId": "e9fdaf6c-66eb-47fa-d9d3-0822e85ccb60"
   },
   "outputs": [
    {
     "data": {
      "text/plain": [
       "(26050, 16)"
      ]
     },
     "execution_count": 137,
     "metadata": {},
     "output_type": "execute_result"
    }
   ],
   "source": [
    "df.drop(df[df['workclass']=='?'].index,inplace=True)\n",
    "df.shape"
   ]
  },
  {
   "cell_type": "code",
   "execution_count": 138,
   "id": "focal-biodiversity",
   "metadata": {
    "colab": {
     "base_uri": "https://localhost:8080/"
    },
    "id": "focal-biodiversity",
    "outputId": "2798a0c2-1f2e-4b59-f965-3543356179fe"
   },
   "outputs": [
    {
     "data": {
      "text/plain": [
       "(26029, 16)"
      ]
     },
     "execution_count": 138,
     "metadata": {},
     "output_type": "execute_result"
    }
   ],
   "source": [
    "df.drop(df[df['workclass']=='Never-worked'].index,inplace=True)\n",
    "df.drop(df[df['workclass']=='Without-pay'].index,inplace=True)\n",
    "df.shape"
   ]
  },
  {
   "cell_type": "code",
   "execution_count": 139,
   "id": "d0a2c7fc",
   "metadata": {
    "colab": {
     "base_uri": "https://localhost:8080/",
     "height": 297
    },
    "execution": {
     "iopub.execute_input": "2022-05-11T17:07:04.349505Z",
     "iopub.status.busy": "2022-05-11T17:07:04.349191Z",
     "iopub.status.idle": "2022-05-11T17:07:04.690658Z",
     "shell.execute_reply": "2022-05-11T17:07:04.689697Z"
    },
    "id": "d0a2c7fc",
    "outputId": "6ca2043a-aa33-44e8-a3d3-dcf53455fe92",
    "papermill": {
     "duration": 0.426334,
     "end_time": "2022-05-11T17:07:04.693199",
     "exception": false,
     "start_time": "2022-05-11T17:07:04.266865",
     "status": "completed"
    },
    "scrolled": true,
    "tags": []
   },
   "outputs": [
    {
     "data": {
      "image/png": "[encoded data removed]",
      "text/plain": [
       "<Figure size 576x288 with 1 Axes>"
      ]
     },
     "metadata": {
      "needs_background": "light"
     },
     "output_type": "display_data"
    }
   ],
   "source": [
    "plt.figure(figsize=(8,4))\n",
    "sns.countplot(y=df['workclass'], saturation=0.9,edgecolor=\"black\")\n",
    "plt.tight_layout()\n",
    "plt.grid(True)\n",
    "plt.show()"
   ]
  },
  {
   "cell_type": "markdown",
   "id": "ranging-frame",
   "metadata": {
    "id": "ranging-frame"
   },
   "source": [
    "- Visualizamos la clase trabajadora en funcón del ingreso \"Income\""
   ]
  },
  {
   "cell_type": "code",
   "execution_count": 140,
   "id": "bf2246b8",
   "metadata": {
    "colab": {
     "base_uri": "https://localhost:8080/",
     "height": 297
    },
    "execution": {
     "iopub.execute_input": "2022-05-11T17:07:04.856316Z",
     "iopub.status.busy": "2022-05-11T17:07:04.855979Z",
     "iopub.status.idle": "2022-05-11T17:07:05.319615Z",
     "shell.execute_reply": "2022-05-11T17:07:05.318957Z"
    },
    "id": "bf2246b8",
    "outputId": "da3c8e02-9bbb-40fd-ef08-8e22309cd58c",
    "papermill": {
     "duration": 0.547129,
     "end_time": "2022-05-11T17:07:05.321606",
     "exception": false,
     "start_time": "2022-05-11T17:07:04.774477",
     "status": "completed"
    },
    "scrolled": true,
    "tags": []
   },
   "outputs": [
    {
     "data": {
      "image/png": "[encoded data removed]",
      "text/plain": [
       "<Figure size 576x288 with 1 Axes>"
      ]
     },
     "metadata": {
      "needs_background": "light"
     },
     "output_type": "display_data"
    }
   ],
   "source": [
    "plt.figure(figsize=(8,4))\n",
    "sns.countplot(y=df['workclass'],hue=df['income'],saturation=0.9,edgecolor=\"black\")\n",
    "plt.tight_layout()\n",
    "plt.grid(True)\n",
    "plt.show()"
   ]
  },
  {
   "cell_type": "markdown",
   "id": "ibSiEYd9Dd-m",
   "metadata": {
    "id": "ibSiEYd9Dd-m"
   },
   "source": [
    "La mayoría de los individuos trabajan en el sector privado. Las probabilidades de ganar más de 50,000 son similares entre las clases de trabajo, excepto para los autónomos y el gobierno federal.\n",
    "\n",
    "Para poder procesar esta información en un futuro aplicamos un **\"getdummies\"**\n"
   ]
  },
  {
   "cell_type": "code",
   "execution_count": 141,
   "id": "proprietary-techno",
   "metadata": {
    "colab": {
     "base_uri": "https://localhost:8080/",
     "height": 438
    },
    "id": "proprietary-techno",
    "outputId": "0be548a5-6271-4969-d3c6-281a66cb0899"
   },
   "outputs": [
    {
     "data": {
      "text/html": [
       "<div>\n",
       "<style scoped>\n",
       "    .dataframe tbody tr th:only-of-type {\n",
       "        vertical-align: middle;\n",
       "    }\n",
       "\n",
       "    .dataframe tbody tr th {\n",
       "        vertical-align: top;\n",
       "    }\n",
       "\n",
       "    .dataframe thead th {\n",
       "        text-align: right;\n",
       "    }\n",
       "</style>\n",
       "<table border=\"1\" class=\"dataframe\">\n",
       "  <thead>\n",
       "    <tr style=\"text-align: right;\">\n",
       "      <th></th>\n",
       "      <th>index</th>\n",
       "      <th>age</th>\n",
       "      <th>education</th>\n",
       "      <th>education.num</th>\n",
       "      <th>marital.status</th>\n",
       "      <th>occupation</th>\n",
       "      <th>relationship</th>\n",
       "      <th>race</th>\n",
       "      <th>sex</th>\n",
       "      <th>capital.gain</th>\n",
       "      <th>...</th>\n",
       "      <th>hours.per.week</th>\n",
       "      <th>native.country</th>\n",
       "      <th>income</th>\n",
       "      <th>ID</th>\n",
       "      <th>Federal-gov</th>\n",
       "      <th>Local-gov</th>\n",
       "      <th>Private</th>\n",
       "      <th>Self-emp-inc</th>\n",
       "      <th>Self-emp-not-inc</th>\n",
       "      <th>State-gov</th>\n",
       "    </tr>\n",
       "  </thead>\n",
       "  <tbody>\n",
       "    <tr>\n",
       "      <th>0</th>\n",
       "      <td>24466</td>\n",
       "      <td>30</td>\n",
       "      <td>HS-grad</td>\n",
       "      <td>9</td>\n",
       "      <td>Divorced</td>\n",
       "      <td>Protective-serv</td>\n",
       "      <td>Own-child</td>\n",
       "      <td>White</td>\n",
       "      <td>Female</td>\n",
       "      <td>0</td>\n",
       "      <td>...</td>\n",
       "      <td>32</td>\n",
       "      <td>United-States</td>\n",
       "      <td>&lt;=50K</td>\n",
       "      <td>24451</td>\n",
       "      <td>0</td>\n",
       "      <td>1</td>\n",
       "      <td>0</td>\n",
       "      <td>0</td>\n",
       "      <td>0</td>\n",
       "      <td>0</td>\n",
       "    </tr>\n",
       "    <tr>\n",
       "      <th>1</th>\n",
       "      <td>985</td>\n",
       "      <td>37</td>\n",
       "      <td>Bachelors</td>\n",
       "      <td>13</td>\n",
       "      <td>Married-civ-spouse</td>\n",
       "      <td>Exec-managerial</td>\n",
       "      <td>Wife</td>\n",
       "      <td>White</td>\n",
       "      <td>Female</td>\n",
       "      <td>0</td>\n",
       "      <td>...</td>\n",
       "      <td>40</td>\n",
       "      <td>United-States</td>\n",
       "      <td>&gt;50K</td>\n",
       "      <td>985</td>\n",
       "      <td>0</td>\n",
       "      <td>0</td>\n",
       "      <td>1</td>\n",
       "      <td>0</td>\n",
       "      <td>0</td>\n",
       "      <td>0</td>\n",
       "    </tr>\n",
       "    <tr>\n",
       "      <th>2</th>\n",
       "      <td>30250</td>\n",
       "      <td>41</td>\n",
       "      <td>HS-grad</td>\n",
       "      <td>9</td>\n",
       "      <td>Married-civ-spouse</td>\n",
       "      <td>Craft-repair</td>\n",
       "      <td>Husband</td>\n",
       "      <td>White</td>\n",
       "      <td>Male</td>\n",
       "      <td>0</td>\n",
       "      <td>...</td>\n",
       "      <td>60</td>\n",
       "      <td>United-States</td>\n",
       "      <td>&gt;50K</td>\n",
       "      <td>30229</td>\n",
       "      <td>0</td>\n",
       "      <td>0</td>\n",
       "      <td>1</td>\n",
       "      <td>0</td>\n",
       "      <td>0</td>\n",
       "      <td>0</td>\n",
       "    </tr>\n",
       "    <tr>\n",
       "      <th>3</th>\n",
       "      <td>7107</td>\n",
       "      <td>45</td>\n",
       "      <td>Bachelors</td>\n",
       "      <td>13</td>\n",
       "      <td>Married-civ-spouse</td>\n",
       "      <td>Prof-specialty</td>\n",
       "      <td>Husband</td>\n",
       "      <td>White</td>\n",
       "      <td>Male</td>\n",
       "      <td>0</td>\n",
       "      <td>...</td>\n",
       "      <td>60</td>\n",
       "      <td>United-States</td>\n",
       "      <td>&gt;50K</td>\n",
       "      <td>7107</td>\n",
       "      <td>0</td>\n",
       "      <td>0</td>\n",
       "      <td>1</td>\n",
       "      <td>0</td>\n",
       "      <td>0</td>\n",
       "      <td>0</td>\n",
       "    </tr>\n",
       "    <tr>\n",
       "      <th>4</th>\n",
       "      <td>27656</td>\n",
       "      <td>28</td>\n",
       "      <td>HS-grad</td>\n",
       "      <td>9</td>\n",
       "      <td>Never-married</td>\n",
       "      <td>Exec-managerial</td>\n",
       "      <td>Not-in-family</td>\n",
       "      <td>White</td>\n",
       "      <td>Female</td>\n",
       "      <td>0</td>\n",
       "      <td>...</td>\n",
       "      <td>40</td>\n",
       "      <td>United-States</td>\n",
       "      <td>&lt;=50K</td>\n",
       "      <td>27639</td>\n",
       "      <td>0</td>\n",
       "      <td>0</td>\n",
       "      <td>1</td>\n",
       "      <td>0</td>\n",
       "      <td>0</td>\n",
       "      <td>0</td>\n",
       "    </tr>\n",
       "  </tbody>\n",
       "</table>\n",
       "<p>5 rows × 21 columns</p>\n",
       "</div>"
      ],
      "text/plain": [
       "   index  age  education  education.num      marital.status       occupation  \\\n",
       "0  24466   30    HS-grad              9            Divorced  Protective-serv   \n",
       "1    985   37  Bachelors             13  Married-civ-spouse  Exec-managerial   \n",
       "2  30250   41    HS-grad              9  Married-civ-spouse     Craft-repair   \n",
       "3   7107   45  Bachelors             13  Married-civ-spouse   Prof-specialty   \n",
       "4  27656   28    HS-grad              9       Never-married  Exec-managerial   \n",
       "\n",
       "    relationship   race     sex  capital.gain  ...  hours.per.week  \\\n",
       "0      Own-child  White  Female             0  ...              32   \n",
       "1           Wife  White  Female             0  ...              40   \n",
       "2        Husband  White    Male             0  ...              60   \n",
       "3        Husband  White    Male             0  ...              60   \n",
       "4  Not-in-family  White  Female             0  ...              40   \n",
       "\n",
       "   native.country income     ID  Federal-gov  Local-gov  Private  \\\n",
       "0   United-States  <=50K  24451            0          1        0   \n",
       "1   United-States   >50K    985            0          0        1   \n",
       "2   United-States   >50K  30229            0          0        1   \n",
       "3   United-States   >50K   7107            0          0        1   \n",
       "4   United-States  <=50K  27639            0          0        1   \n",
       "\n",
       "   Self-emp-inc  Self-emp-not-inc  State-gov  \n",
       "0             0                 0          0  \n",
       "1             0                 0          0  \n",
       "2             0                 0          0  \n",
       "3             0                 0          0  \n",
       "4             0                 0          0  \n",
       "\n",
       "[5 rows x 21 columns]"
      ]
     },
     "execution_count": 141,
     "metadata": {},
     "output_type": "execute_result"
    }
   ],
   "source": [
    "pd.get_dummies(df.workclass)\n",
    "\n",
    "dummies = pd.get_dummies(df.workclass) # Obtenemos dummies\n",
    "df = pd.concat([df, dummies], axis=1) # Concatenamos horizontalmente con axis=1\n",
    "df = df.drop('workclass', axis=1)\n",
    "#df = df.drop('elf-emp-not-inc', axis=1)\n",
    "\n",
    "df.head()"
   ]
  },
  {
   "cell_type": "markdown",
   "id": "643868bf",
   "metadata": {
    "id": "643868bf",
    "papermill": {
     "duration": 0.083723,
     "end_time": "2022-05-11T17:07:07.253231",
     "exception": false,
     "start_time": "2022-05-11T17:07:07.169508",
     "status": "completed"
    },
    "tags": []
   },
   "source": [
    "## Education\n",
    "\n",
    "La variable **\"education\"** toma los siguinetes valore: Bachelors, Some-college, 11th, HS-grad, Prof-school, Assoc-acdm, Assoc-voc, 9th, 7th-8th, 12th, Masters, 1st-4th, 10th, Doctorate, 5th-6th, Preschool.\n",
    "\n",
    "La variable **\"education.num\"** está asociada a la variable **\"education\"** y representa la cantidad de años que el sujeto ha estudiado. Por lo que para alimentar nuestro modelo usaremos **\"education.num\"** que es un \"label encoder de **\"education\"**\n",
    "\n",
    "Analizamos si hay valores \"extraños\":"
   ]
  },
  {
   "cell_type": "code",
   "execution_count": 142,
   "id": "antique-welding",
   "metadata": {
    "colab": {
     "base_uri": "https://localhost:8080/"
    },
    "id": "antique-welding",
    "outputId": "db9d84c6-a6c0-40da-e664-eb06272d1d53"
   },
   "outputs": [
    {
     "data": {
      "text/plain": [
       "array(['HS-grad', 'Bachelors', 'Some-college', '7th-8th', 'Assoc-voc',\n",
       "       'Masters', 'Assoc-acdm', '1st-4th', '5th-6th', 'Prof-school',\n",
       "       '9th', '10th', '11th', '12th', 'Doctorate', 'Preschool'],\n",
       "      dtype=object)"
      ]
     },
     "execution_count": 142,
     "metadata": {},
     "output_type": "execute_result"
    }
   ],
   "source": [
    "df.education.unique()"
   ]
  },
  {
   "cell_type": "code",
   "execution_count": 143,
   "id": "improved-promotion",
   "metadata": {
    "colab": {
     "base_uri": "https://localhost:8080/"
    },
    "id": "improved-promotion",
    "outputId": "a42a7e1d-c094-4f46-8160-0fb561481415"
   },
   "outputs": [
    {
     "name": "stdout",
     "output_type": "stream",
     "text": [
      "Para HS-grad, el número de educación es [9]\n",
      "Para Bachelors, el número de educación es [13]\n",
      "Para Some-college, el número de educación es [10]\n",
      "Para 7th-8th, el número de educación es [4]\n",
      "Para Assoc-voc, el número de educación es [11]\n",
      "Para Masters, el número de educación es [14]\n",
      "Para Assoc-acdm, el número de educación es [12]\n",
      "Para 1st-4th, el número de educación es [2]\n",
      "Para 5th-6th, el número de educación es [3]\n",
      "Para Prof-school, el número de educación es [15]\n",
      "Para 9th, el número de educación es [5]\n",
      "Para 10th, el número de educación es [6]\n",
      "Para 11th, el número de educación es [7]\n",
      "Para 12th, el número de educación es [8]\n",
      "Para Doctorate, el número de educación es [16]\n",
      "Para Preschool, el número de educación es [1]\n"
     ]
    }
   ],
   "source": [
    "education_classes = df['education'].unique()\n",
    "for edu_class in education_classes:\n",
    "    print(\"Para {}, el número de educación es {}\"\n",
    "          .format(edu_class, df[df['education'] == edu_class]['education.num'].unique()))"
   ]
  },
  {
   "cell_type": "code",
   "execution_count": 144,
   "id": "european-radio",
   "metadata": {
    "colab": {
     "base_uri": "https://localhost:8080/",
     "height": 334
    },
    "id": "european-radio",
    "outputId": "0706c810-f413-461f-bc33-2bfe3377d178",
    "scrolled": true
   },
   "outputs": [
    {
     "data": {
      "image/png": "[encoded data removed]",
      "text/plain": [
       "<Figure size 1080x360 with 1 Axes>"
      ]
     },
     "metadata": {
      "needs_background": "light"
     },
     "output_type": "display_data"
    }
   ],
   "source": [
    "plt.figure(figsize = (15,5))\n",
    "sns.countplot(x = 'education.num',hue = 'income', data = df )\n",
    "plt.show()"
   ]
  },
  {
   "cell_type": "markdown",
   "id": "conventional-hepatitis",
   "metadata": {
    "id": "conventional-hepatitis"
   },
   "source": [
    "\n",
    "Para las personas que han completado su educación hasta el 12º, son pocos que ganan más de 50K dólares al año.\n",
    "\n",
    "Para las personas que pertenecen a la categoría de HS-grad, Bachiller, Some-college en el nivel educativo, hay más personas que ganan más de 50K dólares al año.\n",
    "\n",
    "La mayoría de las personas en el conjunto de datos tienen como máximo una educación secundaria, mientras que solo una pequeña parte tiene un doctorado. En su mayor parte, un mayor nivel de educación se correlaciona con un mayor porcentaje de personas con la etiqueta >50k.\n",
    "\n",
    "- Procedemos a droppear \"education\"\n"
   ]
  },
  {
   "cell_type": "code",
   "execution_count": 145,
   "id": "vietnamese-tokyo",
   "metadata": {
    "id": "vietnamese-tokyo",
    "papermill": {
     "duration": 0.08966,
     "end_time": "2022-05-11T17:07:10.397837",
     "exception": false,
     "start_time": "2022-05-11T17:07:10.308177",
     "status": "completed"
    },
    "tags": []
   },
   "outputs": [],
   "source": [
    "df.drop(['education'],axis=1,inplace=True)"
   ]
  },
  {
   "cell_type": "markdown",
   "id": "5bb201b7",
   "metadata": {
    "id": "5bb201b7",
    "papermill": {
     "duration": 0.093198,
     "end_time": "2022-05-11T17:07:10.581821",
     "exception": false,
     "start_time": "2022-05-11T17:07:10.488623",
     "status": "completed"
    },
    "tags": []
   },
   "source": [
    "## Marital status\n",
    "\n",
    "Esta variable toma los valores **\"marital-status\"**: Married-civ-spouse, Divorced, Never-married, Separated, Widowed, Married-spouse-absent, Married-AF-spouse."
   ]
  },
  {
   "cell_type": "code",
   "execution_count": 146,
   "id": "relative-eclipse",
   "metadata": {
    "colab": {
     "base_uri": "https://localhost:8080/"
    },
    "id": "relative-eclipse",
    "outputId": "cda82e20-945c-4a34-bd66-f564eacafad9"
   },
   "outputs": [
    {
     "data": {
      "text/plain": [
       "array(['Divorced', 'Married-civ-spouse', 'Never-married', 'Widowed',\n",
       "       'Separated', 'Married-spouse-absent', 'Married-AF-spouse'],\n",
       "      dtype=object)"
      ]
     },
     "execution_count": 146,
     "metadata": {},
     "output_type": "execute_result"
    }
   ],
   "source": [
    "df['marital.status'].unique()"
   ]
  },
  {
   "cell_type": "code",
   "execution_count": 147,
   "id": "6878a80a",
   "metadata": {
    "colab": {
     "base_uri": "https://localhost:8080/",
     "height": 297
    },
    "execution": {
     "iopub.execute_input": "2022-05-11T17:07:10.787565Z",
     "iopub.status.busy": "2022-05-11T17:07:10.787013Z",
     "iopub.status.idle": "2022-05-11T17:07:11.178455Z",
     "shell.execute_reply": "2022-05-11T17:07:11.177606Z"
    },
    "id": "6878a80a",
    "outputId": "be6f4265-643d-48a8-bae7-4bacf18abb53",
    "papermill": {
     "duration": 0.485238,
     "end_time": "2022-05-11T17:07:11.180465",
     "exception": false,
     "start_time": "2022-05-11T17:07:10.695227",
     "status": "completed"
    },
    "tags": []
   },
   "outputs": [
    {
     "data": {
      "image/png": "[encoded data removed]",
      "text/plain": [
       "<Figure size 576x288 with 1 Axes>"
      ]
     },
     "metadata": {
      "needs_background": "light"
     },
     "output_type": "display_data"
    }
   ],
   "source": [
    "plt.figure(figsize=(8,4))\n",
    "sns.countplot(y=df['marital.status'],saturation=0.9,edgecolor=\"black\")\n",
    "plt.tight_layout()\n",
    "plt.grid(True)\n",
    "plt.show()"
   ]
  },
  {
   "cell_type": "code",
   "execution_count": 148,
   "id": "d84e5589",
   "metadata": {
    "colab": {
     "base_uri": "https://localhost:8080/",
     "height": 441
    },
    "execution": {
     "iopub.execute_input": "2022-05-11T17:07:11.367356Z",
     "iopub.status.busy": "2022-05-11T17:07:11.366771Z",
     "iopub.status.idle": "2022-05-11T17:07:11.814759Z",
     "shell.execute_reply": "2022-05-11T17:07:11.813765Z"
    },
    "id": "d84e5589",
    "outputId": "f5a74ae4-492f-4f5d-e0c7-e9a8ce65d2aa",
    "papermill": {
     "duration": 0.545217,
     "end_time": "2022-05-11T17:07:11.817031",
     "exception": false,
     "start_time": "2022-05-11T17:07:11.271814",
     "status": "completed"
    },
    "tags": []
   },
   "outputs": [
    {
     "data": {
      "image/png": "[encoded data removed]",
      "text/plain": [
       "<Figure size 720x432 with 1 Axes>"
      ]
     },
     "metadata": {
      "needs_background": "light"
     },
     "output_type": "display_data"
    }
   ],
   "source": [
    "plt.figure(figsize=(10,6))\n",
    "sns.countplot(y=df['marital.status'],hue=df['income'],saturation=0.9,edgecolor=\"black\")\n",
    "plt.tight_layout()\n",
    "plt.grid(True)\n",
    "plt.show()"
   ]
  },
  {
   "cell_type": "markdown",
   "id": "d25f23cb",
   "metadata": {
    "id": "d25f23cb",
    "papermill": {
     "duration": 0.092799,
     "end_time": "2022-05-11T17:07:12.002608",
     "exception": false,
     "start_time": "2022-05-11T17:07:11.909809",
     "status": "completed"
    },
    "tags": []
   },
   "source": [
    "En la clase Casado-civ-cónyuge hay más porcentaje de valores con más de 50k de salario. Podemos transformar esta variable en casado y soltero."
   ]
  },
  {
   "cell_type": "code",
   "execution_count": 149,
   "id": "1c59decb",
   "metadata": {
    "execution": {
     "iopub.execute_input": "2022-05-11T17:07:12.389146Z",
     "iopub.status.busy": "2022-05-11T17:07:12.388322Z",
     "iopub.status.idle": "2022-05-11T17:07:12.393971Z",
     "shell.execute_reply": "2022-05-11T17:07:12.393350Z"
    },
    "id": "1c59decb",
    "papermill": {
     "duration": 0.101111,
     "end_time": "2022-05-11T17:07:12.396048",
     "exception": false,
     "start_time": "2022-05-11T17:07:12.294937",
     "status": "completed"
    },
    "tags": []
   },
   "outputs": [],
   "source": [
    "def married(val):\n",
    "    if val=='Never-married':\n",
    "        return 'not-married'\n",
    "    elif val=='Divorced':\n",
    "        return 'not-married'\n",
    "    elif val=='Separated':\n",
    "        return 'not-married'\n",
    "    elif val=='Widowed':\n",
    "        return 'not-married'\n",
    "    else:\n",
    "        return 'married'"
   ]
  },
  {
   "cell_type": "code",
   "execution_count": 150,
   "id": "970ae875",
   "metadata": {
    "execution": {
     "iopub.execute_input": "2022-05-11T17:07:12.582937Z",
     "iopub.status.busy": "2022-05-11T17:07:12.582391Z",
     "iopub.status.idle": "2022-05-11T17:07:12.597585Z",
     "shell.execute_reply": "2022-05-11T17:07:12.596869Z"
    },
    "id": "970ae875",
    "papermill": {
     "duration": 0.110592,
     "end_time": "2022-05-11T17:07:12.599934",
     "exception": false,
     "start_time": "2022-05-11T17:07:12.489342",
     "status": "completed"
    },
    "tags": []
   },
   "outputs": [],
   "source": [
    "df['marital.status']=df['marital.status'].apply(married)"
   ]
  },
  {
   "cell_type": "code",
   "execution_count": 151,
   "id": "magnetic-blade",
   "metadata": {
    "colab": {
     "base_uri": "https://localhost:8080/"
    },
    "id": "magnetic-blade",
    "outputId": "5db51017-722c-4719-8129-1ba5c19439f5"
   },
   "outputs": [
    {
     "data": {
      "text/plain": [
       "array(['not-married', 'married'], dtype=object)"
      ]
     },
     "execution_count": 151,
     "metadata": {},
     "output_type": "execute_result"
    }
   ],
   "source": [
    "df['marital.status'].unique()"
   ]
  },
  {
   "cell_type": "code",
   "execution_count": 152,
   "id": "cd6b7b57",
   "metadata": {
    "colab": {
     "base_uri": "https://localhost:8080/",
     "height": 297
    },
    "execution": {
     "iopub.execute_input": "2022-05-11T17:07:12.790309Z",
     "iopub.status.busy": "2022-05-11T17:07:12.789738Z",
     "iopub.status.idle": "2022-05-11T17:07:13.099111Z",
     "shell.execute_reply": "2022-05-11T17:07:13.098423Z"
    },
    "id": "cd6b7b57",
    "outputId": "d6904e9b-9914-4e50-9734-96f478aa3c77",
    "papermill": {
     "duration": 0.405667,
     "end_time": "2022-05-11T17:07:13.101224",
     "exception": false,
     "start_time": "2022-05-11T17:07:12.695557",
     "status": "completed"
    },
    "tags": []
   },
   "outputs": [
    {
     "data": {
      "image/png": "[encoded data removed]",
      "text/plain": [
       "<Figure size 576x288 with 1 Axes>"
      ]
     },
     "metadata": {
      "needs_background": "light"
     },
     "output_type": "display_data"
    }
   ],
   "source": [
    "plt.figure(figsize=(8,4))\n",
    "sns.countplot(y=df['marital.status'],hue=df['income'],saturation=0.9,edgecolor=\"black\")\n",
    "plt.tight_layout()\n",
    "plt.grid(True)\n",
    "plt.show()"
   ]
  },
  {
   "cell_type": "markdown",
   "id": "5f4e8abf",
   "metadata": {
    "id": "5f4e8abf",
    "papermill": {
     "duration": 0.092948,
     "end_time": "2022-05-11T17:07:13.288094",
     "exception": false,
     "start_time": "2022-05-11T17:07:13.195146",
     "status": "completed"
    },
    "tags": []
   },
   "source": [
    "Podemos ver que si una persona está casada, la proporción de tener un salario de más de 50k es alta, y si no está casada, la proporción de tener un salario de más de 50k es baja.\n",
    "\n",
    "Como tenemos 2 condiciones de \"estado civil\" procedemos a aplicar OneHotEncoder y droppear una de las columnas (Ya que son valores binarios)"
   ]
  },
  {
   "cell_type": "code",
   "execution_count": 153,
   "id": "based-primary",
   "metadata": {
    "id": "based-primary",
    "scrolled": true
   },
   "outputs": [],
   "source": [
    "pd.get_dummies(df['marital.status'])\n",
    "\n",
    "dummies = pd.get_dummies(df['marital.status'])\n",
    "df= pd.concat([df, dummies], axis=1) \n",
    "\n",
    "df = df.drop('marital.status', axis=1)\n"
   ]
  },
  {
   "cell_type": "markdown",
   "id": "proprietary-medline",
   "metadata": {
    "id": "proprietary-medline"
   },
   "source": [
    "Como **\"married\"** es una variable binaria, procedemos a eliminar la columna **\"not-married\"** \n",
    "\n",
    "- 1 está casado\n",
    "\n",
    "- 0 no está casado"
   ]
  },
  {
   "cell_type": "code",
   "execution_count": 154,
   "id": "abroad-gross",
   "metadata": {
    "id": "abroad-gross"
   },
   "outputs": [],
   "source": [
    "df = df.drop('not-married', axis=1)"
   ]
  },
  {
   "cell_type": "markdown",
   "id": "563f94d5",
   "metadata": {
    "id": "563f94d5",
    "papermill": {
     "duration": 0.094237,
     "end_time": "2022-05-11T17:07:13.476239",
     "exception": false,
     "start_time": "2022-05-11T17:07:13.382002",
     "status": "completed"
    },
    "tags": []
   },
   "source": [
    "## Occupation\n",
    "\n",
    "Esta variable puede tomar los siguientes valores **occupation**: Tech-support, Craft-repair, Other-service, Sales, Exec-managerial, Prof-specialty, Handlers-cleaners, Machine-op-inspct, Adm-clerical, Farming-fishing, Transport-moving, Priv-house-serv, Protective-serv, Armed-Forces.\n",
    "\n",
    "- Buscamos valores extraños:"
   ]
  },
  {
   "cell_type": "code",
   "execution_count": 155,
   "id": "generous-spell",
   "metadata": {
    "colab": {
     "base_uri": "https://localhost:8080/"
    },
    "id": "generous-spell",
    "outputId": "712256b1-8fbb-4968-ac62-56b8f42160ee"
   },
   "outputs": [
    {
     "data": {
      "text/plain": [
       "array(['Protective-serv', 'Exec-managerial', 'Craft-repair',\n",
       "       'Prof-specialty', 'Tech-support', 'Other-service',\n",
       "       'Transport-moving', 'Adm-clerical', 'Farming-fishing',\n",
       "       'Handlers-cleaners', 'Sales', 'Machine-op-inspct',\n",
       "       'Priv-house-serv', 'Armed-Forces'], dtype=object)"
      ]
     },
     "execution_count": 155,
     "metadata": {},
     "output_type": "execute_result"
    }
   ],
   "source": [
    "df.occupation.unique()"
   ]
  },
  {
   "cell_type": "code",
   "execution_count": 156,
   "id": "3bb1b6db",
   "metadata": {
    "colab": {
     "base_uri": "https://localhost:8080/",
     "height": 441
    },
    "execution": {
     "iopub.execute_input": "2022-05-11T17:07:13.665628Z",
     "iopub.status.busy": "2022-05-11T17:07:13.664767Z",
     "iopub.status.idle": "2022-05-11T17:07:14.016254Z",
     "shell.execute_reply": "2022-05-11T17:07:14.015628Z"
    },
    "id": "3bb1b6db",
    "outputId": "7e9072e0-d4a6-4c66-baae-8aa375c7a497",
    "papermill": {
     "duration": 0.448259,
     "end_time": "2022-05-11T17:07:14.018271",
     "exception": false,
     "start_time": "2022-05-11T17:07:13.570012",
     "status": "completed"
    },
    "tags": []
   },
   "outputs": [
    {
     "data": {
      "image/png": "[encoded data removed]",
      "text/plain": [
       "<Figure size 720x432 with 1 Axes>"
      ]
     },
     "metadata": {
      "needs_background": "light"
     },
     "output_type": "display_data"
    }
   ],
   "source": [
    "plt.figure(figsize=(10,6))\n",
    "sns.countplot(y=df['occupation'],saturation=0.9,edgecolor=\"black\")\n",
    "plt.tight_layout()\n",
    "plt.grid(True)\n",
    "plt.show()"
   ]
  },
  {
   "cell_type": "code",
   "execution_count": 157,
   "id": "ca07af03",
   "metadata": {
    "colab": {
     "base_uri": "https://localhost:8080/",
     "height": 441
    },
    "execution": {
     "iopub.execute_input": "2022-05-11T17:07:14.210665Z",
     "iopub.status.busy": "2022-05-11T17:07:14.210351Z",
     "iopub.status.idle": "2022-05-11T17:07:14.655005Z",
     "shell.execute_reply": "2022-05-11T17:07:14.654131Z"
    },
    "id": "ca07af03",
    "outputId": "d6bc90f6-7a3a-47eb-8401-a6c9f8005f51",
    "papermill": {
     "duration": 0.543398,
     "end_time": "2022-05-11T17:07:14.657682",
     "exception": false,
     "start_time": "2022-05-11T17:07:14.114284",
     "status": "completed"
    },
    "tags": []
   },
   "outputs": [
    {
     "data": {
      "image/png": "[encoded data removed]",
      "text/plain": [
       "<Figure size 720x432 with 1 Axes>"
      ]
     },
     "metadata": {
      "needs_background": "light"
     },
     "output_type": "display_data"
    }
   ],
   "source": [
    "plt.figure(figsize=(10,6))\n",
    "sns.countplot(y=df['occupation'],hue=df['income'],saturation=0.9,edgecolor=\"black\")\n",
    "plt.tight_layout()\n",
    "plt.grid(True)\n",
    "plt.show()"
   ]
  },
  {
   "cell_type": "code",
   "execution_count": 158,
   "id": "saving-ambassador",
   "metadata": {
    "colab": {
     "base_uri": "https://localhost:8080/"
    },
    "id": "saving-ambassador",
    "outputId": "f4eccc91-3160-4beb-8683-631125f7bb68",
    "scrolled": true
   },
   "outputs": [
    {
     "data": {
      "text/plain": [
       "7"
      ]
     },
     "execution_count": 158,
     "metadata": {},
     "output_type": "execute_result"
    }
   ],
   "source": [
    "df[df.occupation=='Armed-Forces'].value_counts().sum()"
   ]
  },
  {
   "cell_type": "code",
   "execution_count": 159,
   "id": "outstanding-nursery",
   "metadata": {
    "colab": {
     "base_uri": "https://localhost:8080/"
    },
    "id": "outstanding-nursery",
    "outputId": "3d655203-0c44-4175-bdd5-e51fafcf8b9e"
   },
   "outputs": [
    {
     "data": {
      "text/plain": [
       "119"
      ]
     },
     "execution_count": 159,
     "metadata": {},
     "output_type": "execute_result"
    }
   ],
   "source": [
    "df[df.occupation=='Priv-house-serv'].value_counts().sum()"
   ]
  },
  {
   "cell_type": "code",
   "execution_count": 160,
   "id": "endless-clear",
   "metadata": {
    "colab": {
     "base_uri": "https://localhost:8080/"
    },
    "id": "endless-clear",
    "outputId": "cb689cbe-1dd4-445d-dd18-fb8fdfb22791"
   },
   "outputs": [
    {
     "data": {
      "text/plain": [
       "(25903, 20)"
      ]
     },
     "execution_count": 160,
     "metadata": {},
     "output_type": "execute_result"
    }
   ],
   "source": [
    "df.drop(df[df['occupation']=='Armed-Forces'].index,inplace=True)\n",
    "df.drop(df[df['occupation']=='Priv-house-serv'].index,inplace=True)\n",
    "df.shape"
   ]
  },
  {
   "cell_type": "markdown",
   "id": "DrHwDaDrGC26",
   "metadata": {
    "id": "DrHwDaDrGC26"
   },
   "source": [
    "Como se puede observar, hay una distribución un tanto uniforme de ocupaciones en el conjunto de datos, sin tener en cuenta la ausencia de las Fuerzas Armadas.\n",
    "\n",
    "La especialidad ejecutiva y profesional se destaca por tener porcentajes muy altos de personas que ganan más de 50,000. Además, los porcentajes de Agricultura pesca, Otro servicio y Manipuladores de limpieza son significativamente inferiores al resto de la distribución.\n",
    "\n",
    "- Para poder procesarlo necesitamos que las ocupaciones tomen variables numéricas. Aplicamos GetDummies"
   ]
  },
  {
   "cell_type": "code",
   "execution_count": 161,
   "id": "brief-karaoke",
   "metadata": {
    "colab": {
     "base_uri": "https://localhost:8080/",
     "height": 306
    },
    "id": "brief-karaoke",
    "outputId": "0d82a739-4ac4-4c4c-eeb7-a39caaac3e19",
    "scrolled": true
   },
   "outputs": [
    {
     "data": {
      "text/html": [
       "<div>\n",
       "<style scoped>\n",
       "    .dataframe tbody tr th:only-of-type {\n",
       "        vertical-align: middle;\n",
       "    }\n",
       "\n",
       "    .dataframe tbody tr th {\n",
       "        vertical-align: top;\n",
       "    }\n",
       "\n",
       "    .dataframe thead th {\n",
       "        text-align: right;\n",
       "    }\n",
       "</style>\n",
       "<table border=\"1\" class=\"dataframe\">\n",
       "  <thead>\n",
       "    <tr style=\"text-align: right;\">\n",
       "      <th></th>\n",
       "      <th>index</th>\n",
       "      <th>age</th>\n",
       "      <th>education.num</th>\n",
       "      <th>occupation</th>\n",
       "      <th>relationship</th>\n",
       "      <th>race</th>\n",
       "      <th>sex</th>\n",
       "      <th>capital.gain</th>\n",
       "      <th>capital.loss</th>\n",
       "      <th>hours.per.week</th>\n",
       "      <th>...</th>\n",
       "      <th>Exec-managerial</th>\n",
       "      <th>Farming-fishing</th>\n",
       "      <th>Handlers-cleaners</th>\n",
       "      <th>Machine-op-inspct</th>\n",
       "      <th>Other-service</th>\n",
       "      <th>Prof-specialty</th>\n",
       "      <th>Protective-serv</th>\n",
       "      <th>Sales</th>\n",
       "      <th>Tech-support</th>\n",
       "      <th>Transport-moving</th>\n",
       "    </tr>\n",
       "  </thead>\n",
       "  <tbody>\n",
       "    <tr>\n",
       "      <th>0</th>\n",
       "      <td>24466</td>\n",
       "      <td>30</td>\n",
       "      <td>9</td>\n",
       "      <td>Protective-serv</td>\n",
       "      <td>Own-child</td>\n",
       "      <td>White</td>\n",
       "      <td>Female</td>\n",
       "      <td>0</td>\n",
       "      <td>0</td>\n",
       "      <td>32</td>\n",
       "      <td>...</td>\n",
       "      <td>0</td>\n",
       "      <td>0</td>\n",
       "      <td>0</td>\n",
       "      <td>0</td>\n",
       "      <td>0</td>\n",
       "      <td>0</td>\n",
       "      <td>1</td>\n",
       "      <td>0</td>\n",
       "      <td>0</td>\n",
       "      <td>0</td>\n",
       "    </tr>\n",
       "    <tr>\n",
       "      <th>1</th>\n",
       "      <td>985</td>\n",
       "      <td>37</td>\n",
       "      <td>13</td>\n",
       "      <td>Exec-managerial</td>\n",
       "      <td>Wife</td>\n",
       "      <td>White</td>\n",
       "      <td>Female</td>\n",
       "      <td>0</td>\n",
       "      <td>1848</td>\n",
       "      <td>40</td>\n",
       "      <td>...</td>\n",
       "      <td>1</td>\n",
       "      <td>0</td>\n",
       "      <td>0</td>\n",
       "      <td>0</td>\n",
       "      <td>0</td>\n",
       "      <td>0</td>\n",
       "      <td>0</td>\n",
       "      <td>0</td>\n",
       "      <td>0</td>\n",
       "      <td>0</td>\n",
       "    </tr>\n",
       "    <tr>\n",
       "      <th>2</th>\n",
       "      <td>30250</td>\n",
       "      <td>41</td>\n",
       "      <td>9</td>\n",
       "      <td>Craft-repair</td>\n",
       "      <td>Husband</td>\n",
       "      <td>White</td>\n",
       "      <td>Male</td>\n",
       "      <td>0</td>\n",
       "      <td>0</td>\n",
       "      <td>60</td>\n",
       "      <td>...</td>\n",
       "      <td>0</td>\n",
       "      <td>0</td>\n",
       "      <td>0</td>\n",
       "      <td>0</td>\n",
       "      <td>0</td>\n",
       "      <td>0</td>\n",
       "      <td>0</td>\n",
       "      <td>0</td>\n",
       "      <td>0</td>\n",
       "      <td>0</td>\n",
       "    </tr>\n",
       "  </tbody>\n",
       "</table>\n",
       "<p>3 rows × 32 columns</p>\n",
       "</div>"
      ],
      "text/plain": [
       "   index  age  education.num       occupation relationship   race     sex  \\\n",
       "0  24466   30              9  Protective-serv    Own-child  White  Female   \n",
       "1    985   37             13  Exec-managerial         Wife  White  Female   \n",
       "2  30250   41              9     Craft-repair      Husband  White    Male   \n",
       "\n",
       "   capital.gain  capital.loss  hours.per.week  ... Exec-managerial  \\\n",
       "0             0             0              32  ...               0   \n",
       "1             0          1848              40  ...               1   \n",
       "2             0             0              60  ...               0   \n",
       "\n",
       "  Farming-fishing  Handlers-cleaners  Machine-op-inspct  Other-service  \\\n",
       "0               0                  0                  0              0   \n",
       "1               0                  0                  0              0   \n",
       "2               0                  0                  0              0   \n",
       "\n",
       "   Prof-specialty  Protective-serv  Sales  Tech-support  Transport-moving  \n",
       "0               0                1      0             0                 0  \n",
       "1               0                0      0             0                 0  \n",
       "2               0                0      0             0                 0  \n",
       "\n",
       "[3 rows x 32 columns]"
      ]
     },
     "execution_count": 161,
     "metadata": {},
     "output_type": "execute_result"
    }
   ],
   "source": [
    "pd.get_dummies(df.occupation)\n",
    "\n",
    "dummies = pd.get_dummies(df.occupation)\n",
    "\n",
    "df = pd.concat([df, dummies], axis=1) \n",
    "\n",
    "df.head(3)"
   ]
  },
  {
   "cell_type": "code",
   "execution_count": 162,
   "id": "freelance-louis",
   "metadata": {
    "colab": {
     "base_uri": "https://localhost:8080/",
     "height": 272
    },
    "id": "freelance-louis",
    "outputId": "97cd844c-be3d-4b86-cfdd-5704841919ab"
   },
   "outputs": [
    {
     "data": {
      "text/html": [
       "<div>\n",
       "<style scoped>\n",
       "    .dataframe tbody tr th:only-of-type {\n",
       "        vertical-align: middle;\n",
       "    }\n",
       "\n",
       "    .dataframe tbody tr th {\n",
       "        vertical-align: top;\n",
       "    }\n",
       "\n",
       "    .dataframe thead th {\n",
       "        text-align: right;\n",
       "    }\n",
       "</style>\n",
       "<table border=\"1\" class=\"dataframe\">\n",
       "  <thead>\n",
       "    <tr style=\"text-align: right;\">\n",
       "      <th></th>\n",
       "      <th>index</th>\n",
       "      <th>age</th>\n",
       "      <th>education.num</th>\n",
       "      <th>relationship</th>\n",
       "      <th>race</th>\n",
       "      <th>sex</th>\n",
       "      <th>capital.gain</th>\n",
       "      <th>capital.loss</th>\n",
       "      <th>hours.per.week</th>\n",
       "      <th>native.country</th>\n",
       "      <th>...</th>\n",
       "      <th>Exec-managerial</th>\n",
       "      <th>Farming-fishing</th>\n",
       "      <th>Handlers-cleaners</th>\n",
       "      <th>Machine-op-inspct</th>\n",
       "      <th>Other-service</th>\n",
       "      <th>Prof-specialty</th>\n",
       "      <th>Protective-serv</th>\n",
       "      <th>Sales</th>\n",
       "      <th>Tech-support</th>\n",
       "      <th>Transport-moving</th>\n",
       "    </tr>\n",
       "  </thead>\n",
       "  <tbody>\n",
       "    <tr>\n",
       "      <th>0</th>\n",
       "      <td>24466</td>\n",
       "      <td>30</td>\n",
       "      <td>9</td>\n",
       "      <td>Own-child</td>\n",
       "      <td>White</td>\n",
       "      <td>Female</td>\n",
       "      <td>0</td>\n",
       "      <td>0</td>\n",
       "      <td>32</td>\n",
       "      <td>United-States</td>\n",
       "      <td>...</td>\n",
       "      <td>0</td>\n",
       "      <td>0</td>\n",
       "      <td>0</td>\n",
       "      <td>0</td>\n",
       "      <td>0</td>\n",
       "      <td>0</td>\n",
       "      <td>1</td>\n",
       "      <td>0</td>\n",
       "      <td>0</td>\n",
       "      <td>0</td>\n",
       "    </tr>\n",
       "    <tr>\n",
       "      <th>1</th>\n",
       "      <td>985</td>\n",
       "      <td>37</td>\n",
       "      <td>13</td>\n",
       "      <td>Wife</td>\n",
       "      <td>White</td>\n",
       "      <td>Female</td>\n",
       "      <td>0</td>\n",
       "      <td>1848</td>\n",
       "      <td>40</td>\n",
       "      <td>United-States</td>\n",
       "      <td>...</td>\n",
       "      <td>1</td>\n",
       "      <td>0</td>\n",
       "      <td>0</td>\n",
       "      <td>0</td>\n",
       "      <td>0</td>\n",
       "      <td>0</td>\n",
       "      <td>0</td>\n",
       "      <td>0</td>\n",
       "      <td>0</td>\n",
       "      <td>0</td>\n",
       "    </tr>\n",
       "    <tr>\n",
       "      <th>2</th>\n",
       "      <td>30250</td>\n",
       "      <td>41</td>\n",
       "      <td>9</td>\n",
       "      <td>Husband</td>\n",
       "      <td>White</td>\n",
       "      <td>Male</td>\n",
       "      <td>0</td>\n",
       "      <td>0</td>\n",
       "      <td>60</td>\n",
       "      <td>United-States</td>\n",
       "      <td>...</td>\n",
       "      <td>0</td>\n",
       "      <td>0</td>\n",
       "      <td>0</td>\n",
       "      <td>0</td>\n",
       "      <td>0</td>\n",
       "      <td>0</td>\n",
       "      <td>0</td>\n",
       "      <td>0</td>\n",
       "      <td>0</td>\n",
       "      <td>0</td>\n",
       "    </tr>\n",
       "  </tbody>\n",
       "</table>\n",
       "<p>3 rows × 31 columns</p>\n",
       "</div>"
      ],
      "text/plain": [
       "   index  age  education.num relationship   race     sex  capital.gain  \\\n",
       "0  24466   30              9    Own-child  White  Female             0   \n",
       "1    985   37             13         Wife  White  Female             0   \n",
       "2  30250   41              9      Husband  White    Male             0   \n",
       "\n",
       "   capital.loss  hours.per.week native.country  ... Exec-managerial  \\\n",
       "0             0              32  United-States  ...               0   \n",
       "1          1848              40  United-States  ...               1   \n",
       "2             0              60  United-States  ...               0   \n",
       "\n",
       "   Farming-fishing  Handlers-cleaners  Machine-op-inspct  Other-service  \\\n",
       "0                0                  0                  0              0   \n",
       "1                0                  0                  0              0   \n",
       "2                0                  0                  0              0   \n",
       "\n",
       "   Prof-specialty  Protective-serv  Sales  Tech-support  Transport-moving  \n",
       "0               0                1      0             0                 0  \n",
       "1               0                0      0             0                 0  \n",
       "2               0                0      0             0                 0  \n",
       "\n",
       "[3 rows x 31 columns]"
      ]
     },
     "execution_count": 162,
     "metadata": {},
     "output_type": "execute_result"
    }
   ],
   "source": [
    "df = df.drop('occupation', axis=1)\n",
    "df.head(3)"
   ]
  },
  {
   "cell_type": "markdown",
   "id": "213e4cc0",
   "metadata": {
    "id": "213e4cc0",
    "papermill": {
     "duration": 0.100696,
     "end_time": "2022-05-11T17:07:15.052612",
     "exception": false,
     "start_time": "2022-05-11T17:07:14.951916",
     "status": "completed"
    },
    "tags": []
   },
   "source": [
    "## Relationship\n",
    "\n",
    "Esta variable toma los siguientes valores \n",
    "\n",
    "**relationship:** Wife, Own-child, Husband, Not-in-family, Other-relative, Unmarried.\n",
    "\n",
    "\n",
    "- Verificamos si hay valores extraños"
   ]
  },
  {
   "cell_type": "code",
   "execution_count": 163,
   "id": "manufactured-northern",
   "metadata": {
    "colab": {
     "base_uri": "https://localhost:8080/"
    },
    "id": "manufactured-northern",
    "outputId": "52b9de3a-a108-4fe0-c966-e81828515571"
   },
   "outputs": [
    {
     "data": {
      "text/plain": [
       "array(['Own-child', 'Wife', 'Husband', 'Not-in-family', 'Unmarried',\n",
       "       'Other-relative'], dtype=object)"
      ]
     },
     "execution_count": 163,
     "metadata": {},
     "output_type": "execute_result"
    }
   ],
   "source": [
    "df.relationship.unique()"
   ]
  },
  {
   "cell_type": "code",
   "execution_count": 164,
   "id": "c2757d67",
   "metadata": {
    "colab": {
     "base_uri": "https://localhost:8080/",
     "height": 297
    },
    "execution": {
     "iopub.execute_input": "2022-05-11T17:07:15.249331Z",
     "iopub.status.busy": "2022-05-11T17:07:15.248768Z",
     "iopub.status.idle": "2022-05-11T17:07:15.543415Z",
     "shell.execute_reply": "2022-05-11T17:07:15.542502Z"
    },
    "id": "c2757d67",
    "outputId": "fb9c00c5-8b07-4be2-a88d-57defa127454",
    "papermill": {
     "duration": 0.396113,
     "end_time": "2022-05-11T17:07:15.545720",
     "exception": false,
     "start_time": "2022-05-11T17:07:15.149607",
     "status": "completed"
    },
    "tags": []
   },
   "outputs": [
    {
     "data": {
      "image/png": "[encoded data removed]",
      "text/plain": [
       "<Figure size 576x288 with 1 Axes>"
      ]
     },
     "metadata": {
      "needs_background": "light"
     },
     "output_type": "display_data"
    }
   ],
   "source": [
    "plt.figure(figsize=(8,4))\n",
    "sns.countplot(y=df['relationship'],saturation=0.9,edgecolor=\"black\")\n",
    "plt.tight_layout()\n",
    "plt.grid(True)\n",
    "plt.show()"
   ]
  },
  {
   "cell_type": "code",
   "execution_count": 165,
   "id": "978da741",
   "metadata": {
    "colab": {
     "base_uri": "https://localhost:8080/",
     "height": 297
    },
    "execution": {
     "iopub.execute_input": "2022-05-11T17:07:15.746526Z",
     "iopub.status.busy": "2022-05-11T17:07:15.746246Z",
     "iopub.status.idle": "2022-05-11T17:07:16.177191Z",
     "shell.execute_reply": "2022-05-11T17:07:16.176036Z"
    },
    "id": "978da741",
    "outputId": "9dea8b02-df07-4849-9676-45641815621d",
    "papermill": {
     "duration": 0.534592,
     "end_time": "2022-05-11T17:07:16.179337",
     "exception": false,
     "start_time": "2022-05-11T17:07:15.644745",
     "status": "completed"
    },
    "tags": []
   },
   "outputs": [
    {
     "data": {
      "image/png": "[encoded data removed]",
      "text/plain": [
       "<Figure size 576x288 with 1 Axes>"
      ]
     },
     "metadata": {
      "needs_background": "light"
     },
     "output_type": "display_data"
    }
   ],
   "source": [
    "plt.figure(figsize=(8,4))\n",
    "sns.countplot(y=df['relationship'],hue=df['income'],saturation=0.9,edgecolor=\"black\")\n",
    "plt.tight_layout()\n",
    "plt.grid(True)\n",
    "plt.show()"
   ]
  },
  {
   "cell_type": "markdown",
   "id": "929f9a6d",
   "metadata": {
    "id": "929f9a6d",
    "papermill": {
     "duration": 0.101596,
     "end_time": "2022-05-11T17:07:16.381393",
     "exception": false,
     "start_time": "2022-05-11T17:07:16.279797",
     "status": "completed"
    },
    "tags": []
   },
   "source": [
    "Hay más porcentaje de valores de más de 50k en la clase Marido. Y menos en Otro-relativo. Esta característica proporciona la misma información que el estado civil.\n",
    "\n",
    "- Procedemos a aplicar OneHotEncoder:"
   ]
  },
  {
   "cell_type": "code",
   "execution_count": 166,
   "id": "satisfied-taste",
   "metadata": {
    "id": "satisfied-taste"
   },
   "outputs": [],
   "source": [
    "pd.get_dummies(df.relationship)\n",
    "\n",
    "dummies = pd.get_dummies(df.relationship) \n",
    "df= pd.concat([df, dummies], axis=1) \n",
    "df = df.drop('relationship', axis=1)"
   ]
  },
  {
   "cell_type": "markdown",
   "id": "36f3aebe",
   "metadata": {
    "id": "36f3aebe",
    "papermill": {
     "duration": 0.099201,
     "end_time": "2022-05-11T17:07:16.581092",
     "exception": false,
     "start_time": "2022-05-11T17:07:16.481891",
     "status": "completed"
    },
    "tags": []
   },
   "source": [
    "## Race\n",
    "\n",
    "La variable indica la raza del sujeto de estudio\n",
    "\n",
    "- Analizamos si hay valores extraños"
   ]
  },
  {
   "cell_type": "code",
   "execution_count": 167,
   "id": "apart-distribution",
   "metadata": {
    "colab": {
     "base_uri": "https://localhost:8080/"
    },
    "id": "apart-distribution",
    "outputId": "cd3c40d5-6dd6-423f-dc82-58d7714eb142",
    "scrolled": true
   },
   "outputs": [
    {
     "data": {
      "text/plain": [
       "array(['White', 'Black', 'Asian-Pac-Islander', 'Amer-Indian-Eskimo',\n",
       "       'Other'], dtype=object)"
      ]
     },
     "execution_count": 167,
     "metadata": {},
     "output_type": "execute_result"
    }
   ],
   "source": [
    "df.race.unique()"
   ]
  },
  {
   "cell_type": "code",
   "execution_count": 168,
   "id": "0fd98e8c",
   "metadata": {
    "colab": {
     "base_uri": "https://localhost:8080/",
     "height": 297
    },
    "execution": {
     "iopub.execute_input": "2022-05-11T17:07:16.782067Z",
     "iopub.status.busy": "2022-05-11T17:07:16.781794Z",
     "iopub.status.idle": "2022-05-11T17:07:17.102008Z",
     "shell.execute_reply": "2022-05-11T17:07:17.100948Z"
    },
    "id": "0fd98e8c",
    "outputId": "02a27dfb-73ef-4bbf-869c-f1d8649192ce",
    "papermill": {
     "duration": 0.423153,
     "end_time": "2022-05-11T17:07:17.104219",
     "exception": false,
     "start_time": "2022-05-11T17:07:16.681066",
     "status": "completed"
    },
    "tags": []
   },
   "outputs": [
    {
     "data": {
      "image/png": "[encoded data removed]",
      "text/plain": [
       "<Figure size 576x288 with 1 Axes>"
      ]
     },
     "metadata": {
      "needs_background": "light"
     },
     "output_type": "display_data"
    }
   ],
   "source": [
    "plt.figure(figsize=(8,4))\n",
    "sns.countplot(y=df['race'],saturation=0.9,edgecolor=\"black\")\n",
    "plt.tight_layout()\n",
    "plt.grid(True)\n",
    "plt.show()"
   ]
  },
  {
   "cell_type": "code",
   "execution_count": 169,
   "id": "850f5873",
   "metadata": {
    "colab": {
     "base_uri": "https://localhost:8080/",
     "height": 297
    },
    "execution": {
     "iopub.execute_input": "2022-05-11T17:07:17.307377Z",
     "iopub.status.busy": "2022-05-11T17:07:17.306285Z",
     "iopub.status.idle": "2022-05-11T17:07:17.731413Z",
     "shell.execute_reply": "2022-05-11T17:07:17.730725Z"
    },
    "id": "850f5873",
    "outputId": "2daf0024-0d53-45d2-d0a4-a41f90d641f0",
    "papermill": {
     "duration": 0.52863,
     "end_time": "2022-05-11T17:07:17.733379",
     "exception": false,
     "start_time": "2022-05-11T17:07:17.204749",
     "status": "completed"
    },
    "tags": []
   },
   "outputs": [
    {
     "data": {
      "image/png": "[encoded data removed]",
      "text/plain": [
       "<Figure size 576x288 with 1 Axes>"
      ]
     },
     "metadata": {
      "needs_background": "light"
     },
     "output_type": "display_data"
    }
   ],
   "source": [
    "plt.figure(figsize=(8,4))\n",
    "sns.countplot(y=df['race'],hue=df['income'],saturation=0.9,edgecolor=\"black\")\n",
    "plt.tight_layout()\n",
    "plt.grid(True)\n",
    "plt.show()"
   ]
  },
  {
   "cell_type": "markdown",
   "id": "0cf9e4d4",
   "metadata": {
    "id": "0cf9e4d4",
    "papermill": {
     "duration": 0.103946,
     "end_time": "2022-05-11T17:07:17.939488",
     "exception": false,
     "start_time": "2022-05-11T17:07:17.835542",
     "status": "completed"
    },
    "tags": []
   },
   "source": [
    "Parece que la característica podría ser útil en nuestro modelo de predicción, ya que los blancos y los asiáticos tienen un mayor porcentaje de entradas de más de 50.000 que el resto de las razas. Sin embargo, el tamaño de la muestra de los blancos en el conjunto de datos es desproporcionadamente grande en comparación con todas las demás razas. \n"
   ]
  },
  {
   "cell_type": "code",
   "execution_count": 170,
   "id": "similar-feature",
   "metadata": {
    "id": "similar-feature"
   },
   "outputs": [],
   "source": [
    "df['race'].unique()\n",
    "df['race'].replace(['Black', 'Asian-Pac-Islander', 'Amer-Indian-Eskimo', 'Other'],'Other', inplace = True)"
   ]
  },
  {
   "cell_type": "markdown",
   "id": "elect-ecology",
   "metadata": {
    "id": "elect-ecology"
   },
   "source": [
    "- Procedemos a aplicar OneHotEncoder para representar este feature"
   ]
  },
  {
   "cell_type": "code",
   "execution_count": 171,
   "id": "modular-timer",
   "metadata": {
    "id": "modular-timer"
   },
   "outputs": [],
   "source": [
    "pd.get_dummies(df.race)\n",
    "\n",
    "dummies = pd.get_dummies(df.race) \n",
    "df= pd.concat([df, dummies], axis=1) \n",
    "df = df.drop('race', axis=1)"
   ]
  },
  {
   "cell_type": "markdown",
   "id": "87042a7c",
   "metadata": {
    "id": "87042a7c",
    "papermill": {
     "duration": 0.102286,
     "end_time": "2022-05-11T17:07:18.147190",
     "exception": false,
     "start_time": "2022-05-11T17:07:18.044904",
     "status": "completed"
    },
    "tags": []
   },
   "source": [
    "## Sex\n",
    "\n",
    "Esta variable indica el sexo del sujeto\n",
    "\n",
    "- Analizamos si hay valores extraños:"
   ]
  },
  {
   "cell_type": "code",
   "execution_count": 172,
   "id": "favorite-bubble",
   "metadata": {
    "colab": {
     "base_uri": "https://localhost:8080/"
    },
    "id": "favorite-bubble",
    "outputId": "d18933fd-18dc-45d2-fc2a-e04c97058b84"
   },
   "outputs": [
    {
     "data": {
      "text/plain": [
       "array(['Female', 'Male'], dtype=object)"
      ]
     },
     "execution_count": 172,
     "metadata": {},
     "output_type": "execute_result"
    }
   ],
   "source": [
    "df.sex.unique()"
   ]
  },
  {
   "cell_type": "code",
   "execution_count": 173,
   "id": "4dd455cc",
   "metadata": {
    "colab": {
     "base_uri": "https://localhost:8080/",
     "height": 153
    },
    "execution": {
     "iopub.execute_input": "2022-05-11T17:07:18.355066Z",
     "iopub.status.busy": "2022-05-11T17:07:18.354567Z",
     "iopub.status.idle": "2022-05-11T17:07:18.636703Z",
     "shell.execute_reply": "2022-05-11T17:07:18.635759Z"
    },
    "id": "4dd455cc",
    "outputId": "71c20fa7-3f1a-4c0d-9503-f23019dcbccd",
    "papermill": {
     "duration": 0.389339,
     "end_time": "2022-05-11T17:07:18.638827",
     "exception": false,
     "start_time": "2022-05-11T17:07:18.249488",
     "status": "completed"
    },
    "tags": []
   },
   "outputs": [
    {
     "data": {
      "image/png": "[encoded data removed]",
      "text/plain": [
       "<Figure size 432x144 with 1 Axes>"
      ]
     },
     "metadata": {
      "needs_background": "light"
     },
     "output_type": "display_data"
    }
   ],
   "source": [
    "plt.figure(figsize=(6,2))\n",
    "sns.countplot(y=df['sex'],saturation=0.9,edgecolor=\"black\")\n",
    "plt.tight_layout()\n",
    "plt.grid(True)\n",
    "plt.show()"
   ]
  },
  {
   "cell_type": "code",
   "execution_count": 174,
   "id": "0428ad46",
   "metadata": {
    "colab": {
     "base_uri": "https://localhost:8080/",
     "height": 153
    },
    "execution": {
     "iopub.execute_input": "2022-05-11T17:07:18.847028Z",
     "iopub.status.busy": "2022-05-11T17:07:18.846731Z",
     "iopub.status.idle": "2022-05-11T17:07:19.221056Z",
     "shell.execute_reply": "2022-05-11T17:07:19.220429Z"
    },
    "id": "0428ad46",
    "outputId": "21d0eb71-f12a-4d81-e46f-577f14e6350b",
    "papermill": {
     "duration": 0.481182,
     "end_time": "2022-05-11T17:07:19.223022",
     "exception": false,
     "start_time": "2022-05-11T17:07:18.741840",
     "status": "completed"
    },
    "tags": []
   },
   "outputs": [
    {
     "data": {
      "image/png": "[encoded data removed]",
      "text/plain": [
       "<Figure size 432x144 with 1 Axes>"
      ]
     },
     "metadata": {
      "needs_background": "light"
     },
     "output_type": "display_data"
    }
   ],
   "source": [
    "plt.figure(figsize=(6,2))\n",
    "sns.countplot(y=df['sex'],hue=df['income'],saturation=0.9,edgecolor=\"black\")\n",
    "plt.tight_layout()\n",
    "plt.grid(True)\n",
    "plt.show()"
   ]
  },
  {
   "cell_type": "markdown",
   "id": "d6b434ea",
   "metadata": {
    "id": "d6b434ea",
    "papermill": {
     "duration": 0.104708,
     "end_time": "2022-05-11T17:07:19.432172",
     "exception": false,
     "start_time": "2022-05-11T17:07:19.327464",
     "status": "completed"
    },
    "tags": []
   },
   "source": [
    "El porcentaje de hombres que ganan más de 50.000 es mucho mayor que el porcentaje de mujeres que ganan la misma cantidad. Esto sin duda será un factor significativo y debería ser una característica considerada en nuestro modelo de predicción.\n",
    "\n",
    "- Procedemos a aplicar OneHotEncoder para representar este feature"
   ]
  },
  {
   "cell_type": "code",
   "execution_count": 175,
   "id": "intellectual-killer",
   "metadata": {
    "id": "intellectual-killer"
   },
   "outputs": [],
   "source": [
    "pd.get_dummies(df.sex)\n",
    "\n",
    "dummies = pd.get_dummies(df.sex) \n",
    "df= pd.concat([df, dummies], axis=1) \n",
    "df = df.drop('sex', axis=1)"
   ]
  },
  {
   "cell_type": "code",
   "execution_count": 176,
   "id": "acute-rendering",
   "metadata": {
    "id": "acute-rendering"
   },
   "outputs": [],
   "source": [
    "df = df.drop('Male', axis=1)"
   ]
  },
  {
   "cell_type": "markdown",
   "id": "94ec6705",
   "metadata": {
    "id": "94ec6705",
    "papermill": {
     "duration": 0.103824,
     "end_time": "2022-05-11T17:07:19.641302",
     "exception": false,
     "start_time": "2022-05-11T17:07:19.537478",
     "status": "completed"
    },
    "tags": []
   },
   "source": [
    "## Capital gain\n",
    "\n",
    "Capital ganado. Esta variable toma valores definidos, podemos interpretar que está agrupada en rangos.\n",
    "\n",
    "- Analizamos valores extraños:"
   ]
  },
  {
   "cell_type": "code",
   "execution_count": 177,
   "id": "860d589d",
   "metadata": {
    "colab": {
     "base_uri": "https://localhost:8080/",
     "height": 297
    },
    "execution": {
     "iopub.execute_input": "2022-05-11T17:07:20.651770Z",
     "iopub.status.busy": "2022-05-11T17:07:20.651435Z",
     "iopub.status.idle": "2022-05-11T17:07:21.151135Z",
     "shell.execute_reply": "2022-05-11T17:07:21.150268Z"
    },
    "id": "860d589d",
    "outputId": "0c289af2-4846-43da-ac5a-2650c7af7a7a",
    "papermill": {
     "duration": 0.609121,
     "end_time": "2022-05-11T17:07:21.153832",
     "exception": false,
     "start_time": "2022-05-11T17:07:20.544711",
     "status": "completed"
    },
    "tags": []
   },
   "outputs": [
    {
     "data": {
      "image/png": "[encoded data removed]",
      "text/plain": [
       "<Figure size 576x288 with 1 Axes>"
      ]
     },
     "metadata": {
      "needs_background": "light"
     },
     "output_type": "display_data"
    }
   ],
   "source": [
    "plt.figure(figsize=(8,4))\n",
    "sns.histplot(x=df['capital.gain'],hue=df['income'],color='green',bins=15)\n",
    "plt.tight_layout()\n",
    "plt.grid(True)\n",
    "plt.show()"
   ]
  },
  {
   "cell_type": "markdown",
   "id": "q1u_zQxEKs4V",
   "metadata": {
    "id": "q1u_zQxEKs4V"
   },
   "source": [
    "Del gráfico podemos ver que la distribución de la ganancia de capital está muy sesgada. Y hay valores atípicos en el punto de datos 100000."
   ]
  },
  {
   "cell_type": "markdown",
   "id": "e0f3087d",
   "metadata": {
    "id": "e0f3087d",
    "papermill": {
     "duration": 0.107806,
     "end_time": "2022-05-11T17:07:21.369802",
     "exception": false,
     "start_time": "2022-05-11T17:07:21.261996",
     "status": "completed"
    },
    "tags": []
   },
   "source": [
    "## Capital loss"
   ]
  },
  {
   "cell_type": "code",
   "execution_count": 178,
   "id": "2b11727a",
   "metadata": {
    "colab": {
     "base_uri": "https://localhost:8080/",
     "height": 297
    },
    "execution": {
     "iopub.execute_input": "2022-05-11T17:07:21.596548Z",
     "iopub.status.busy": "2022-05-11T17:07:21.595941Z",
     "iopub.status.idle": "2022-05-11T17:07:21.976332Z",
     "shell.execute_reply": "2022-05-11T17:07:21.975615Z"
    },
    "id": "2b11727a",
    "outputId": "3d4a7e9d-c186-4446-a74d-7f3f4e444552",
    "papermill": {
     "duration": 0.501792,
     "end_time": "2022-05-11T17:07:21.978589",
     "exception": false,
     "start_time": "2022-05-11T17:07:21.476797",
     "status": "completed"
    },
    "tags": []
   },
   "outputs": [
    {
     "data": {
      "image/png": "[encoded data removed]",
      "text/plain": [
       "<Figure size 576x288 with 1 Axes>"
      ]
     },
     "metadata": {
      "needs_background": "light"
     },
     "output_type": "display_data"
    }
   ],
   "source": [
    "plt.figure(figsize=(8,4))\n",
    "sns.histplot(df['capital.loss'],color='green',bins=15)\n",
    "plt.tight_layout()\n",
    "plt.grid(True)\n",
    "plt.show()"
   ]
  },
  {
   "cell_type": "markdown",
   "id": "eece4464",
   "metadata": {
    "id": "eece4464",
    "papermill": {
     "duration": 0.108465,
     "end_time": "2022-05-11T17:07:22.195499",
     "exception": false,
     "start_time": "2022-05-11T17:07:22.087034",
     "status": "completed"
    },
    "tags": []
   },
   "source": [
    "Del gráfico podemos ver que los datos no son simetricos."
   ]
  },
  {
   "cell_type": "markdown",
   "id": "spoken-cisco",
   "metadata": {
    "id": "spoken-cisco"
   },
   "source": [
    "## Capital flow\n",
    "\n",
    "Como no tiene sentido considerar las ultimas 2 features de manera individual restamos **capital.loss** a **capital.gaing** y en resultado lo plasmamos en **\"capital-flow\"**"
   ]
  },
  {
   "cell_type": "code",
   "execution_count": 179,
   "id": "gorgeous-event",
   "metadata": {
    "id": "gorgeous-event"
   },
   "outputs": [],
   "source": [
    "df['capital-flow'] = df['capital.gain'] - df['capital.loss']\n",
    "df.drop(['capital.gain'], axis = 1, inplace = True)\n",
    "df.drop(['capital.loss'], axis = 1, inplace = True)"
   ]
  },
  {
   "cell_type": "code",
   "execution_count": 180,
   "id": "dedicated-adobe",
   "metadata": {
    "colab": {
     "base_uri": "https://localhost:8080/",
     "height": 298
    },
    "id": "dedicated-adobe",
    "outputId": "56b68565-a3d1-4410-d420-e15fb901665f"
   },
   "outputs": [
    {
     "data": {
      "text/plain": [
       "<AxesSubplot:xlabel='capital-flow', ylabel='count'>"
      ]
     },
     "execution_count": 180,
     "metadata": {},
     "output_type": "execute_result"
    },
    {
     "data": {
      "image/png": "[encoded data removed]",
      "text/plain": [
       "<Figure size 432x288 with 1 Axes>"
      ]
     },
     "metadata": {
      "needs_background": "light"
     },
     "output_type": "display_data"
    }
   ],
   "source": [
    "df['capital-flow'] = pd.cut(df['capital-flow'], bins = [-5000, 5000, 100000], labels = ['Minor', 'Major'])\n",
    "sns.countplot(x = 'capital-flow', hue = 'income', data = df)"
   ]
  },
  {
   "cell_type": "markdown",
   "id": "elementary-kazakhstan",
   "metadata": {
    "id": "elementary-kazakhstan"
   },
   "source": [
    "Se puede ver que para \"Menor\" hay más personas con Ingresos menores a $ 50K y para \"Mayor\"  hay más personas con ingresos mayores a $ 50K.\n",
    "\n",
    "Esto está completamente de acuerdo con el hecho de que las personas que tienen una gran ganancia de capital en comparación con la pérdida de capital tienen ingresos de más de $ 50K.\n",
    "\n",
    "Aplicamos GET DUMMIES PARA ESTOS NUEVOS RESULTADOS:"
   ]
  },
  {
   "cell_type": "code",
   "execution_count": 181,
   "id": "loaded-hearing",
   "metadata": {
    "colab": {
     "base_uri": "https://localhost:8080/",
     "height": 272
    },
    "id": "loaded-hearing",
    "outputId": "ed68e422-4c71-403f-f57f-a3e3655a97d3"
   },
   "outputs": [
    {
     "data": {
      "text/html": [
       "<div>\n",
       "<style scoped>\n",
       "    .dataframe tbody tr th:only-of-type {\n",
       "        vertical-align: middle;\n",
       "    }\n",
       "\n",
       "    .dataframe tbody tr th {\n",
       "        vertical-align: top;\n",
       "    }\n",
       "\n",
       "    .dataframe thead th {\n",
       "        text-align: right;\n",
       "    }\n",
       "</style>\n",
       "<table border=\"1\" class=\"dataframe\">\n",
       "  <thead>\n",
       "    <tr style=\"text-align: right;\">\n",
       "      <th></th>\n",
       "      <th>index</th>\n",
       "      <th>age</th>\n",
       "      <th>education.num</th>\n",
       "      <th>hours.per.week</th>\n",
       "      <th>native.country</th>\n",
       "      <th>income</th>\n",
       "      <th>ID</th>\n",
       "      <th>Federal-gov</th>\n",
       "      <th>Local-gov</th>\n",
       "      <th>Private</th>\n",
       "      <th>...</th>\n",
       "      <th>Not-in-family</th>\n",
       "      <th>Other-relative</th>\n",
       "      <th>Own-child</th>\n",
       "      <th>Unmarried</th>\n",
       "      <th>Wife</th>\n",
       "      <th>Other</th>\n",
       "      <th>White</th>\n",
       "      <th>Female</th>\n",
       "      <th>Minor</th>\n",
       "      <th>Major</th>\n",
       "    </tr>\n",
       "  </thead>\n",
       "  <tbody>\n",
       "    <tr>\n",
       "      <th>0</th>\n",
       "      <td>24466</td>\n",
       "      <td>30</td>\n",
       "      <td>9</td>\n",
       "      <td>32</td>\n",
       "      <td>United-States</td>\n",
       "      <td>&lt;=50K</td>\n",
       "      <td>24451</td>\n",
       "      <td>0</td>\n",
       "      <td>1</td>\n",
       "      <td>0</td>\n",
       "      <td>...</td>\n",
       "      <td>0</td>\n",
       "      <td>0</td>\n",
       "      <td>1</td>\n",
       "      <td>0</td>\n",
       "      <td>0</td>\n",
       "      <td>0</td>\n",
       "      <td>1</td>\n",
       "      <td>1</td>\n",
       "      <td>1</td>\n",
       "      <td>0</td>\n",
       "    </tr>\n",
       "    <tr>\n",
       "      <th>1</th>\n",
       "      <td>985</td>\n",
       "      <td>37</td>\n",
       "      <td>13</td>\n",
       "      <td>40</td>\n",
       "      <td>United-States</td>\n",
       "      <td>&gt;50K</td>\n",
       "      <td>985</td>\n",
       "      <td>0</td>\n",
       "      <td>0</td>\n",
       "      <td>1</td>\n",
       "      <td>...</td>\n",
       "      <td>0</td>\n",
       "      <td>0</td>\n",
       "      <td>0</td>\n",
       "      <td>0</td>\n",
       "      <td>1</td>\n",
       "      <td>0</td>\n",
       "      <td>1</td>\n",
       "      <td>1</td>\n",
       "      <td>1</td>\n",
       "      <td>0</td>\n",
       "    </tr>\n",
       "    <tr>\n",
       "      <th>2</th>\n",
       "      <td>30250</td>\n",
       "      <td>41</td>\n",
       "      <td>9</td>\n",
       "      <td>60</td>\n",
       "      <td>United-States</td>\n",
       "      <td>&gt;50K</td>\n",
       "      <td>30229</td>\n",
       "      <td>0</td>\n",
       "      <td>0</td>\n",
       "      <td>1</td>\n",
       "      <td>...</td>\n",
       "      <td>0</td>\n",
       "      <td>0</td>\n",
       "      <td>0</td>\n",
       "      <td>0</td>\n",
       "      <td>0</td>\n",
       "      <td>0</td>\n",
       "      <td>1</td>\n",
       "      <td>0</td>\n",
       "      <td>1</td>\n",
       "      <td>0</td>\n",
       "    </tr>\n",
       "  </tbody>\n",
       "</table>\n",
       "<p>3 rows × 37 columns</p>\n",
       "</div>"
      ],
      "text/plain": [
       "   index  age  education.num  hours.per.week native.country income     ID  \\\n",
       "0  24466   30              9              32  United-States  <=50K  24451   \n",
       "1    985   37             13              40  United-States   >50K    985   \n",
       "2  30250   41              9              60  United-States   >50K  30229   \n",
       "\n",
       "   Federal-gov  Local-gov  Private  ...  Not-in-family  Other-relative  \\\n",
       "0            0          1        0  ...              0               0   \n",
       "1            0          0        1  ...              0               0   \n",
       "2            0          0        1  ...              0               0   \n",
       "\n",
       "   Own-child  Unmarried  Wife  Other  White  Female  Minor  Major  \n",
       "0          1          0     0      0      1       1      1      0  \n",
       "1          0          0     1      0      1       1      1      0  \n",
       "2          0          0     0      0      1       0      1      0  \n",
       "\n",
       "[3 rows x 37 columns]"
      ]
     },
     "execution_count": 181,
     "metadata": {},
     "output_type": "execute_result"
    }
   ],
   "source": [
    "pd.get_dummies(df['capital-flow'])\n",
    "\n",
    "dummies = pd.get_dummies(df['capital-flow']) \n",
    "df= pd.concat([df, dummies], axis=1) \n",
    "df = df.drop('capital-flow', axis=1)\n",
    "\n",
    "df.head(3)"
   ]
  },
  {
   "cell_type": "markdown",
   "id": "30e82230",
   "metadata": {
    "id": "30e82230",
    "papermill": {
     "duration": 0.108636,
     "end_time": "2022-05-11T17:07:22.412820",
     "exception": false,
     "start_time": "2022-05-11T17:07:22.304184",
     "status": "completed"
    },
    "tags": []
   },
   "source": [
    "## Hours per week\t\n",
    "\n",
    "Es una variable numérica. Analizamos si hay valores extraños:"
   ]
  },
  {
   "cell_type": "code",
   "execution_count": 182,
   "id": "brown-repeat",
   "metadata": {
    "colab": {
     "base_uri": "https://localhost:8080/"
    },
    "id": "brown-repeat",
    "outputId": "ebb7c8e4-1be7-4fd8-f5d7-a13535956904"
   },
   "outputs": [
    {
     "data": {
      "text/plain": [
       "array([32, 40, 60, 50, 45, 35, 49, 20, 25, 18, 22, 10, 48, 74, 30,  7, 37,\n",
       "       36, 65, 44, 24, 70, 15, 99,  2, 52, 38,  5, 12, 42, 80, 56, 51, 77,\n",
       "       47, 55,  4, 21, 16,  8, 46, 53, 82, 57, 62, 17, 84, 75, 64, 41, 58,\n",
       "       23, 28, 43, 33, 66, 26, 29, 14, 34, 61,  3, 39,  9, 27, 72, 78, 85,\n",
       "       11, 54, 98, 59, 19, 90,  1, 96, 92,  6, 91, 68, 63, 31, 13, 67, 88,\n",
       "       76, 86, 97, 89, 81, 87, 94, 95, 73], dtype=int64)"
      ]
     },
     "execution_count": 182,
     "metadata": {},
     "output_type": "execute_result"
    }
   ],
   "source": [
    "df['hours.per.week'].unique()"
   ]
  },
  {
   "cell_type": "code",
   "execution_count": 183,
   "id": "af2dfb9b",
   "metadata": {
    "colab": {
     "base_uri": "https://localhost:8080/",
     "height": 297
    },
    "execution": {
     "iopub.execute_input": "2022-05-11T17:07:22.633146Z",
     "iopub.status.busy": "2022-05-11T17:07:22.632870Z",
     "iopub.status.idle": "2022-05-11T17:07:23.012269Z",
     "shell.execute_reply": "2022-05-11T17:07:23.011249Z"
    },
    "id": "af2dfb9b",
    "outputId": "7314ba5d-13b5-4b09-fc44-674b9b9705a8",
    "papermill": {
     "duration": 0.492179,
     "end_time": "2022-05-11T17:07:23.014624",
     "exception": false,
     "start_time": "2022-05-11T17:07:22.522445",
     "status": "completed"
    },
    "tags": []
   },
   "outputs": [
    {
     "data": {
      "image/png": "[encoded data removed]",
      "text/plain": [
       "<Figure size 576x288 with 1 Axes>"
      ]
     },
     "metadata": {
      "needs_background": "light"
     },
     "output_type": "display_data"
    }
   ],
   "source": [
    "plt.figure(figsize=(8,4))\n",
    "sns.histplot(df['hours.per.week'],color='green',bins=15)\n",
    "plt.tight_layout()\n",
    "plt.grid(True)\n",
    "plt.show()"
   ]
  },
  {
   "cell_type": "markdown",
   "id": "8b784cf4",
   "metadata": {
    "id": "8b784cf4",
    "papermill": {
     "duration": 0.109231,
     "end_time": "2022-05-11T17:07:23.233359",
     "exception": false,
     "start_time": "2022-05-11T17:07:23.124128",
     "status": "completed"
    },
    "tags": []
   },
   "source": [
    "Podemos ver que la gran mayoría de los valores son de 40 horas. lo que podemos hacer es hacer 3 clases, es decir <40hrs, 40hrs y >40hrs, y comprobar si es significativo o no."
   ]
  },
  {
   "cell_type": "code",
   "execution_count": 184,
   "id": "2c599562",
   "metadata": {
    "execution": {
     "iopub.execute_input": "2022-05-11T17:07:23.453845Z",
     "iopub.status.busy": "2022-05-11T17:07:23.453249Z",
     "iopub.status.idle": "2022-05-11T17:07:23.457666Z",
     "shell.execute_reply": "2022-05-11T17:07:23.457044Z"
    },
    "id": "2c599562",
    "papermill": {
     "duration": 0.116751,
     "end_time": "2022-05-11T17:07:23.459540",
     "exception": false,
     "start_time": "2022-05-11T17:07:23.342789",
     "status": "completed"
    },
    "tags": []
   },
   "outputs": [],
   "source": [
    "def hrs_edit(val):\n",
    "    if (val<40):\n",
    "        return ('<40 hrs')\n",
    "    elif (val==40):\n",
    "        return ('40 hrs')\n",
    "    else:\n",
    "        return ('>40hrs') "
   ]
  },
  {
   "cell_type": "code",
   "execution_count": 185,
   "id": "1ace45a8",
   "metadata": {
    "execution": {
     "iopub.execute_input": "2022-05-11T17:07:23.679973Z",
     "iopub.status.busy": "2022-05-11T17:07:23.679392Z",
     "iopub.status.idle": "2022-05-11T17:07:23.695080Z",
     "shell.execute_reply": "2022-05-11T17:07:23.694070Z"
    },
    "id": "1ace45a8",
    "papermill": {
     "duration": 0.127954,
     "end_time": "2022-05-11T17:07:23.697246",
     "exception": false,
     "start_time": "2022-05-11T17:07:23.569292",
     "status": "completed"
    },
    "tags": []
   },
   "outputs": [],
   "source": [
    "df['hours.per.week']=df['hours.per.week'].apply(hrs_edit)"
   ]
  },
  {
   "cell_type": "code",
   "execution_count": 186,
   "id": "dcd346c6",
   "metadata": {
    "colab": {
     "base_uri": "https://localhost:8080/",
     "height": 297
    },
    "execution": {
     "iopub.execute_input": "2022-05-11T17:07:23.920847Z",
     "iopub.status.busy": "2022-05-11T17:07:23.920289Z",
     "iopub.status.idle": "2022-05-11T17:07:24.182095Z",
     "shell.execute_reply": "2022-05-11T17:07:24.181392Z"
    },
    "id": "dcd346c6",
    "outputId": "99dc5f98-9516-4098-d2f3-430ed35d46a3",
    "papermill": {
     "duration": 0.37544,
     "end_time": "2022-05-11T17:07:24.184071",
     "exception": false,
     "start_time": "2022-05-11T17:07:23.808631",
     "status": "completed"
    },
    "tags": []
   },
   "outputs": [
    {
     "data": {
      "image/png": "[encoded data removed]",
      "text/plain": [
       "<Figure size 576x288 with 1 Axes>"
      ]
     },
     "metadata": {
      "needs_background": "light"
     },
     "output_type": "display_data"
    }
   ],
   "source": [
    "plt.figure(figsize=(8,4))\n",
    "sns.countplot(x=df['hours.per.week'],saturation=0.9,edgecolor=\"black\",order=['<40 hrs','40 hrs','>40hrs'])\n",
    "plt.tight_layout()\n",
    "plt.grid(True)\n",
    "plt.show()"
   ]
  },
  {
   "cell_type": "code",
   "execution_count": 187,
   "id": "24714096",
   "metadata": {
    "colab": {
     "base_uri": "https://localhost:8080/",
     "height": 297
    },
    "execution": {
     "iopub.execute_input": "2022-05-11T17:07:24.406765Z",
     "iopub.status.busy": "2022-05-11T17:07:24.406212Z",
     "iopub.status.idle": "2022-05-11T17:07:24.889939Z",
     "shell.execute_reply": "2022-05-11T17:07:24.889266Z"
    },
    "id": "24714096",
    "outputId": "e86bda2c-3b1b-4f32-e63c-23886c253f24",
    "papermill": {
     "duration": 0.597253,
     "end_time": "2022-05-11T17:07:24.891844",
     "exception": false,
     "start_time": "2022-05-11T17:07:24.294591",
     "status": "completed"
    },
    "tags": []
   },
   "outputs": [
    {
     "data": {
      "image/png": "[encoded data removed]",
      "text/plain": [
       "<Figure size 576x288 with 1 Axes>"
      ]
     },
     "metadata": {
      "needs_background": "light"
     },
     "output_type": "display_data"
    }
   ],
   "source": [
    "plt.figure(figsize=(8,4))\n",
    "sns.countplot(x=df['hours.per.week'],hue=df['income'], saturation=0.9,edgecolor=\"black\",order=['<40 hrs','40 hrs','>40hrs'])\n",
    "plt.tight_layout()\n",
    "plt.grid(True)\n",
    "plt.show()"
   ]
  },
  {
   "cell_type": "markdown",
   "id": "2b7942e1",
   "metadata": {
    "id": "2b7942e1",
    "papermill": {
     "duration": 0.114353,
     "end_time": "2022-05-11T17:07:25.117035",
     "exception": false,
     "start_time": "2022-05-11T17:07:25.002682",
     "status": "completed"
    },
    "tags": []
   },
   "source": [
    "El porcentaje de personas que ganan más de 50.000 disminuye drásticamente cuando trabaja menos de 40 horas por semana y aumenta significativamente cuando trabaja más de 40 horas por semana.\n",
    "\n",
    "Aplicamos un label encoding:\n",
    "\n",
    "1 --> Menos de 40 horas\n",
    "\n",
    "2--> 40 horas\n",
    "\n",
    "3 --> Más de 40 horas"
   ]
  },
  {
   "cell_type": "code",
   "execution_count": 188,
   "id": "coated-throat",
   "metadata": {
    "id": "coated-throat"
   },
   "outputs": [],
   "source": [
    "from sklearn import preprocessing\n",
    "le = preprocessing.LabelEncoder()\n",
    "df['hour_label_encoded'] = le.fit_transform(df['hours.per.week'])"
   ]
  },
  {
   "cell_type": "code",
   "execution_count": 189,
   "id": "impossible-journalist",
   "metadata": {
    "id": "impossible-journalist"
   },
   "outputs": [],
   "source": [
    "mapping_dict = {\n",
    "    '<40 hrs': 1,\n",
    "    '40 hrs': 2,\n",
    "    '>40hrs': 3  \n",
    "}\n",
    "\n",
    "hour_ordinal = df['hours.per.week'].replace(mapping_dict)"
   ]
  },
  {
   "cell_type": "code",
   "execution_count": 190,
   "id": "seven-student",
   "metadata": {
    "colab": {
     "base_uri": "https://localhost:8080/",
     "height": 223
    },
    "id": "seven-student",
    "outputId": "41e734f4-4c43-4d01-aa53-ea319fea5c98",
    "scrolled": false
   },
   "outputs": [
    {
     "data": {
      "text/html": [
       "<div>\n",
       "<style scoped>\n",
       "    .dataframe tbody tr th:only-of-type {\n",
       "        vertical-align: middle;\n",
       "    }\n",
       "\n",
       "    .dataframe tbody tr th {\n",
       "        vertical-align: top;\n",
       "    }\n",
       "\n",
       "    .dataframe thead th {\n",
       "        text-align: right;\n",
       "    }\n",
       "</style>\n",
       "<table border=\"1\" class=\"dataframe\">\n",
       "  <thead>\n",
       "    <tr style=\"text-align: right;\">\n",
       "      <th></th>\n",
       "      <th>index</th>\n",
       "      <th>age</th>\n",
       "      <th>education.num</th>\n",
       "      <th>hours.per.week</th>\n",
       "      <th>native.country</th>\n",
       "      <th>income</th>\n",
       "      <th>ID</th>\n",
       "      <th>Federal-gov</th>\n",
       "      <th>Local-gov</th>\n",
       "      <th>Private</th>\n",
       "      <th>...</th>\n",
       "      <th>Own-child</th>\n",
       "      <th>Unmarried</th>\n",
       "      <th>Wife</th>\n",
       "      <th>Other</th>\n",
       "      <th>White</th>\n",
       "      <th>Female</th>\n",
       "      <th>Minor</th>\n",
       "      <th>Major</th>\n",
       "      <th>hour_label_encoded</th>\n",
       "      <th>Hour_ordinal</th>\n",
       "    </tr>\n",
       "  </thead>\n",
       "  <tbody>\n",
       "    <tr>\n",
       "      <th>0</th>\n",
       "      <td>24466</td>\n",
       "      <td>30</td>\n",
       "      <td>9</td>\n",
       "      <td>&lt;40 hrs</td>\n",
       "      <td>United-States</td>\n",
       "      <td>&lt;=50K</td>\n",
       "      <td>24451</td>\n",
       "      <td>0</td>\n",
       "      <td>1</td>\n",
       "      <td>0</td>\n",
       "      <td>...</td>\n",
       "      <td>1</td>\n",
       "      <td>0</td>\n",
       "      <td>0</td>\n",
       "      <td>0</td>\n",
       "      <td>1</td>\n",
       "      <td>1</td>\n",
       "      <td>1</td>\n",
       "      <td>0</td>\n",
       "      <td>1</td>\n",
       "      <td>1</td>\n",
       "    </tr>\n",
       "    <tr>\n",
       "      <th>1</th>\n",
       "      <td>985</td>\n",
       "      <td>37</td>\n",
       "      <td>13</td>\n",
       "      <td>40 hrs</td>\n",
       "      <td>United-States</td>\n",
       "      <td>&gt;50K</td>\n",
       "      <td>985</td>\n",
       "      <td>0</td>\n",
       "      <td>0</td>\n",
       "      <td>1</td>\n",
       "      <td>...</td>\n",
       "      <td>0</td>\n",
       "      <td>0</td>\n",
       "      <td>1</td>\n",
       "      <td>0</td>\n",
       "      <td>1</td>\n",
       "      <td>1</td>\n",
       "      <td>1</td>\n",
       "      <td>0</td>\n",
       "      <td>0</td>\n",
       "      <td>2</td>\n",
       "    </tr>\n",
       "  </tbody>\n",
       "</table>\n",
       "<p>2 rows × 39 columns</p>\n",
       "</div>"
      ],
      "text/plain": [
       "   index  age  education.num hours.per.week native.country income     ID  \\\n",
       "0  24466   30              9        <40 hrs  United-States  <=50K  24451   \n",
       "1    985   37             13         40 hrs  United-States   >50K    985   \n",
       "\n",
       "   Federal-gov  Local-gov  Private  ...  Own-child  Unmarried  Wife  Other  \\\n",
       "0            0          1        0  ...          1          0     0      0   \n",
       "1            0          0        1  ...          0          0     1      0   \n",
       "\n",
       "   White  Female  Minor  Major  hour_label_encoded  Hour_ordinal  \n",
       "0      1       1      1      0                   1             1  \n",
       "1      1       1      1      0                   0             2  \n",
       "\n",
       "[2 rows x 39 columns]"
      ]
     },
     "execution_count": 190,
     "metadata": {},
     "output_type": "execute_result"
    }
   ],
   "source": [
    "df['Hour_ordinal'] = hour_ordinal\n",
    "df.head(2)\n"
   ]
  },
  {
   "cell_type": "code",
   "execution_count": 191,
   "id": "printable-conservative",
   "metadata": {
    "id": "printable-conservative"
   },
   "outputs": [],
   "source": [
    "df.drop(['hour_label_encoded','hours.per.week'],axis=1,inplace=True)"
   ]
  },
  {
   "cell_type": "markdown",
   "id": "8309b9cc",
   "metadata": {
    "id": "8309b9cc",
    "papermill": {
     "duration": 0.11131,
     "end_time": "2022-05-11T17:07:25.340826",
     "exception": false,
     "start_time": "2022-05-11T17:07:25.229516",
     "status": "completed"
    },
    "tags": []
   },
   "source": [
    "## Native country\n",
    "\n",
    "Esta variable representa el país de origen del sujeto analizado.\n",
    "\n",
    "Se verifican si hay valores extraños:"
   ]
  },
  {
   "cell_type": "code",
   "execution_count": 192,
   "id": "liable-determination",
   "metadata": {
    "colab": {
     "base_uri": "https://localhost:8080/"
    },
    "id": "liable-determination",
    "outputId": "f791488f-ad6d-437b-a9d7-e16aa88629a8"
   },
   "outputs": [
    {
     "data": {
      "text/plain": [
       "array(['United-States', '?', 'Jamaica', 'India', 'Mexico', 'Philippines',\n",
       "       'Dominican-Republic', 'El-Salvador', 'China', 'Thailand',\n",
       "       'Ireland', 'Laos', 'Iran', 'France', 'Guatemala', 'South',\n",
       "       'Puerto-Rico', 'Japan', 'Portugal', 'Greece', 'Canada', 'Poland',\n",
       "       'Peru', 'Cuba', 'Columbia', 'Germany', 'Italy', 'Hong', 'Haiti',\n",
       "       'Ecuador', 'England', 'Nicaragua', 'Cambodia', 'Trinadad&Tobago',\n",
       "       'Vietnam', 'Honduras', 'Taiwan', 'Scotland', 'Yugoslavia',\n",
       "       'Hungary', 'Outlying-US(Guam-USVI-etc)', 'Holand-Netherlands'],\n",
       "      dtype=object)"
      ]
     },
     "execution_count": 192,
     "metadata": {},
     "output_type": "execute_result"
    }
   ],
   "source": [
    "df['native.country'].unique()"
   ]
  },
  {
   "cell_type": "markdown",
   "id": "progressive-requirement",
   "metadata": {
    "id": "progressive-requirement"
   },
   "source": [
    "- Droppeamos las filas cuyo país sea el símbolo **\"?\"**"
   ]
  },
  {
   "cell_type": "code",
   "execution_count": 193,
   "id": "early-coupon",
   "metadata": {
    "id": "early-coupon"
   },
   "outputs": [],
   "source": [
    "df= df.drop(df[df['native.country'] == ' ?'].index)"
   ]
  },
  {
   "cell_type": "code",
   "execution_count": 194,
   "id": "2d29e3b5",
   "metadata": {
    "colab": {
     "base_uri": "https://localhost:8080/",
     "height": 657
    },
    "execution": {
     "iopub.execute_input": "2022-05-11T17:07:25.565597Z",
     "iopub.status.busy": "2022-05-11T17:07:25.565086Z",
     "iopub.status.idle": "2022-05-11T17:07:26.272991Z",
     "shell.execute_reply": "2022-05-11T17:07:26.272421Z"
    },
    "id": "2d29e3b5",
    "outputId": "0da75b77-09b4-4c15-ee69-a16abfcdfdce",
    "papermill": {
     "duration": 0.822609,
     "end_time": "2022-05-11T17:07:26.274890",
     "exception": false,
     "start_time": "2022-05-11T17:07:25.452281",
     "status": "completed"
    },
    "scrolled": true,
    "tags": []
   },
   "outputs": [
    {
     "data": {
      "image/png": "[encoded data removed]",
      "text/plain": [
       "<Figure size 576x648 with 1 Axes>"
      ]
     },
     "metadata": {
      "needs_background": "light"
     },
     "output_type": "display_data"
    }
   ],
   "source": [
    "plt.figure(figsize=(8,9))\n",
    "sns.countplot(y=df['native.country'],saturation=0.9,edgecolor=\"black\")\n",
    "plt.tight_layout()\n",
    "plt.grid(True)\n",
    "plt.show()"
   ]
  },
  {
   "cell_type": "markdown",
   "id": "exclusive-sweden",
   "metadata": {
    "id": "exclusive-sweden"
   },
   "source": [
    "- Agrupamos las nacionalidades como \"USA\" y \"resto de paises\""
   ]
  },
  {
   "cell_type": "code",
   "execution_count": 195,
   "id": "arranged-great",
   "metadata": {
    "id": "arranged-great"
   },
   "outputs": [],
   "source": [
    "countries = np.array(df['native.country'].unique())\n",
    "countries = np.delete(countries, 0)\n",
    "df['native.country'].replace(countries, 'Other', inplace = True)"
   ]
  },
  {
   "cell_type": "markdown",
   "id": "circular-leonard",
   "metadata": {
    "id": "circular-leonard"
   },
   "source": [
    "Ahora aplicamos OneHotEncoder para representar esta variable categórica y finalmente droppeamos la columna de \"Otros paises\".\n",
    "\n",
    "1--> Es norteamericano\n",
    "\n",
    "0 --> No es norteamericano"
   ]
  },
  {
   "cell_type": "code",
   "execution_count": 196,
   "id": "uniform-thanksgiving",
   "metadata": {
    "colab": {
     "base_uri": "https://localhost:8080/",
     "height": 226
    },
    "id": "uniform-thanksgiving",
    "outputId": "85824d85-8409-46c3-b4c6-5a08038bcaec",
    "scrolled": true
   },
   "outputs": [
    {
     "data": {
      "text/html": [
       "<div>\n",
       "<style scoped>\n",
       "    .dataframe tbody tr th:only-of-type {\n",
       "        vertical-align: middle;\n",
       "    }\n",
       "\n",
       "    .dataframe tbody tr th {\n",
       "        vertical-align: top;\n",
       "    }\n",
       "\n",
       "    .dataframe thead th {\n",
       "        text-align: right;\n",
       "    }\n",
       "</style>\n",
       "<table border=\"1\" class=\"dataframe\">\n",
       "  <thead>\n",
       "    <tr style=\"text-align: right;\">\n",
       "      <th></th>\n",
       "      <th>index</th>\n",
       "      <th>age</th>\n",
       "      <th>education.num</th>\n",
       "      <th>income</th>\n",
       "      <th>ID</th>\n",
       "      <th>Federal-gov</th>\n",
       "      <th>Local-gov</th>\n",
       "      <th>Private</th>\n",
       "      <th>Self-emp-inc</th>\n",
       "      <th>Self-emp-not-inc</th>\n",
       "      <th>...</th>\n",
       "      <th>Unmarried</th>\n",
       "      <th>Wife</th>\n",
       "      <th>Other</th>\n",
       "      <th>White</th>\n",
       "      <th>Female</th>\n",
       "      <th>Minor</th>\n",
       "      <th>Major</th>\n",
       "      <th>Hour_ordinal</th>\n",
       "      <th>Other</th>\n",
       "      <th>United-States</th>\n",
       "    </tr>\n",
       "  </thead>\n",
       "  <tbody>\n",
       "    <tr>\n",
       "      <th>0</th>\n",
       "      <td>24466</td>\n",
       "      <td>30</td>\n",
       "      <td>9</td>\n",
       "      <td>&lt;=50K</td>\n",
       "      <td>24451</td>\n",
       "      <td>0</td>\n",
       "      <td>1</td>\n",
       "      <td>0</td>\n",
       "      <td>0</td>\n",
       "      <td>0</td>\n",
       "      <td>...</td>\n",
       "      <td>0</td>\n",
       "      <td>0</td>\n",
       "      <td>0</td>\n",
       "      <td>1</td>\n",
       "      <td>1</td>\n",
       "      <td>1</td>\n",
       "      <td>0</td>\n",
       "      <td>1</td>\n",
       "      <td>0</td>\n",
       "      <td>1</td>\n",
       "    </tr>\n",
       "  </tbody>\n",
       "</table>\n",
       "<p>1 rows × 38 columns</p>\n",
       "</div>"
      ],
      "text/plain": [
       "   index  age  education.num income     ID  Federal-gov  Local-gov  Private  \\\n",
       "0  24466   30              9  <=50K  24451            0          1        0   \n",
       "\n",
       "   Self-emp-inc  Self-emp-not-inc  ...  Unmarried  Wife  Other  White  Female  \\\n",
       "0             0                 0  ...          0     0      0      1       1   \n",
       "\n",
       "   Minor  Major  Hour_ordinal  Other  United-States  \n",
       "0      1      0             1      0              1  \n",
       "\n",
       "[1 rows x 38 columns]"
      ]
     },
     "execution_count": 196,
     "metadata": {},
     "output_type": "execute_result"
    }
   ],
   "source": [
    "pd.get_dummies(df['native.country'])\n",
    "\n",
    "dummies = pd.get_dummies(df['native.country']) \n",
    "df= pd.concat([df, dummies], axis=1) \n",
    "df = df.drop('native.country', axis=1)\n",
    "df.head(1)"
   ]
  },
  {
   "cell_type": "code",
   "execution_count": 197,
   "id": "thrown-looking",
   "metadata": {
    "id": "thrown-looking"
   },
   "outputs": [],
   "source": [
    "df = df.drop('Other', axis=1)"
   ]
  },
  {
   "cell_type": "markdown",
   "id": "allied-offset",
   "metadata": {
    "id": "allied-offset"
   },
   "source": [
    "## Income:\n",
    "\n",
    "Procedemos a hacer OneHotEncoder con esta columna.\n",
    "\n",
    "Analisamos valores extraños:"
   ]
  },
  {
   "cell_type": "code",
   "execution_count": 198,
   "id": "guided-projector",
   "metadata": {
    "colab": {
     "base_uri": "https://localhost:8080/"
    },
    "id": "guided-projector",
    "outputId": "feef4b88-a3c9-41f8-d4d0-9926f3d9aab8",
    "scrolled": true
   },
   "outputs": [
    {
     "data": {
      "text/plain": [
       "array(['<=50K', '>50K'], dtype=object)"
      ]
     },
     "execution_count": 198,
     "metadata": {},
     "output_type": "execute_result"
    }
   ],
   "source": [
    "df.income.unique()"
   ]
  },
  {
   "cell_type": "code",
   "execution_count": 199,
   "id": "prospective-stopping",
   "metadata": {
    "colab": {
     "base_uri": "https://localhost:8080/",
     "height": 226
    },
    "id": "prospective-stopping",
    "outputId": "0c689128-98b7-4234-89fa-7303fdc3df59"
   },
   "outputs": [
    {
     "data": {
      "text/html": [
       "<div>\n",
       "<style scoped>\n",
       "    .dataframe tbody tr th:only-of-type {\n",
       "        vertical-align: middle;\n",
       "    }\n",
       "\n",
       "    .dataframe tbody tr th {\n",
       "        vertical-align: top;\n",
       "    }\n",
       "\n",
       "    .dataframe thead th {\n",
       "        text-align: right;\n",
       "    }\n",
       "</style>\n",
       "<table border=\"1\" class=\"dataframe\">\n",
       "  <thead>\n",
       "    <tr style=\"text-align: right;\">\n",
       "      <th></th>\n",
       "      <th>index</th>\n",
       "      <th>age</th>\n",
       "      <th>education.num</th>\n",
       "      <th>ID</th>\n",
       "      <th>Federal-gov</th>\n",
       "      <th>Local-gov</th>\n",
       "      <th>Private</th>\n",
       "      <th>Self-emp-inc</th>\n",
       "      <th>Self-emp-not-inc</th>\n",
       "      <th>State-gov</th>\n",
       "      <th>...</th>\n",
       "      <th>Unmarried</th>\n",
       "      <th>Wife</th>\n",
       "      <th>White</th>\n",
       "      <th>Female</th>\n",
       "      <th>Minor</th>\n",
       "      <th>Major</th>\n",
       "      <th>Hour_ordinal</th>\n",
       "      <th>United-States</th>\n",
       "      <th>&lt;=50K</th>\n",
       "      <th>&gt;50K</th>\n",
       "    </tr>\n",
       "  </thead>\n",
       "  <tbody>\n",
       "    <tr>\n",
       "      <th>0</th>\n",
       "      <td>24466</td>\n",
       "      <td>30</td>\n",
       "      <td>9</td>\n",
       "      <td>24451</td>\n",
       "      <td>0</td>\n",
       "      <td>1</td>\n",
       "      <td>0</td>\n",
       "      <td>0</td>\n",
       "      <td>0</td>\n",
       "      <td>0</td>\n",
       "      <td>...</td>\n",
       "      <td>0</td>\n",
       "      <td>0</td>\n",
       "      <td>1</td>\n",
       "      <td>1</td>\n",
       "      <td>1</td>\n",
       "      <td>0</td>\n",
       "      <td>1</td>\n",
       "      <td>1</td>\n",
       "      <td>1</td>\n",
       "      <td>0</td>\n",
       "    </tr>\n",
       "  </tbody>\n",
       "</table>\n",
       "<p>1 rows × 37 columns</p>\n",
       "</div>"
      ],
      "text/plain": [
       "   index  age  education.num     ID  Federal-gov  Local-gov  Private  \\\n",
       "0  24466   30              9  24451            0          1        0   \n",
       "\n",
       "   Self-emp-inc  Self-emp-not-inc  State-gov  ...  Unmarried  Wife  White  \\\n",
       "0             0                 0          0  ...          0     0      1   \n",
       "\n",
       "   Female  Minor  Major  Hour_ordinal  United-States  <=50K  >50K  \n",
       "0       1      1      0             1              1      1     0  \n",
       "\n",
       "[1 rows x 37 columns]"
      ]
     },
     "execution_count": 199,
     "metadata": {},
     "output_type": "execute_result"
    }
   ],
   "source": [
    "pd.get_dummies(df.income)\n",
    "\n",
    "dummies = pd.get_dummies(df.income) \n",
    "df= pd.concat([df, dummies], axis=1) \n",
    "df = df.drop('income', axis=1)\n",
    "\n",
    "df.head(1)"
   ]
  },
  {
   "cell_type": "code",
   "execution_count": 200,
   "id": "overhead-anniversary",
   "metadata": {
    "id": "overhead-anniversary"
   },
   "outputs": [],
   "source": [
    "df = df.drop('>50K', axis=1)"
   ]
  },
  {
   "cell_type": "code",
   "execution_count": 201,
   "id": "convenient-playing",
   "metadata": {
    "colab": {
     "base_uri": "https://localhost:8080/",
     "height": 352
    },
    "id": "convenient-playing",
    "outputId": "20ef3c0f-5cac-4290-d1e0-14f3975b84c7",
    "scrolled": false
   },
   "outputs": [
    {
     "data": {
      "text/html": [
       "<div>\n",
       "<style scoped>\n",
       "    .dataframe tbody tr th:only-of-type {\n",
       "        vertical-align: middle;\n",
       "    }\n",
       "\n",
       "    .dataframe tbody tr th {\n",
       "        vertical-align: top;\n",
       "    }\n",
       "\n",
       "    .dataframe thead th {\n",
       "        text-align: right;\n",
       "    }\n",
       "</style>\n",
       "<table border=\"1\" class=\"dataframe\">\n",
       "  <thead>\n",
       "    <tr style=\"text-align: right;\">\n",
       "      <th></th>\n",
       "      <th>index</th>\n",
       "      <th>age</th>\n",
       "      <th>education.num</th>\n",
       "      <th>ID</th>\n",
       "      <th>Federal-gov</th>\n",
       "      <th>Local-gov</th>\n",
       "      <th>Private</th>\n",
       "      <th>Self-emp-inc</th>\n",
       "      <th>Self-emp-not-inc</th>\n",
       "      <th>State-gov</th>\n",
       "      <th>...</th>\n",
       "      <th>Own-child</th>\n",
       "      <th>Unmarried</th>\n",
       "      <th>Wife</th>\n",
       "      <th>White</th>\n",
       "      <th>Female</th>\n",
       "      <th>Minor</th>\n",
       "      <th>Major</th>\n",
       "      <th>Hour_ordinal</th>\n",
       "      <th>United-States</th>\n",
       "      <th>&lt;=50K</th>\n",
       "    </tr>\n",
       "  </thead>\n",
       "  <tbody>\n",
       "    <tr>\n",
       "      <th>0</th>\n",
       "      <td>24466</td>\n",
       "      <td>30</td>\n",
       "      <td>9</td>\n",
       "      <td>24451</td>\n",
       "      <td>0</td>\n",
       "      <td>1</td>\n",
       "      <td>0</td>\n",
       "      <td>0</td>\n",
       "      <td>0</td>\n",
       "      <td>0</td>\n",
       "      <td>...</td>\n",
       "      <td>1</td>\n",
       "      <td>0</td>\n",
       "      <td>0</td>\n",
       "      <td>1</td>\n",
       "      <td>1</td>\n",
       "      <td>1</td>\n",
       "      <td>0</td>\n",
       "      <td>1</td>\n",
       "      <td>1</td>\n",
       "      <td>1</td>\n",
       "    </tr>\n",
       "    <tr>\n",
       "      <th>1</th>\n",
       "      <td>985</td>\n",
       "      <td>37</td>\n",
       "      <td>13</td>\n",
       "      <td>985</td>\n",
       "      <td>0</td>\n",
       "      <td>0</td>\n",
       "      <td>1</td>\n",
       "      <td>0</td>\n",
       "      <td>0</td>\n",
       "      <td>0</td>\n",
       "      <td>...</td>\n",
       "      <td>0</td>\n",
       "      <td>0</td>\n",
       "      <td>1</td>\n",
       "      <td>1</td>\n",
       "      <td>1</td>\n",
       "      <td>1</td>\n",
       "      <td>0</td>\n",
       "      <td>2</td>\n",
       "      <td>1</td>\n",
       "      <td>0</td>\n",
       "    </tr>\n",
       "    <tr>\n",
       "      <th>2</th>\n",
       "      <td>30250</td>\n",
       "      <td>41</td>\n",
       "      <td>9</td>\n",
       "      <td>30229</td>\n",
       "      <td>0</td>\n",
       "      <td>0</td>\n",
       "      <td>1</td>\n",
       "      <td>0</td>\n",
       "      <td>0</td>\n",
       "      <td>0</td>\n",
       "      <td>...</td>\n",
       "      <td>0</td>\n",
       "      <td>0</td>\n",
       "      <td>0</td>\n",
       "      <td>1</td>\n",
       "      <td>0</td>\n",
       "      <td>1</td>\n",
       "      <td>0</td>\n",
       "      <td>3</td>\n",
       "      <td>1</td>\n",
       "      <td>0</td>\n",
       "    </tr>\n",
       "    <tr>\n",
       "      <th>3</th>\n",
       "      <td>7107</td>\n",
       "      <td>45</td>\n",
       "      <td>13</td>\n",
       "      <td>7107</td>\n",
       "      <td>0</td>\n",
       "      <td>0</td>\n",
       "      <td>1</td>\n",
       "      <td>0</td>\n",
       "      <td>0</td>\n",
       "      <td>0</td>\n",
       "      <td>...</td>\n",
       "      <td>0</td>\n",
       "      <td>0</td>\n",
       "      <td>0</td>\n",
       "      <td>1</td>\n",
       "      <td>0</td>\n",
       "      <td>1</td>\n",
       "      <td>0</td>\n",
       "      <td>3</td>\n",
       "      <td>1</td>\n",
       "      <td>0</td>\n",
       "    </tr>\n",
       "    <tr>\n",
       "      <th>4</th>\n",
       "      <td>27656</td>\n",
       "      <td>28</td>\n",
       "      <td>9</td>\n",
       "      <td>27639</td>\n",
       "      <td>0</td>\n",
       "      <td>0</td>\n",
       "      <td>1</td>\n",
       "      <td>0</td>\n",
       "      <td>0</td>\n",
       "      <td>0</td>\n",
       "      <td>...</td>\n",
       "      <td>0</td>\n",
       "      <td>0</td>\n",
       "      <td>0</td>\n",
       "      <td>1</td>\n",
       "      <td>1</td>\n",
       "      <td>1</td>\n",
       "      <td>0</td>\n",
       "      <td>2</td>\n",
       "      <td>1</td>\n",
       "      <td>1</td>\n",
       "    </tr>\n",
       "  </tbody>\n",
       "</table>\n",
       "<p>5 rows × 36 columns</p>\n",
       "</div>"
      ],
      "text/plain": [
       "   index  age  education.num     ID  Federal-gov  Local-gov  Private  \\\n",
       "0  24466   30              9  24451            0          1        0   \n",
       "1    985   37             13    985            0          0        1   \n",
       "2  30250   41              9  30229            0          0        1   \n",
       "3   7107   45             13   7107            0          0        1   \n",
       "4  27656   28              9  27639            0          0        1   \n",
       "\n",
       "   Self-emp-inc  Self-emp-not-inc  State-gov  ...  Own-child  Unmarried  Wife  \\\n",
       "0             0                 0          0  ...          1          0     0   \n",
       "1             0                 0          0  ...          0          0     1   \n",
       "2             0                 0          0  ...          0          0     0   \n",
       "3             0                 0          0  ...          0          0     0   \n",
       "4             0                 0          0  ...          0          0     0   \n",
       "\n",
       "   White  Female  Minor  Major  Hour_ordinal  United-States  <=50K  \n",
       "0      1       1      1      0             1              1      1  \n",
       "1      1       1      1      0             2              1      0  \n",
       "2      1       0      1      0             3              1      0  \n",
       "3      1       0      1      0             3              1      0  \n",
       "4      1       1      1      0             2              1      1  \n",
       "\n",
       "[5 rows x 36 columns]"
      ]
     },
     "execution_count": 201,
     "metadata": {},
     "output_type": "execute_result"
    }
   ],
   "source": [
    "df.head()"
   ]
  },
  {
   "cell_type": "code",
   "execution_count": 202,
   "id": "italic-consciousness",
   "metadata": {
    "colab": {
     "base_uri": "https://localhost:8080/"
    },
    "id": "italic-consciousness",
    "outputId": "63199d41-935d-45c8-d4a8-fb31697d2201"
   },
   "outputs": [
    {
     "data": {
      "text/plain": [
       "Index(['index', 'age', 'education.num', 'ID', 'Federal-gov', 'Local-gov',\n",
       "       'Private', 'Self-emp-inc', 'Self-emp-not-inc', 'State-gov', 'married',\n",
       "       'Adm-clerical', 'Craft-repair', 'Exec-managerial', 'Farming-fishing',\n",
       "       'Handlers-cleaners', 'Machine-op-inspct', 'Other-service',\n",
       "       'Prof-specialty', 'Protective-serv', 'Sales', 'Tech-support',\n",
       "       'Transport-moving', 'Husband', 'Not-in-family', 'Other-relative',\n",
       "       'Own-child', 'Unmarried', 'Wife', 'White', 'Female', 'Minor', 'Major',\n",
       "       'Hour_ordinal', 'United-States', '<=50K'],\n",
       "      dtype='object')"
      ]
     },
     "execution_count": 202,
     "metadata": {},
     "output_type": "execute_result"
    }
   ],
   "source": [
    "df.columns"
   ]
  },
  {
   "cell_type": "code",
   "execution_count": 203,
   "id": "impaired-kelly",
   "metadata": {
    "colab": {
     "base_uri": "https://localhost:8080/"
    },
    "id": "impaired-kelly",
    "outputId": "ea8c8c61-5fac-4736-ac8b-722a735aa188"
   },
   "outputs": [
    {
     "data": {
      "text/plain": [
       "index                int64\n",
       "age                  int64\n",
       "education.num        int64\n",
       "ID                   int64\n",
       "Federal-gov          uint8\n",
       "Local-gov            uint8\n",
       "Private              uint8\n",
       "Self-emp-inc         uint8\n",
       "Self-emp-not-inc     uint8\n",
       "State-gov            uint8\n",
       "married              uint8\n",
       "Adm-clerical         uint8\n",
       "Craft-repair         uint8\n",
       "Exec-managerial      uint8\n",
       "Farming-fishing      uint8\n",
       "Handlers-cleaners    uint8\n",
       "Machine-op-inspct    uint8\n",
       "Other-service        uint8\n",
       "Prof-specialty       uint8\n",
       "Protective-serv      uint8\n",
       "Sales                uint8\n",
       "Tech-support         uint8\n",
       "Transport-moving     uint8\n",
       "Husband              uint8\n",
       "Not-in-family        uint8\n",
       "Other-relative       uint8\n",
       "Own-child            uint8\n",
       "Unmarried            uint8\n",
       "Wife                 uint8\n",
       "White                uint8\n",
       "Female               uint8\n",
       "Minor                uint8\n",
       "Major                uint8\n",
       "Hour_ordinal         int64\n",
       "United-States        uint8\n",
       "<=50K                uint8\n",
       "dtype: object"
      ]
     },
     "execution_count": 203,
     "metadata": {},
     "output_type": "execute_result"
    }
   ],
   "source": [
    "df.dtypes"
   ]
  },
  {
   "cell_type": "code",
   "execution_count": 204,
   "id": "VhIe9HGJ-sAa",
   "metadata": {
    "id": "VhIe9HGJ-sAa"
   },
   "outputs": [],
   "source": [
    "df=df.reset_index()"
   ]
  },
  {
   "cell_type": "markdown",
   "id": "ffd4c8a2",
   "metadata": {
    "id": "ffd4c8a2",
    "papermill": {
     "duration": 0.113862,
     "end_time": "2022-05-11T17:07:28.998925",
     "exception": false,
     "start_time": "2022-05-11T17:07:28.885063",
     "status": "completed"
    },
    "tags": []
   },
   "source": [
    "# Model fitting"
   ]
  },
  {
   "cell_type": "markdown",
   "id": "listed-circular",
   "metadata": {
    "id": "listed-circular"
   },
   "source": [
    "- Armamos los sets de entrenamiento y prueba"
   ]
  },
  {
   "cell_type": "code",
   "execution_count": 205,
   "id": "honest-thomson",
   "metadata": {
    "id": "honest-thomson"
   },
   "outputs": [],
   "source": [
    "from sklearn.metrics import accuracy_score\n",
    "from sklearn.model_selection import train_test_split\n",
    "from sklearn.tree import DecisionTreeClassifier"
   ]
  },
  {
   "cell_type": "code",
   "execution_count": 206,
   "id": "driving-sleeping",
   "metadata": {
    "id": "driving-sleeping"
   },
   "outputs": [],
   "source": [
    "# GENERAMOS EL DF DE FEATURES Y EL DE TARGET\n",
    "\n",
    "X = df.drop('<=50K', axis=1)\n",
    "\n",
    "y = df['<=50K'] "
   ]
  },
  {
   "cell_type": "code",
   "execution_count": 207,
   "id": "indonesian-technique",
   "metadata": {
    "id": "indonesian-technique"
   },
   "outputs": [],
   "source": [
    "# GENERAMOS LOS SETS\n",
    "\n",
    "X_train, X_test, y_train, y_test = train_test_split(X, y, test_size=0.25, stratify=y, random_state=42)"
   ]
  },
  {
   "cell_type": "code",
   "execution_count": 208,
   "id": "express-balance",
   "metadata": {
    "colab": {
     "base_uri": "https://localhost:8080/"
    },
    "id": "express-balance",
    "outputId": "391890c8-5740-45e2-d96a-04c7aedb3237"
   },
   "outputs": [
    {
     "data": {
      "text/plain": [
       "((19427, 36), (6476, 36), (19427,), (6476,))"
      ]
     },
     "execution_count": 208,
     "metadata": {},
     "output_type": "execute_result"
    }
   ],
   "source": [
    "X_train.shape, X_test.shape, y_train.shape, y_test.shape"
   ]
  },
  {
   "cell_type": "markdown",
   "id": "d6b2e1d3",
   "metadata": {
    "id": "d6b2e1d3",
    "papermill": {
     "duration": 0.11447,
     "end_time": "2022-05-11T17:07:29.228502",
     "exception": false,
     "start_time": "2022-05-11T17:07:29.114032",
     "status": "completed"
    },
    "tags": []
   },
   "source": [
    "## Decision Tree"
   ]
  },
  {
   "cell_type": "code",
   "execution_count": 209,
   "id": "cb61bfd2",
   "metadata": {
    "colab": {
     "base_uri": "https://localhost:8080/"
    },
    "execution": {
     "iopub.execute_input": "2022-05-11T17:07:29.457145Z",
     "iopub.status.busy": "2022-05-11T17:07:29.456707Z",
     "iopub.status.idle": "2022-05-11T17:07:29.685410Z",
     "shell.execute_reply": "2022-05-11T17:07:29.684478Z"
    },
    "id": "cb61bfd2",
    "outputId": "04344715-f0d7-4c6a-eb99-f064087767fc",
    "papermill": {
     "duration": 0.345416,
     "end_time": "2022-05-11T17:07:29.688156",
     "exception": false,
     "start_time": "2022-05-11T17:07:29.342740",
     "status": "completed"
    },
    "tags": []
   },
   "outputs": [
    {
     "data": {
      "text/plain": [
       "DecisionTreeClassifier(criterion='entropy', random_state=42, splitter='random')"
      ]
     },
     "execution_count": 209,
     "metadata": {},
     "output_type": "execute_result"
    }
   ],
   "source": [
    "model= DecisionTreeClassifier(random_state=42,criterion='entropy',splitter='random')\n",
    "model.fit(X_train,y_train)"
   ]
  },
  {
   "cell_type": "code",
   "execution_count": 210,
   "id": "fecc78cc",
   "metadata": {
    "colab": {
     "base_uri": "https://localhost:8080/"
    },
    "execution": {
     "iopub.execute_input": "2022-05-11T17:07:29.953694Z",
     "iopub.status.busy": "2022-05-11T17:07:29.952977Z",
     "iopub.status.idle": "2022-05-11T17:07:29.970306Z",
     "shell.execute_reply": "2022-05-11T17:07:29.969255Z"
    },
    "id": "fecc78cc",
    "outputId": "b20e50c5-c48f-43c7-b886-5d0f940499cc",
    "papermill": {
     "duration": 0.150073,
     "end_time": "2022-05-11T17:07:29.972767",
     "exception": false,
     "start_time": "2022-05-11T17:07:29.822694",
     "status": "completed"
    },
    "tags": []
   },
   "outputs": [
    {
     "data": {
      "text/plain": [
       "0.8001852995676343"
      ]
     },
     "execution_count": 210,
     "metadata": {},
     "output_type": "execute_result"
    }
   ],
   "source": [
    "model.score(X_test,y_test)"
   ]
  },
  {
   "cell_type": "code",
   "execution_count": 211,
   "id": "eleven-garage",
   "metadata": {
    "id": "eleven-garage"
   },
   "outputs": [],
   "source": [
    "pred_train = model.predict(X_train)\n",
    "pred_test = model.predict(X_test)"
   ]
  },
  {
   "cell_type": "code",
   "execution_count": 212,
   "id": "expensive-oliver",
   "metadata": {
    "colab": {
     "base_uri": "https://localhost:8080/"
    },
    "id": "expensive-oliver",
    "outputId": "4ce7af79-8990-47c5-eb39-1ade3dc175f6"
   },
   "outputs": [
    {
     "data": {
      "text/plain": [
       "1.0"
      ]
     },
     "execution_count": 212,
     "metadata": {},
     "output_type": "execute_result"
    }
   ],
   "source": [
    "accuracy_score(y_train, pred_train)"
   ]
  },
  {
   "cell_type": "markdown",
   "id": "1093dc08",
   "metadata": {
    "id": "1093dc08",
    "papermill": {
     "duration": 0.12398,
     "end_time": "2022-05-11T17:07:30.217056",
     "exception": false,
     "start_time": "2022-05-11T17:07:30.093076",
     "status": "completed"
    },
    "tags": []
   },
   "source": [
    "## Random Forest"
   ]
  },
  {
   "cell_type": "code",
   "execution_count": 213,
   "id": "facial-puppy",
   "metadata": {},
   "outputs": [],
   "source": [
    "from sklearn.preprocessing import StandardScaler\n",
    "scaler = StandardScaler()\n",
    "X_train = scaler.fit_transform(X_train)\n",
    "X_test =scaler.transform(X_test)"
   ]
  },
  {
   "cell_type": "code",
   "execution_count": 214,
   "id": "fa69b32a",
   "metadata": {
    "colab": {
     "base_uri": "https://localhost:8080/"
    },
    "execution": {
     "iopub.execute_input": "2022-05-11T17:07:30.460344Z",
     "iopub.status.busy": "2022-05-11T17:07:30.459808Z",
     "iopub.status.idle": "2022-05-11T17:07:34.434607Z",
     "shell.execute_reply": "2022-05-11T17:07:34.433472Z"
    },
    "id": "fa69b32a",
    "outputId": "3667180f-4a69-46ea-851b-ec643fa32152",
    "papermill": {
     "duration": 4.095195,
     "end_time": "2022-05-11T17:07:34.436945",
     "exception": false,
     "start_time": "2022-05-11T17:07:30.341750",
     "status": "completed"
    },
    "tags": []
   },
   "outputs": [
    {
     "data": {
      "text/plain": [
       "RandomForestClassifier(criterion='entropy', max_depth=95, n_estimators=145,\n",
       "                       random_state=40)"
      ]
     },
     "execution_count": 214,
     "metadata": {},
     "output_type": "execute_result"
    }
   ],
   "source": [
    "from sklearn.ensemble import RandomForestClassifier\n",
    "\n",
    "model1 = RandomForestClassifier(n_estimators=145, random_state=40,criterion='entropy',max_depth=95)\n",
    "model1.fit(X_train, y_train)"
   ]
  },
  {
   "cell_type": "code",
   "execution_count": 215,
   "id": "6b0f024b",
   "metadata": {
    "colab": {
     "base_uri": "https://localhost:8080/"
    },
    "execution": {
     "iopub.execute_input": "2022-05-11T17:07:34.677277Z",
     "iopub.status.busy": "2022-05-11T17:07:34.676619Z",
     "iopub.status.idle": "2022-05-11T17:07:35.002804Z",
     "shell.execute_reply": "2022-05-11T17:07:35.002233Z"
    },
    "id": "6b0f024b",
    "outputId": "47a76b22-d454-46ef-e20f-372fa3eb0edc",
    "papermill": {
     "duration": 0.448634,
     "end_time": "2022-05-11T17:07:35.004585",
     "exception": false,
     "start_time": "2022-05-11T17:07:34.555951",
     "status": "completed"
    },
    "tags": []
   },
   "outputs": [
    {
     "data": {
      "text/plain": [
       "0.8567016676961087"
      ]
     },
     "execution_count": 215,
     "metadata": {},
     "output_type": "execute_result"
    }
   ],
   "source": [
    "model1.score(X_test,y_test)"
   ]
  },
  {
   "cell_type": "code",
   "execution_count": 216,
   "id": "floating-silence",
   "metadata": {
    "id": "floating-silence"
   },
   "outputs": [],
   "source": [
    "pred_train = model1.predict(X_train)\n",
    "pred_test = model1.predict(X_test)"
   ]
  },
  {
   "cell_type": "code",
   "execution_count": 217,
   "id": "representative-remark",
   "metadata": {
    "colab": {
     "base_uri": "https://localhost:8080/"
    },
    "id": "representative-remark",
    "outputId": "98030f22-024a-42a3-fbec-00a40de5a5f2"
   },
   "outputs": [
    {
     "data": {
      "text/plain": [
       "1.0"
      ]
     },
     "execution_count": 217,
     "metadata": {},
     "output_type": "execute_result"
    }
   ],
   "source": [
    "accuracy_score(y_train, pred_train)"
   ]
  },
  {
   "cell_type": "markdown",
   "id": "b617fa52",
   "metadata": {
    "id": "b617fa52",
    "papermill": {
     "duration": 0.117435,
     "end_time": "2022-05-11T17:07:38.121765",
     "exception": false,
     "start_time": "2022-05-11T17:07:38.004330",
     "status": "completed"
    },
    "tags": []
   },
   "source": [
    "## KNN"
   ]
  },
  {
   "cell_type": "code",
   "execution_count": 218,
   "id": "dca9c97b",
   "metadata": {
    "colab": {
     "base_uri": "https://localhost:8080/"
    },
    "execution": {
     "iopub.execute_input": "2022-05-11T17:07:38.355015Z",
     "iopub.status.busy": "2022-05-11T17:07:38.354743Z",
     "iopub.status.idle": "2022-05-11T17:07:38.397672Z",
     "shell.execute_reply": "2022-05-11T17:07:38.396717Z"
    },
    "id": "dca9c97b",
    "outputId": "bfdf4bfb-c03f-40d0-93a3-362fbb9c63c4",
    "papermill": {
     "duration": 0.162092,
     "end_time": "2022-05-11T17:07:38.400146",
     "exception": false,
     "start_time": "2022-05-11T17:07:38.238054",
     "status": "completed"
    },
    "tags": []
   },
   "outputs": [
    {
     "data": {
      "text/plain": [
       "KNeighborsClassifier(n_neighbors=23)"
      ]
     },
     "execution_count": 218,
     "metadata": {},
     "output_type": "execute_result"
    }
   ],
   "source": [
    "from sklearn.neighbors import KNeighborsClassifier\n",
    "\n",
    "model = KNeighborsClassifier(n_neighbors=23)\n",
    "model.fit(X_train, y_train)"
   ]
  },
  {
   "cell_type": "code",
   "execution_count": 219,
   "id": "38ac619e",
   "metadata": {
    "colab": {
     "base_uri": "https://localhost:8080/"
    },
    "execution": {
     "iopub.execute_input": "2022-05-11T17:07:38.641242Z",
     "iopub.status.busy": "2022-05-11T17:07:38.640960Z",
     "iopub.status.idle": "2022-05-11T17:07:39.064619Z",
     "shell.execute_reply": "2022-05-11T17:07:39.063821Z"
    },
    "id": "38ac619e",
    "outputId": "f06fad65-a4a3-48de-8206-b61094d38c07",
    "papermill": {
     "duration": 0.544704,
     "end_time": "2022-05-11T17:07:39.066674",
     "exception": false,
     "start_time": "2022-05-11T17:07:38.521970",
     "status": "completed"
    },
    "tags": []
   },
   "outputs": [
    {
     "data": {
      "text/plain": [
       "0.8407967881408277"
      ]
     },
     "execution_count": 219,
     "metadata": {},
     "output_type": "execute_result"
    }
   ],
   "source": [
    "model.score(X_test,y_test)"
   ]
  },
  {
   "cell_type": "code",
   "execution_count": 220,
   "id": "fifteen-livestock",
   "metadata": {
    "id": "fifteen-livestock"
   },
   "outputs": [],
   "source": [
    "pred_train = model.predict(X_train)\n",
    "pred_test = model.predict(X_test)"
   ]
  },
  {
   "cell_type": "code",
   "execution_count": 221,
   "id": "infectious-administrator",
   "metadata": {
    "colab": {
     "base_uri": "https://localhost:8080/"
    },
    "id": "infectious-administrator",
    "outputId": "c0a6b087-60c4-4225-e9a8-8685ed5378c1"
   },
   "outputs": [
    {
     "data": {
      "text/plain": [
       "0.8503114222473876"
      ]
     },
     "execution_count": 221,
     "metadata": {},
     "output_type": "execute_result"
    }
   ],
   "source": [
    "accuracy_score(y_train, pred_train)"
   ]
  },
  {
   "cell_type": "markdown",
   "id": "proved-calgary",
   "metadata": {
    "id": "proved-calgary"
   },
   "source": [
    "## KNN\n",
    "\n",
    "Con otra ponderación"
   ]
  },
  {
   "cell_type": "code",
   "execution_count": 222,
   "id": "otherwise-singer",
   "metadata": {},
   "outputs": [],
   "source": [
    "from sklearn.preprocessing import StandardScaler\n",
    "scaler = StandardScaler()\n",
    "X_train = scaler.fit_transform(X_train)\n",
    "X_test =scaler.transform(X_test)"
   ]
  },
  {
   "cell_type": "markdown",
   "id": "frozen-christopher",
   "metadata": {},
   "source": [
    "- Escalando los datos obtenemos una mejora en el model score de 4%"
   ]
  },
  {
   "cell_type": "code",
   "execution_count": 223,
   "id": "ready-canadian",
   "metadata": {
    "colab": {
     "base_uri": "https://localhost:8080/"
    },
    "id": "ready-canadian",
    "outputId": "06d95182-9b9c-4ea4-81bb-ce459346fbc6"
   },
   "outputs": [
    {
     "data": {
      "text/plain": [
       "KNeighborsClassifier(n_neighbors=23, weights='distance')"
      ]
     },
     "execution_count": 223,
     "metadata": {},
     "output_type": "execute_result"
    }
   ],
   "source": [
    "model = KNeighborsClassifier(n_neighbors=23, weights='distance')\n",
    "model.fit(X_train, y_train)"
   ]
  },
  {
   "cell_type": "code",
   "execution_count": 224,
   "id": "concrete-spotlight",
   "metadata": {
    "colab": {
     "base_uri": "https://localhost:8080/"
    },
    "id": "concrete-spotlight",
    "outputId": "cb50a123-63b2-47e6-efa9-b3ea75391451"
   },
   "outputs": [
    {
     "data": {
      "text/plain": [
       "0.839715873996294"
      ]
     },
     "execution_count": 224,
     "metadata": {},
     "output_type": "execute_result"
    }
   ],
   "source": [
    "model.score(X_test,y_test)"
   ]
  },
  {
   "cell_type": "code",
   "execution_count": 225,
   "id": "alleged-difference",
   "metadata": {
    "id": "alleged-difference"
   },
   "outputs": [],
   "source": [
    "pred_train = model.predict(X_train)\n",
    "pred_test = model.predict(X_test)"
   ]
  },
  {
   "cell_type": "code",
   "execution_count": 226,
   "id": "received-poison",
   "metadata": {
    "colab": {
     "base_uri": "https://localhost:8080/"
    },
    "id": "received-poison",
    "outputId": "41708016-7bed-42a1-d63d-4fbd1d761f7e",
    "scrolled": true
   },
   "outputs": [
    {
     "data": {
      "text/plain": [
       "1.0"
      ]
     },
     "execution_count": 226,
     "metadata": {},
     "output_type": "execute_result"
    }
   ],
   "source": [
    "accuracy_score(y_train, pred_train)"
   ]
  },
  {
   "cell_type": "code",
   "execution_count": 227,
   "id": "exempt-physiology",
   "metadata": {
    "colab": {
     "base_uri": "https://localhost:8080/"
    },
    "id": "exempt-physiology",
    "outputId": "4d772ca7-70ae-44a9-938c-301845c976c5"
   },
   "outputs": [
    {
     "data": {
      "text/plain": [
       "((19427,), (6476,))"
      ]
     },
     "execution_count": 227,
     "metadata": {},
     "output_type": "execute_result"
    }
   ],
   "source": [
    "pred_train.shape , pred_test.shape"
   ]
  },
  {
   "cell_type": "markdown",
   "id": "2dd1d74e",
   "metadata": {
    "id": "2dd1d74e",
    "papermill": {
     "duration": 0.116535,
     "end_time": "2022-05-11T17:07:39.299611",
     "exception": false,
     "start_time": "2022-05-11T17:07:39.183076",
     "status": "completed"
    },
    "tags": []
   },
   "source": [
    "**Random Forest es el mejor modelo con 85% de accuracy.**"
   ]
  },
  {
   "cell_type": "markdown",
   "id": "dressed-blocking",
   "metadata": {
    "id": "dressed-blocking"
   },
   "source": [
    "### Seleccionamos \"Ramdon forest\" para predecir sobre el df \"test\""
   ]
  },
  {
   "cell_type": "code",
   "execution_count": 228,
   "id": "dimensional-casino",
   "metadata": {
    "colab": {
     "base_uri": "https://localhost:8080/",
     "height": 340
    },
    "id": "dimensional-casino",
    "outputId": "597d976e-e50d-4e33-ea20-09eb5b42a404",
    "scrolled": false
   },
   "outputs": [
    {
     "data": {
      "text/html": [
       "<div>\n",
       "<style scoped>\n",
       "    .dataframe tbody tr th:only-of-type {\n",
       "        vertical-align: middle;\n",
       "    }\n",
       "\n",
       "    .dataframe tbody tr th {\n",
       "        vertical-align: top;\n",
       "    }\n",
       "\n",
       "    .dataframe thead th {\n",
       "        text-align: right;\n",
       "    }\n",
       "</style>\n",
       "<table border=\"1\" class=\"dataframe\">\n",
       "  <thead>\n",
       "    <tr style=\"text-align: right;\">\n",
       "      <th></th>\n",
       "      <th>index</th>\n",
       "      <th>age</th>\n",
       "      <th>workclass</th>\n",
       "      <th>education</th>\n",
       "      <th>education.num</th>\n",
       "      <th>marital.status</th>\n",
       "      <th>occupation</th>\n",
       "      <th>relationship</th>\n",
       "      <th>race</th>\n",
       "      <th>sex</th>\n",
       "      <th>capital.gain</th>\n",
       "      <th>capital.loss</th>\n",
       "      <th>hours.per.week</th>\n",
       "      <th>native.country</th>\n",
       "      <th>ID</th>\n",
       "    </tr>\n",
       "  </thead>\n",
       "  <tbody>\n",
       "    <tr>\n",
       "      <th>0</th>\n",
       "      <td>3643</td>\n",
       "      <td>53</td>\n",
       "      <td>Private</td>\n",
       "      <td>Some-college</td>\n",
       "      <td>10</td>\n",
       "      <td>Married-civ-spouse</td>\n",
       "      <td>Machine-op-inspct</td>\n",
       "      <td>Husband</td>\n",
       "      <td>White</td>\n",
       "      <td>Male</td>\n",
       "      <td>3137</td>\n",
       "      <td>0</td>\n",
       "      <td>40</td>\n",
       "      <td>United-States</td>\n",
       "      <td>3643</td>\n",
       "    </tr>\n",
       "    <tr>\n",
       "      <th>1</th>\n",
       "      <td>16041</td>\n",
       "      <td>18</td>\n",
       "      <td>?</td>\n",
       "      <td>11th</td>\n",
       "      <td>7</td>\n",
       "      <td>Never-married</td>\n",
       "      <td>?</td>\n",
       "      <td>Own-child</td>\n",
       "      <td>White</td>\n",
       "      <td>Male</td>\n",
       "      <td>0</td>\n",
       "      <td>0</td>\n",
       "      <td>25</td>\n",
       "      <td>United-States</td>\n",
       "      <td>16036</td>\n",
       "    </tr>\n",
       "    <tr>\n",
       "      <th>2</th>\n",
       "      <td>9403</td>\n",
       "      <td>42</td>\n",
       "      <td>Private</td>\n",
       "      <td>Some-college</td>\n",
       "      <td>10</td>\n",
       "      <td>Married-civ-spouse</td>\n",
       "      <td>Machine-op-inspct</td>\n",
       "      <td>Wife</td>\n",
       "      <td>White</td>\n",
       "      <td>Female</td>\n",
       "      <td>0</td>\n",
       "      <td>0</td>\n",
       "      <td>37</td>\n",
       "      <td>United-States</td>\n",
       "      <td>9401</td>\n",
       "    </tr>\n",
       "    <tr>\n",
       "      <th>3</th>\n",
       "      <td>17909</td>\n",
       "      <td>49</td>\n",
       "      <td>Self-emp-inc</td>\n",
       "      <td>Doctorate</td>\n",
       "      <td>16</td>\n",
       "      <td>Married-civ-spouse</td>\n",
       "      <td>Prof-specialty</td>\n",
       "      <td>Husband</td>\n",
       "      <td>Black</td>\n",
       "      <td>Male</td>\n",
       "      <td>0</td>\n",
       "      <td>0</td>\n",
       "      <td>60</td>\n",
       "      <td>United-States</td>\n",
       "      <td>17903</td>\n",
       "    </tr>\n",
       "    <tr>\n",
       "      <th>4</th>\n",
       "      <td>5198</td>\n",
       "      <td>58</td>\n",
       "      <td>Local-gov</td>\n",
       "      <td>Bachelors</td>\n",
       "      <td>13</td>\n",
       "      <td>Married-civ-spouse</td>\n",
       "      <td>Prof-specialty</td>\n",
       "      <td>Wife</td>\n",
       "      <td>White</td>\n",
       "      <td>Female</td>\n",
       "      <td>0</td>\n",
       "      <td>0</td>\n",
       "      <td>40</td>\n",
       "      <td>United-States</td>\n",
       "      <td>5198</td>\n",
       "    </tr>\n",
       "  </tbody>\n",
       "</table>\n",
       "</div>"
      ],
      "text/plain": [
       "   index  age     workclass     education  education.num      marital.status  \\\n",
       "0   3643   53       Private  Some-college             10  Married-civ-spouse   \n",
       "1  16041   18             ?          11th              7       Never-married   \n",
       "2   9403   42       Private  Some-college             10  Married-civ-spouse   \n",
       "3  17909   49  Self-emp-inc     Doctorate             16  Married-civ-spouse   \n",
       "4   5198   58     Local-gov     Bachelors             13  Married-civ-spouse   \n",
       "\n",
       "          occupation relationship   race     sex  capital.gain  capital.loss  \\\n",
       "0  Machine-op-inspct      Husband  White    Male          3137             0   \n",
       "1                  ?    Own-child  White    Male             0             0   \n",
       "2  Machine-op-inspct         Wife  White  Female             0             0   \n",
       "3     Prof-specialty      Husband  Black    Male             0             0   \n",
       "4     Prof-specialty         Wife  White  Female             0             0   \n",
       "\n",
       "   hours.per.week native.country     ID  \n",
       "0              40  United-States   3643  \n",
       "1              25  United-States  16036  \n",
       "2              37  United-States   9401  \n",
       "3              60  United-States  17903  \n",
       "4              40  United-States   5198  "
      ]
     },
     "execution_count": 228,
     "metadata": {},
     "output_type": "execute_result"
    }
   ],
   "source": [
    "url_test = \"https://raw.githubusercontent.com/EvDelacost/income/main/test.csv\"\n",
    "df = pd.read_csv(url_test)\n",
    "df.head()"
   ]
  },
  {
   "cell_type": "code",
   "execution_count": 229,
   "id": "color-indonesian",
   "metadata": {
    "colab": {
     "base_uri": "https://localhost:8080/"
    },
    "id": "color-indonesian",
    "outputId": "f27e50b2-0514-47f9-de76-d2628d78e02f"
   },
   "outputs": [
    {
     "data": {
      "text/plain": [
       "(4881, 15)"
      ]
     },
     "execution_count": 229,
     "metadata": {},
     "output_type": "execute_result"
    }
   ],
   "source": [
    "df.shape"
   ]
  },
  {
   "cell_type": "code",
   "execution_count": 230,
   "id": "fluid-assembly",
   "metadata": {
    "colab": {
     "base_uri": "https://localhost:8080/",
     "height": 540
    },
    "id": "fluid-assembly",
    "outputId": "2cbd356d-a284-45bd-9274-23fed8145a71"
   },
   "outputs": [
    {
     "data": {
      "text/html": [
       "<div>\n",
       "<style scoped>\n",
       "    .dataframe tbody tr th:only-of-type {\n",
       "        vertical-align: middle;\n",
       "    }\n",
       "\n",
       "    .dataframe tbody tr th {\n",
       "        vertical-align: top;\n",
       "    }\n",
       "\n",
       "    .dataframe thead th {\n",
       "        text-align: right;\n",
       "    }\n",
       "</style>\n",
       "<table border=\"1\" class=\"dataframe\">\n",
       "  <thead>\n",
       "    <tr style=\"text-align: right;\">\n",
       "      <th></th>\n",
       "      <th>index</th>\n",
       "      <th>age</th>\n",
       "      <th>education.num</th>\n",
       "      <th>ID</th>\n",
       "      <th>Federal-gov</th>\n",
       "      <th>Local-gov</th>\n",
       "      <th>Private</th>\n",
       "      <th>Self-emp-inc</th>\n",
       "      <th>Self-emp-not-inc</th>\n",
       "      <th>State-gov</th>\n",
       "      <th>...</th>\n",
       "      <th>Other-relative</th>\n",
       "      <th>Own-child</th>\n",
       "      <th>Unmarried</th>\n",
       "      <th>Wife</th>\n",
       "      <th>White</th>\n",
       "      <th>Female</th>\n",
       "      <th>Minor</th>\n",
       "      <th>Major</th>\n",
       "      <th>Hour_ordinal</th>\n",
       "      <th>United-States</th>\n",
       "    </tr>\n",
       "  </thead>\n",
       "  <tbody>\n",
       "    <tr>\n",
       "      <th>0</th>\n",
       "      <td>3643</td>\n",
       "      <td>53</td>\n",
       "      <td>10</td>\n",
       "      <td>3643</td>\n",
       "      <td>0</td>\n",
       "      <td>0</td>\n",
       "      <td>1</td>\n",
       "      <td>0</td>\n",
       "      <td>0</td>\n",
       "      <td>0</td>\n",
       "      <td>...</td>\n",
       "      <td>0</td>\n",
       "      <td>0</td>\n",
       "      <td>0</td>\n",
       "      <td>0</td>\n",
       "      <td>1</td>\n",
       "      <td>0</td>\n",
       "      <td>1</td>\n",
       "      <td>0</td>\n",
       "      <td>2</td>\n",
       "      <td>1</td>\n",
       "    </tr>\n",
       "    <tr>\n",
       "      <th>1</th>\n",
       "      <td>9403</td>\n",
       "      <td>42</td>\n",
       "      <td>10</td>\n",
       "      <td>9401</td>\n",
       "      <td>0</td>\n",
       "      <td>0</td>\n",
       "      <td>1</td>\n",
       "      <td>0</td>\n",
       "      <td>0</td>\n",
       "      <td>0</td>\n",
       "      <td>...</td>\n",
       "      <td>0</td>\n",
       "      <td>0</td>\n",
       "      <td>0</td>\n",
       "      <td>1</td>\n",
       "      <td>1</td>\n",
       "      <td>1</td>\n",
       "      <td>1</td>\n",
       "      <td>0</td>\n",
       "      <td>1</td>\n",
       "      <td>1</td>\n",
       "    </tr>\n",
       "    <tr>\n",
       "      <th>2</th>\n",
       "      <td>17909</td>\n",
       "      <td>49</td>\n",
       "      <td>16</td>\n",
       "      <td>17903</td>\n",
       "      <td>0</td>\n",
       "      <td>0</td>\n",
       "      <td>0</td>\n",
       "      <td>1</td>\n",
       "      <td>0</td>\n",
       "      <td>0</td>\n",
       "      <td>...</td>\n",
       "      <td>0</td>\n",
       "      <td>0</td>\n",
       "      <td>0</td>\n",
       "      <td>0</td>\n",
       "      <td>0</td>\n",
       "      <td>0</td>\n",
       "      <td>1</td>\n",
       "      <td>0</td>\n",
       "      <td>3</td>\n",
       "      <td>1</td>\n",
       "    </tr>\n",
       "    <tr>\n",
       "      <th>3</th>\n",
       "      <td>5198</td>\n",
       "      <td>58</td>\n",
       "      <td>13</td>\n",
       "      <td>5198</td>\n",
       "      <td>0</td>\n",
       "      <td>1</td>\n",
       "      <td>0</td>\n",
       "      <td>0</td>\n",
       "      <td>0</td>\n",
       "      <td>0</td>\n",
       "      <td>...</td>\n",
       "      <td>0</td>\n",
       "      <td>0</td>\n",
       "      <td>0</td>\n",
       "      <td>1</td>\n",
       "      <td>1</td>\n",
       "      <td>1</td>\n",
       "      <td>1</td>\n",
       "      <td>0</td>\n",
       "      <td>2</td>\n",
       "      <td>1</td>\n",
       "    </tr>\n",
       "    <tr>\n",
       "      <th>4</th>\n",
       "      <td>28783</td>\n",
       "      <td>42</td>\n",
       "      <td>11</td>\n",
       "      <td>28766</td>\n",
       "      <td>0</td>\n",
       "      <td>0</td>\n",
       "      <td>1</td>\n",
       "      <td>0</td>\n",
       "      <td>0</td>\n",
       "      <td>0</td>\n",
       "      <td>...</td>\n",
       "      <td>0</td>\n",
       "      <td>0</td>\n",
       "      <td>0</td>\n",
       "      <td>0</td>\n",
       "      <td>1</td>\n",
       "      <td>1</td>\n",
       "      <td>1</td>\n",
       "      <td>0</td>\n",
       "      <td>2</td>\n",
       "      <td>1</td>\n",
       "    </tr>\n",
       "    <tr>\n",
       "      <th>...</th>\n",
       "      <td>...</td>\n",
       "      <td>...</td>\n",
       "      <td>...</td>\n",
       "      <td>...</td>\n",
       "      <td>...</td>\n",
       "      <td>...</td>\n",
       "      <td>...</td>\n",
       "      <td>...</td>\n",
       "      <td>...</td>\n",
       "      <td>...</td>\n",
       "      <td>...</td>\n",
       "      <td>...</td>\n",
       "      <td>...</td>\n",
       "      <td>...</td>\n",
       "      <td>...</td>\n",
       "      <td>...</td>\n",
       "      <td>...</td>\n",
       "      <td>...</td>\n",
       "      <td>...</td>\n",
       "      <td>...</td>\n",
       "      <td>...</td>\n",
       "    </tr>\n",
       "    <tr>\n",
       "      <th>4541</th>\n",
       "      <td>19475</td>\n",
       "      <td>50</td>\n",
       "      <td>9</td>\n",
       "      <td>19468</td>\n",
       "      <td>0</td>\n",
       "      <td>0</td>\n",
       "      <td>1</td>\n",
       "      <td>0</td>\n",
       "      <td>0</td>\n",
       "      <td>0</td>\n",
       "      <td>...</td>\n",
       "      <td>0</td>\n",
       "      <td>0</td>\n",
       "      <td>1</td>\n",
       "      <td>0</td>\n",
       "      <td>1</td>\n",
       "      <td>1</td>\n",
       "      <td>1</td>\n",
       "      <td>0</td>\n",
       "      <td>2</td>\n",
       "      <td>1</td>\n",
       "    </tr>\n",
       "    <tr>\n",
       "      <th>4542</th>\n",
       "      <td>7554</td>\n",
       "      <td>43</td>\n",
       "      <td>13</td>\n",
       "      <td>7554</td>\n",
       "      <td>0</td>\n",
       "      <td>0</td>\n",
       "      <td>0</td>\n",
       "      <td>0</td>\n",
       "      <td>0</td>\n",
       "      <td>1</td>\n",
       "      <td>...</td>\n",
       "      <td>0</td>\n",
       "      <td>0</td>\n",
       "      <td>0</td>\n",
       "      <td>0</td>\n",
       "      <td>1</td>\n",
       "      <td>0</td>\n",
       "      <td>1</td>\n",
       "      <td>0</td>\n",
       "      <td>2</td>\n",
       "      <td>1</td>\n",
       "    </tr>\n",
       "    <tr>\n",
       "      <th>4543</th>\n",
       "      <td>25091</td>\n",
       "      <td>71</td>\n",
       "      <td>11</td>\n",
       "      <td>25076</td>\n",
       "      <td>0</td>\n",
       "      <td>0</td>\n",
       "      <td>1</td>\n",
       "      <td>0</td>\n",
       "      <td>0</td>\n",
       "      <td>0</td>\n",
       "      <td>...</td>\n",
       "      <td>0</td>\n",
       "      <td>0</td>\n",
       "      <td>0</td>\n",
       "      <td>0</td>\n",
       "      <td>1</td>\n",
       "      <td>1</td>\n",
       "      <td>1</td>\n",
       "      <td>0</td>\n",
       "      <td>2</td>\n",
       "      <td>1</td>\n",
       "    </tr>\n",
       "    <tr>\n",
       "      <th>4544</th>\n",
       "      <td>9733</td>\n",
       "      <td>20</td>\n",
       "      <td>10</td>\n",
       "      <td>9731</td>\n",
       "      <td>0</td>\n",
       "      <td>0</td>\n",
       "      <td>1</td>\n",
       "      <td>0</td>\n",
       "      <td>0</td>\n",
       "      <td>0</td>\n",
       "      <td>...</td>\n",
       "      <td>0</td>\n",
       "      <td>1</td>\n",
       "      <td>0</td>\n",
       "      <td>0</td>\n",
       "      <td>1</td>\n",
       "      <td>0</td>\n",
       "      <td>1</td>\n",
       "      <td>0</td>\n",
       "      <td>2</td>\n",
       "      <td>0</td>\n",
       "    </tr>\n",
       "    <tr>\n",
       "      <th>4545</th>\n",
       "      <td>25273</td>\n",
       "      <td>34</td>\n",
       "      <td>10</td>\n",
       "      <td>25258</td>\n",
       "      <td>0</td>\n",
       "      <td>0</td>\n",
       "      <td>1</td>\n",
       "      <td>0</td>\n",
       "      <td>0</td>\n",
       "      <td>0</td>\n",
       "      <td>...</td>\n",
       "      <td>0</td>\n",
       "      <td>0</td>\n",
       "      <td>0</td>\n",
       "      <td>0</td>\n",
       "      <td>1</td>\n",
       "      <td>0</td>\n",
       "      <td>1</td>\n",
       "      <td>0</td>\n",
       "      <td>3</td>\n",
       "      <td>1</td>\n",
       "    </tr>\n",
       "  </tbody>\n",
       "</table>\n",
       "<p>4546 rows × 35 columns</p>\n",
       "</div>"
      ],
      "text/plain": [
       "      index  age  education.num     ID  Federal-gov  Local-gov  Private  \\\n",
       "0      3643   53             10   3643            0          0        1   \n",
       "1      9403   42             10   9401            0          0        1   \n",
       "2     17909   49             16  17903            0          0        0   \n",
       "3      5198   58             13   5198            0          1        0   \n",
       "4     28783   42             11  28766            0          0        1   \n",
       "...     ...  ...            ...    ...          ...        ...      ...   \n",
       "4541  19475   50              9  19468            0          0        1   \n",
       "4542   7554   43             13   7554            0          0        0   \n",
       "4543  25091   71             11  25076            0          0        1   \n",
       "4544   9733   20             10   9731            0          0        1   \n",
       "4545  25273   34             10  25258            0          0        1   \n",
       "\n",
       "      Self-emp-inc  Self-emp-not-inc  State-gov  ...  Other-relative  \\\n",
       "0                0                 0          0  ...               0   \n",
       "1                0                 0          0  ...               0   \n",
       "2                1                 0          0  ...               0   \n",
       "3                0                 0          0  ...               0   \n",
       "4                0                 0          0  ...               0   \n",
       "...            ...               ...        ...  ...             ...   \n",
       "4541             0                 0          0  ...               0   \n",
       "4542             0                 0          1  ...               0   \n",
       "4543             0                 0          0  ...               0   \n",
       "4544             0                 0          0  ...               0   \n",
       "4545             0                 0          0  ...               0   \n",
       "\n",
       "      Own-child  Unmarried  Wife  White  Female  Minor  Major  Hour_ordinal  \\\n",
       "0             0          0     0      1       0      1      0             2   \n",
       "1             0          0     1      1       1      1      0             1   \n",
       "2             0          0     0      0       0      1      0             3   \n",
       "3             0          0     1      1       1      1      0             2   \n",
       "4             0          0     0      1       1      1      0             2   \n",
       "...         ...        ...   ...    ...     ...    ...    ...           ...   \n",
       "4541          0          1     0      1       1      1      0             2   \n",
       "4542          0          0     0      1       0      1      0             2   \n",
       "4543          0          0     0      1       1      1      0             2   \n",
       "4544          1          0     0      1       0      1      0             2   \n",
       "4545          0          0     0      1       0      1      0             3   \n",
       "\n",
       "      United-States  \n",
       "0                 1  \n",
       "1                 1  \n",
       "2                 1  \n",
       "3                 1  \n",
       "4                 1  \n",
       "...             ...  \n",
       "4541              1  \n",
       "4542              1  \n",
       "4543              1  \n",
       "4544              0  \n",
       "4545              1  \n",
       "\n",
       "[4546 rows x 35 columns]"
      ]
     },
     "execution_count": 230,
     "metadata": {},
     "output_type": "execute_result"
    }
   ],
   "source": [
    "df.drop(df[df['age']>80].index,inplace=True)\n",
    "\n",
    "df.drop(df[df['workclass']=='?'].index,inplace=True)\n",
    "\n",
    "df.drop(df[df['workclass']=='Never-worked'].index,inplace=True)\n",
    "df.drop(df[df['workclass']=='Without-pay'].index,inplace=True)\n",
    "\n",
    "pd.get_dummies(df.workclass)\n",
    "\n",
    "dummies = pd.get_dummies(df.workclass)\n",
    "df = pd.concat([df, dummies], axis=1)\n",
    "df = df.drop('workclass', axis=1)\n",
    "\n",
    "df.drop(['education'],axis=1,inplace=True)\n",
    "\n",
    "df['marital.status']=df['marital.status'].apply(married)\n",
    "\n",
    "\n",
    "pd.get_dummies(df['marital.status'])\n",
    "\n",
    "dummies = pd.get_dummies(df['marital.status'])\n",
    "df= pd.concat([df, dummies], axis=1) \n",
    "\n",
    "df = df.drop('marital.status', axis=1)\n",
    "\n",
    "\n",
    "df = df.drop('not-married', axis=1)\n",
    "\n",
    "df.drop(df[df['occupation']=='Armed-Forces'].index,inplace=True)\n",
    "df.drop(df[df['occupation']=='Priv-house-serv'].index,inplace=True)\n",
    "\n",
    "pd.get_dummies(df.occupation)\n",
    "\n",
    "dummies = pd.get_dummies(df.occupation)\n",
    "\n",
    "df = pd.concat([df, dummies], axis=1) \n",
    "df = df.drop('occupation', axis=1)\n",
    "\n",
    "pd.get_dummies(df.relationship)\n",
    "\n",
    "dummies = pd.get_dummies(df.relationship) \n",
    "df= pd.concat([df, dummies], axis=1) \n",
    "df = df.drop('relationship', axis=1)\n",
    "\n",
    "df['race'].replace(['Black', 'Asian-Pac-Islander', 'Amer-Indian-Eskimo', 'Other'],'Other', inplace = True)\n",
    "\n",
    "pd.get_dummies(df.race)\n",
    "\n",
    "dummies = pd.get_dummies(df.race) \n",
    "df= pd.concat([df, dummies], axis=1) \n",
    "df = df.drop('race', axis=1)\n",
    "\n",
    "pd.get_dummies(df.sex)\n",
    "\n",
    "dummies = pd.get_dummies(df.sex) \n",
    "df= pd.concat([df, dummies], axis=1) \n",
    "df = df.drop('sex', axis=1)\n",
    "\n",
    "df = df.drop('Male', axis=1)\n",
    "\n",
    "\n",
    "df['capital-flow'] = df['capital.gain'] - df['capital.loss']\n",
    "df.drop(['capital.gain'], axis = 1, inplace = True)\n",
    "df.drop(['capital.loss'], axis = 1, inplace = True)\n",
    "\n",
    "\n",
    "df['capital-flow'] = pd.cut(df['capital-flow'], bins = [-5000, 5000, 100000], labels = ['Minor', 'Major'])\n",
    "\n",
    "\n",
    "pd.get_dummies(df['capital-flow'])\n",
    "\n",
    "dummies = pd.get_dummies(df['capital-flow']) \n",
    "df= pd.concat([df, dummies], axis=1) \n",
    "df = df.drop('capital-flow', axis=1)\n",
    "\n",
    "\n",
    "\n",
    "df['hours.per.week']=df['hours.per.week'].apply(hrs_edit)\n",
    "\n",
    "\n",
    "\n",
    "le = preprocessing.LabelEncoder()\n",
    "df['hour_label_encoded'] = le.fit_transform(df['hours.per.week'])\n",
    "\n",
    "hour_ordinal = df['hours.per.week'].replace(mapping_dict)\n",
    "\n",
    "df['Hour_ordinal'] = hour_ordinal\n",
    "\n",
    "\n",
    "df.drop(['hour_label_encoded','hours.per.week'],axis=1,inplace=True)\n",
    "\n",
    "df= df.drop(df[df['native.country'] == ' ?'].index)\n",
    "\n",
    "countries = np.array(df['native.country'].unique())\n",
    "countries = np.delete(countries, 0)\n",
    "df['native.country'].replace(countries, 'Other', inplace = True)\n",
    "\n",
    "\n",
    "pd.get_dummies(df['native.country'])\n",
    "\n",
    "dummies = pd.get_dummies(df['native.country']) \n",
    "df= pd.concat([df, dummies], axis=1) \n",
    "df = df.drop('native.country', axis=1)\n",
    "\n",
    "df.drop(['Other'],axis=1,inplace=True)\n",
    "df=df.reset_index(drop=True)\n",
    "df"
   ]
  },
  {
   "cell_type": "markdown",
   "id": "entire-generic",
   "metadata": {
    "id": "entire-generic"
   },
   "source": [
    "- Predecimos sobre el DF de test"
   ]
  },
  {
   "cell_type": "code",
   "execution_count": 112,
   "id": "amino-palmer",
   "metadata": {
    "id": "amino-palmer"
   },
   "outputs": [],
   "source": [
    "a=df['ID']"
   ]
  },
  {
   "cell_type": "code",
   "execution_count": 113,
   "id": "accepted-washington",
   "metadata": {
    "colab": {
     "base_uri": "https://localhost:8080/",
     "height": 424
    },
    "id": "accepted-washington",
    "outputId": "7caf5da5-9b4d-4e8a-d045-b52aba570b71"
   },
   "outputs": [
    {
     "data": {
      "text/html": [
       "<div>\n",
       "<style scoped>\n",
       "    .dataframe tbody tr th:only-of-type {\n",
       "        vertical-align: middle;\n",
       "    }\n",
       "\n",
       "    .dataframe tbody tr th {\n",
       "        vertical-align: top;\n",
       "    }\n",
       "\n",
       "    .dataframe thead th {\n",
       "        text-align: right;\n",
       "    }\n",
       "</style>\n",
       "<table border=\"1\" class=\"dataframe\">\n",
       "  <thead>\n",
       "    <tr style=\"text-align: right;\">\n",
       "      <th></th>\n",
       "      <th>ID</th>\n",
       "    </tr>\n",
       "  </thead>\n",
       "  <tbody>\n",
       "    <tr>\n",
       "      <th>0</th>\n",
       "      <td>3643</td>\n",
       "    </tr>\n",
       "    <tr>\n",
       "      <th>1</th>\n",
       "      <td>9401</td>\n",
       "    </tr>\n",
       "    <tr>\n",
       "      <th>2</th>\n",
       "      <td>17903</td>\n",
       "    </tr>\n",
       "    <tr>\n",
       "      <th>3</th>\n",
       "      <td>5198</td>\n",
       "    </tr>\n",
       "    <tr>\n",
       "      <th>4</th>\n",
       "      <td>28766</td>\n",
       "    </tr>\n",
       "    <tr>\n",
       "      <th>...</th>\n",
       "      <td>...</td>\n",
       "    </tr>\n",
       "    <tr>\n",
       "      <th>4541</th>\n",
       "      <td>19468</td>\n",
       "    </tr>\n",
       "    <tr>\n",
       "      <th>4542</th>\n",
       "      <td>7554</td>\n",
       "    </tr>\n",
       "    <tr>\n",
       "      <th>4543</th>\n",
       "      <td>25076</td>\n",
       "    </tr>\n",
       "    <tr>\n",
       "      <th>4544</th>\n",
       "      <td>9731</td>\n",
       "    </tr>\n",
       "    <tr>\n",
       "      <th>4545</th>\n",
       "      <td>25258</td>\n",
       "    </tr>\n",
       "  </tbody>\n",
       "</table>\n",
       "<p>4546 rows × 1 columns</p>\n",
       "</div>"
      ],
      "text/plain": [
       "         ID\n",
       "0      3643\n",
       "1      9401\n",
       "2     17903\n",
       "3      5198\n",
       "4     28766\n",
       "...     ...\n",
       "4541  19468\n",
       "4542   7554\n",
       "4543  25076\n",
       "4544   9731\n",
       "4545  25258\n",
       "\n",
       "[4546 rows x 1 columns]"
      ]
     },
     "execution_count": 113,
     "metadata": {},
     "output_type": "execute_result"
    }
   ],
   "source": [
    "a=pd.DataFrame(a,columns = [\"ID\"])\n",
    "a"
   ]
  },
  {
   "cell_type": "code",
   "execution_count": 114,
   "id": "smooth-australia",
   "metadata": {
    "id": "smooth-australia"
   },
   "outputs": [],
   "source": [
    "income = model1.predict(df)"
   ]
  },
  {
   "cell_type": "code",
   "execution_count": 115,
   "id": "interested-developer",
   "metadata": {
    "colab": {
     "base_uri": "https://localhost:8080/"
    },
    "id": "interested-developer",
    "outputId": "cab7cab2-7625-4094-b261-70fb946dcb34",
    "scrolled": true
   },
   "outputs": [
    {
     "name": "stdout",
     "output_type": "stream",
     "text": [
      "[1 1 1 ... 1 1 1]\n"
     ]
    }
   ],
   "source": [
    "print(income)"
   ]
  },
  {
   "cell_type": "code",
   "execution_count": 116,
   "id": "black-carbon",
   "metadata": {
    "colab": {
     "base_uri": "https://localhost:8080/",
     "height": 424
    },
    "id": "black-carbon",
    "outputId": "a4bf82e4-21a2-462d-e244-5203c07440ee",
    "scrolled": true
   },
   "outputs": [
    {
     "data": {
      "text/html": [
       "<div>\n",
       "<style scoped>\n",
       "    .dataframe tbody tr th:only-of-type {\n",
       "        vertical-align: middle;\n",
       "    }\n",
       "\n",
       "    .dataframe tbody tr th {\n",
       "        vertical-align: top;\n",
       "    }\n",
       "\n",
       "    .dataframe thead th {\n",
       "        text-align: right;\n",
       "    }\n",
       "</style>\n",
       "<table border=\"1\" class=\"dataframe\">\n",
       "  <thead>\n",
       "    <tr style=\"text-align: right;\">\n",
       "      <th></th>\n",
       "      <th>income</th>\n",
       "    </tr>\n",
       "  </thead>\n",
       "  <tbody>\n",
       "    <tr>\n",
       "      <th>0</th>\n",
       "      <td>1</td>\n",
       "    </tr>\n",
       "    <tr>\n",
       "      <th>1</th>\n",
       "      <td>1</td>\n",
       "    </tr>\n",
       "    <tr>\n",
       "      <th>2</th>\n",
       "      <td>1</td>\n",
       "    </tr>\n",
       "    <tr>\n",
       "      <th>3</th>\n",
       "      <td>1</td>\n",
       "    </tr>\n",
       "    <tr>\n",
       "      <th>4</th>\n",
       "      <td>1</td>\n",
       "    </tr>\n",
       "    <tr>\n",
       "      <th>...</th>\n",
       "      <td>...</td>\n",
       "    </tr>\n",
       "    <tr>\n",
       "      <th>4541</th>\n",
       "      <td>1</td>\n",
       "    </tr>\n",
       "    <tr>\n",
       "      <th>4542</th>\n",
       "      <td>1</td>\n",
       "    </tr>\n",
       "    <tr>\n",
       "      <th>4543</th>\n",
       "      <td>1</td>\n",
       "    </tr>\n",
       "    <tr>\n",
       "      <th>4544</th>\n",
       "      <td>1</td>\n",
       "    </tr>\n",
       "    <tr>\n",
       "      <th>4545</th>\n",
       "      <td>1</td>\n",
       "    </tr>\n",
       "  </tbody>\n",
       "</table>\n",
       "<p>4546 rows × 1 columns</p>\n",
       "</div>"
      ],
      "text/plain": [
       "      income\n",
       "0          1\n",
       "1          1\n",
       "2          1\n",
       "3          1\n",
       "4          1\n",
       "...      ...\n",
       "4541       1\n",
       "4542       1\n",
       "4543       1\n",
       "4544       1\n",
       "4545       1\n",
       "\n",
       "[4546 rows x 1 columns]"
      ]
     },
     "execution_count": 116,
     "metadata": {},
     "output_type": "execute_result"
    }
   ],
   "source": [
    "y=pd.DataFrame(income,columns = [\"income\"])\n",
    "y"
   ]
  },
  {
   "cell_type": "code",
   "execution_count": 117,
   "id": "plain-south",
   "metadata": {
    "colab": {
     "base_uri": "https://localhost:8080/"
    },
    "id": "plain-south",
    "outputId": "6cfe524a-45d0-4fe3-e9e4-610cce7803d4"
   },
   "outputs": [
    {
     "data": {
      "text/plain": [
       "income    0\n",
       "dtype: int64"
      ]
     },
     "execution_count": 117,
     "metadata": {},
     "output_type": "execute_result"
    }
   ],
   "source": [
    "y.isnull().sum()"
   ]
  },
  {
   "cell_type": "markdown",
   "id": "disciplinary-benjamin",
   "metadata": {},
   "source": [
    "### CONCATENAR\n",
    "\n",
    "Para resentear el index en los DF al momento de concatenar tenemos que resetear el index, sino hay diferencia de indices y se genera NaN\n",
    "\n",
    "**pd.concat(X.reset_index(drop=True))**"
   ]
  },
  {
   "cell_type": "code",
   "execution_count": 118,
   "id": "scTaEQNyvDRy",
   "metadata": {
    "colab": {
     "base_uri": "https://localhost:8080/",
     "height": 424
    },
    "id": "scTaEQNyvDRy",
    "outputId": "e4e61062-64d9-452b-b7d7-df13752f6e91"
   },
   "outputs": [
    {
     "data": {
      "text/html": [
       "<div>\n",
       "<style scoped>\n",
       "    .dataframe tbody tr th:only-of-type {\n",
       "        vertical-align: middle;\n",
       "    }\n",
       "\n",
       "    .dataframe tbody tr th {\n",
       "        vertical-align: top;\n",
       "    }\n",
       "\n",
       "    .dataframe thead th {\n",
       "        text-align: right;\n",
       "    }\n",
       "</style>\n",
       "<table border=\"1\" class=\"dataframe\">\n",
       "  <thead>\n",
       "    <tr style=\"text-align: right;\">\n",
       "      <th></th>\n",
       "      <th>ID</th>\n",
       "      <th>income</th>\n",
       "    </tr>\n",
       "  </thead>\n",
       "  <tbody>\n",
       "    <tr>\n",
       "      <th>0</th>\n",
       "      <td>3643</td>\n",
       "      <td>1</td>\n",
       "    </tr>\n",
       "    <tr>\n",
       "      <th>1</th>\n",
       "      <td>9401</td>\n",
       "      <td>1</td>\n",
       "    </tr>\n",
       "    <tr>\n",
       "      <th>2</th>\n",
       "      <td>17903</td>\n",
       "      <td>1</td>\n",
       "    </tr>\n",
       "    <tr>\n",
       "      <th>3</th>\n",
       "      <td>5198</td>\n",
       "      <td>1</td>\n",
       "    </tr>\n",
       "    <tr>\n",
       "      <th>4</th>\n",
       "      <td>28766</td>\n",
       "      <td>1</td>\n",
       "    </tr>\n",
       "    <tr>\n",
       "      <th>...</th>\n",
       "      <td>...</td>\n",
       "      <td>...</td>\n",
       "    </tr>\n",
       "    <tr>\n",
       "      <th>4541</th>\n",
       "      <td>19468</td>\n",
       "      <td>1</td>\n",
       "    </tr>\n",
       "    <tr>\n",
       "      <th>4542</th>\n",
       "      <td>7554</td>\n",
       "      <td>1</td>\n",
       "    </tr>\n",
       "    <tr>\n",
       "      <th>4543</th>\n",
       "      <td>25076</td>\n",
       "      <td>1</td>\n",
       "    </tr>\n",
       "    <tr>\n",
       "      <th>4544</th>\n",
       "      <td>9731</td>\n",
       "      <td>1</td>\n",
       "    </tr>\n",
       "    <tr>\n",
       "      <th>4545</th>\n",
       "      <td>25258</td>\n",
       "      <td>1</td>\n",
       "    </tr>\n",
       "  </tbody>\n",
       "</table>\n",
       "<p>4546 rows × 2 columns</p>\n",
       "</div>"
      ],
      "text/plain": [
       "         ID  income\n",
       "0      3643       1\n",
       "1      9401       1\n",
       "2     17903       1\n",
       "3      5198       1\n",
       "4     28766       1\n",
       "...     ...     ...\n",
       "4541  19468       1\n",
       "4542   7554       1\n",
       "4543  25076       1\n",
       "4544   9731       1\n",
       "4545  25258       1\n",
       "\n",
       "[4546 rows x 2 columns]"
      ]
     },
     "execution_count": 118,
     "metadata": {},
     "output_type": "execute_result"
    }
   ],
   "source": [
    "test = pd.concat([a,y], axis=1, )\n",
    "test"
   ]
  },
  {
   "cell_type": "code",
   "execution_count": 119,
   "id": "4iXQbXB8onSQ",
   "metadata": {
    "colab": {
     "base_uri": "https://localhost:8080/"
    },
    "id": "4iXQbXB8onSQ",
    "outputId": "29e94a9a-9e57-49e9-9e8c-3f8dd03ac4ff"
   },
   "outputs": [
    {
     "data": {
      "text/plain": [
       "<bound method DataFrame.info of          ID  income\n",
       "0      3643       1\n",
       "1      9401       1\n",
       "2     17903       1\n",
       "3      5198       1\n",
       "4     28766       1\n",
       "...     ...     ...\n",
       "4541  19468       1\n",
       "4542   7554       1\n",
       "4543  25076       1\n",
       "4544   9731       1\n",
       "4545  25258       1\n",
       "\n",
       "[4546 rows x 2 columns]>"
      ]
     },
     "execution_count": 119,
     "metadata": {},
     "output_type": "execute_result"
    }
   ],
   "source": [
    "test.info"
   ]
  },
  {
   "cell_type": "code",
   "execution_count": 120,
   "id": "yDUlIljc4J4U",
   "metadata": {
    "colab": {
     "base_uri": "https://localhost:8080/"
    },
    "id": "yDUlIljc4J4U",
    "outputId": "2f478a81-7745-41b9-c453-9717b2383b28"
   },
   "outputs": [
    {
     "data": {
      "text/plain": [
       "ID        0\n",
       "income    0\n",
       "dtype: int64"
      ]
     },
     "execution_count": 120,
     "metadata": {},
     "output_type": "execute_result"
    }
   ],
   "source": [
    "test.isna().sum()"
   ]
  },
  {
   "cell_type": "code",
   "execution_count": 121,
   "id": "tkEeRBUz4WBm",
   "metadata": {
    "id": "tkEeRBUz4WBm"
   },
   "outputs": [],
   "source": [
    "y.to_csv(\"y.cvs\")"
   ]
  },
  {
   "cell_type": "markdown",
   "id": "another-briefs",
   "metadata": {},
   "source": [
    " ### MÉTRICAS de CLASIFICACIÓN\n",
    " \n",
    " Aplicadas al set del modelo \"Ramdon forest\""
   ]
  },
  {
   "cell_type": "code",
   "execution_count": 122,
   "id": "close-router",
   "metadata": {},
   "outputs": [
    {
     "data": {
      "text/plain": [
       "array([[1008,  624],\n",
       "       [ 414, 4430]], dtype=int64)"
      ]
     },
     "execution_count": 122,
     "metadata": {},
     "output_type": "execute_result"
    }
   ],
   "source": [
    "from sklearn.metrics import confusion_matrix\n",
    "\n",
    "confusion_matrix(y_test, pred_test)"
   ]
  },
  {
   "cell_type": "code",
   "execution_count": 123,
   "id": "reverse-budapest",
   "metadata": {},
   "outputs": [
    {
     "data": {
      "image/png": "[encoded data removed]",
      "text/plain": [
       "<Figure size 432x288 with 2 Axes>"
      ]
     },
     "metadata": {
      "needs_background": "light"
     },
     "output_type": "display_data"
    }
   ],
   "source": [
    "from sklearn.metrics import plot_confusion_matrix\n",
    "\n",
    "plot_confusion_matrix(model1, X_test, y_test)\n",
    "plt.show()\n"
   ]
  },
  {
   "cell_type": "code",
   "execution_count": 124,
   "id": "tracked-straight",
   "metadata": {},
   "outputs": [
    {
     "name": "stdout",
     "output_type": "stream",
     "text": [
      "              precision    recall  f1-score   support\n",
      "\n",
      "           0       0.71      0.62      0.66      1632\n",
      "           1       0.88      0.91      0.90      4844\n",
      "\n",
      "    accuracy                           0.84      6476\n",
      "   macro avg       0.79      0.77      0.78      6476\n",
      "weighted avg       0.83      0.84      0.84      6476\n",
      "\n"
     ]
    }
   ],
   "source": [
    "from sklearn.metrics import classification_report\n",
    "\n",
    "print(classification_report(y_test, pred_test))"
   ]
  },
  {
   "cell_type": "markdown",
   "id": "german-mississippi",
   "metadata": {},
   "source": [
    "RECORDAR QUE EL PREPROCESAMIENTO SE HACE SOBRE EL **X**_TEST Y **X**_TRAIN, NO SOBRE EL DF COMPLETO. Y LA PARTE **y** NO SE TOCA"
   ]
  },
  {
   "cell_type": "markdown",
   "id": "proved-clause",
   "metadata": {},
   "source": [
    "### Métricas de clasificación para ramdom forest: como es un modelo de clasificacion vamos a aplicarle de manera iterativa una metrica de clasificación F1 scrore y lo graficaremos\n"
   ]
  },
  {
   "cell_type": "code",
   "execution_count": 128,
   "id": "expired-festival",
   "metadata": {},
   "outputs": [
    {
     "data": {
      "image/png": "[encoded data removed]",
      "text/plain": [
       "<Figure size 504x504 with 1 Axes>"
      ]
     },
     "metadata": {
      "needs_background": "light"
     },
     "output_type": "display_data"
    }
   ],
   "source": [
    "from sklearn.metrics import f1_score\n",
    "\n",
    "\n",
    "train_fscores = []\n",
    "test_fscores = []\n",
    "max_depths = np.arange(1, 150)\n",
    "\n",
    "\n",
    "for i in max_depths:\n",
    "  model = RandomForestClassifier(n_estimators=i+50, random_state=40,criterion='entropy',max_depth=i)\n",
    "  model.fit(X_train, y_train)\n",
    "  train_preds = model.predict(X_train)\n",
    "  test_preds = model.predict(X_test)\n",
    "  train_fscores.append(f1_score(y_train, train_preds))\n",
    "  test_fscores.append(f1_score(y_test, test_preds))\n",
    "    \n",
    "    \n",
    "plt.figure(figsize=(7,7))\n",
    "\n",
    "plt.plot(max_depths, train_fscores, label=\"train\")\n",
    "plt.plot(max_depths, test_fscores,  label=\"test\")\n",
    "plt.xticks(max_depths)\n",
    "plt.legend()\n",
    "plt.show() \n",
    "    "
   ]
  },
  {
   "cell_type": "code",
   "execution_count": null,
   "id": "manual-newcastle",
   "metadata": {},
   "outputs": [],
   "source": []
  }
 ],
 "metadata": {
  "colab": {
   "collapsed_sections": [],
   "name": "PRIMER SPRINT 10-6_grupo1.ipynb",
   "provenance": []
  },
  "kernelspec": {
   "display_name": "Python 3",
   "language": "python",
   "name": "python3"
  },
  "language_info": {
   "codemirror_mode": {
    "name": "ipython",
    "version": 3
   },
   "file_extension": ".py",
   "mimetype": "text/x-python",
   "name": "python",
   "nbconvert_exporter": "python",
   "pygments_lexer": "ipython3",
   "version": "3.8.5"
  },
  "papermill": {
   "default_parameters": {},
   "duration": 50.477019,
   "end_time": "2022-05-11T17:07:40.239444",
   "environment_variables": {},
   "exception": null,
   "input_path": "__notebook__.ipynb",
   "output_path": "__notebook__.ipynb",
   "parameters": {},
   "start_time": "2022-05-11T17:06:49.762425",
   "version": "2.3.4"
  }
 },
 "nbformat": 4,
 "nbformat_minor": 5
}
